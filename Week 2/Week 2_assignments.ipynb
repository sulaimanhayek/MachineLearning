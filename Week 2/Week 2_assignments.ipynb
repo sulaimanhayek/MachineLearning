{
 "cells": [
  {
   "cell_type": "markdown",
   "metadata": {
    "id": "UNybzyu2cpQd"
   },
   "source": [
    "**These assignments are ungraded and are NOT to be submitted. Feedback is NOT available for these assignments, but you are welcome to discuss with a TA, or with me during one of the office hours, if you have any questions.**"
   ]
  },
  {
   "cell_type": "markdown",
   "metadata": {
    "id": "PfRhaIwxa2XK"
   },
   "source": [
    "# Optional Assignment 1 - Collect data on self"
   ]
  },
  {
   "cell_type": "markdown",
   "metadata": {
    "id": "i5i-ScdHbG8c"
   },
   "source": [
    "Toward Week 8 lab exercises, you could collect some training (and test) data on yourself. The advantage of trying out this exercise is that it would help you have a more hands-on experience with data collection and further help you have a more practical reflection and understanding of the challenges of collecting data for ML as well as of valuable considerations.\n",
    "\n",
    "\n",
    "> <ins>**IMPORTANT**</ins> - Note that you **must only** collect or use data from yourself and not any other person (not even family members, friends, or classmates). Collecting data from human subjects (beyond yourself) and performing any scientific experiments on human subjects (including yourself) would require thorough review by an appropriate research ethics review committee. Read and complete the ethics form here: https://www.sussex.ac.uk/ei/internal/documents/user-testing-compliance-form-for-ug-and-pgt-projects-v4-drafting.docx before you start collecting any of the data.\n",
    "\n",
    "To collect the self-tracking data, you can use any data diary; but an electronic spreadsheet saved as a csv file would be readily usable for ML. Collect the following data <ins>daily</ins> for your diary:\n",
    "\n",
    "1. Date [on wake up]\n",
    "2. Time [on wake up]\n",
    "3. Hours of sleep [on wake up]\n",
    "4. How sleepy do you feel on a scale from 0 for not at all to 10 for extremely sleepy? [on wake up]\n",
    "5. How well rested do you feel on a scale from 0 for not at all to 10 for extremely? [on wake up]\n",
    "6. Outdoor temperature [on wake up]\n",
    "7. Indoor temperature [on wake up]\n",
    "8. Litres of black tea consumed [in previous day]\n",
    "9. Litres of coffee consumed [in previous day]\n",
    "10. Litres of other beverages consumed (including water) [in previous day]\n",
    "11. Hours of screen activity (mobile device, computer, TV) [in previous day]\n",
    "12. Minutes of seated activity [in previous day]\n",
    "13. Minutes of light physical activity (PA), e.g. household chores [in previous day]\n",
    "14. Minutes of moderate PA, e.g. brisk walking [in previous day]\n",
    "15. Minutes of vigorous PA, e.g. sports activities [in previous day]\n",
    "16. Minutes of academic activity [in previous day]\n",
    "17. Minutes between academic activity and bed time\n",
    "18. Minutes between last meal and bed time\n",
    "19. Minutes between last drink and bed time\n",
    "20. Hours of sleep [for previous day]\n",
    "21. Hours of during-the-day sleep after waking [in previous day]\n",
    "\n",
    "\n",
    "\n",
    "Ideally, you want to make sure that each data field is completed, but you can having a blank space or 'NA' for any missing data. It is best to complete Items 1-7 and 17-19 immediately on waking up, while Items 8-16 and 20-21 might be best completed as the last thing at bed time before sleep.\n",
    "\n"
   ]
  },
  {
   "cell_type": "markdown",
   "metadata": {
    "id": "clglnm9k5G-p"
   },
   "source": [
    "# Optional Assignment 2 - Implement own kNN model from scratch"
   ]
  },
  {
   "cell_type": "markdown",
   "metadata": {
    "id": "DMQ0bnCh5rDU"
   },
   "source": [
    "Instead of using the Scikit-learn library, write your own code for implementing a k-nearest neighbour algorithm on the Iris dataset, based on your knowledge of the algorithm from Week 2 lecture. Compare with the Scikit-learn library's (setting the *sklearn.neighbors.KNeighborsClassifier* 'algorithm' parameter to 'brute')."
   ]
  },
  {
   "cell_type": "code",
   "execution_count": 1,
   "metadata": {
    "id": "c_asVt80dwbY"
   },
   "outputs": [],
   "source": [
    "# calculate the Euclidean distance between two vectors\n",
    "def euclidean_distance(row1, row2):\n",
    "\tdistance = 0.0\n",
    "\tfor i in range(len(row1)-1):\n",
    "\t\tdistance += (row1[i] - row2[i])**2\n",
    "\treturn sqrt(distance)"
   ]
  },
  {
   "cell_type": "code",
   "execution_count": null,
   "metadata": {},
   "outputs": [],
   "source": [
    "# Locate the most similar neighbors\n",
    "def get_neighbors(train, test_row, num_neighbors):\n",
    "\tdistances = list()\n",
    "\tfor train_row in train:\n",
    "\t\tdist = euclidean_distance(test_row, train_row)\n",
    "\t\tdistances.append((train_row, dist))\n",
    "\tdistances.sort(key=lambda tup: tup[1])\n",
    "\tneighbors = list()\n",
    "\tfor i in range(num_neighbors):\n",
    "\t\tneighbors.append(distances[i][0])\n",
    "\treturn neighbors"
   ]
  }
 ],
 "metadata": {
  "colab": {
   "authorship_tag": "ABX9TyMJp9nMlUd645Wn4zlpCx9R",
   "collapsed_sections": [
    "PfRhaIwxa2XK",
    "clglnm9k5G-p"
   ],
   "provenance": []
  },
  "kernelspec": {
   "display_name": "Python 3",
   "name": "python3"
  },
  "language_info": {
   "codemirror_mode": {
    "name": "ipython",
    "version": 3
   },
   "file_extension": ".py",
   "mimetype": "text/x-python",
   "name": "python",
   "nbconvert_exporter": "python",
   "pygments_lexer": "ipython3",
   "version": "3.13.1"
  }
 },
 "nbformat": 4,
 "nbformat_minor": 0
}
