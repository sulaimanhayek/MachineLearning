{
 "cells": [
  {
   "cell_type": "markdown",
   "metadata": {
    "id": "ZFxv8_7fU5b_"
   },
   "source": [
    "# Objectives"
   ]
  },
  {
   "cell_type": "markdown",
   "metadata": {
    "id": "VzA6agO_VFY-"
   },
   "source": [
    "\n",
    "* To explore an existing dataset\n",
    "> This week, we'll use the Iris dataset. You can read more about it here: https://scikit-learn.org/stable/datasets/toy_dataset.html.\n",
    "\n",
    "* To apply k-nearest neighbour (kNN) and Bagging algorithms from Week 2 lecture to classification of Iris plants based on petal and sepal sizes."
   ]
  },
  {
   "cell_type": "markdown",
   "metadata": {
    "id": "hwNfnB2EWiGG"
   },
   "source": [
    "# Section 1 - Load the Iris dataset"
   ]
  },
  {
   "cell_type": "code",
   "execution_count": 4,
   "metadata": {
    "id": "tf55cLnXmTpv"
   },
   "outputs": [
    {
     "name": "stdout",
     "output_type": "stream",
     "text": [
      "The dimensions of the Iris feature matrix (150, 4)\n"
     ]
    }
   ],
   "source": [
    "from sklearn import datasets\n",
    "\n",
    "iris_data, iris_labels = datasets.load_iris(return_X_y=True, as_frame=False)\n",
    "\n",
    "print(\"The dimensions of the Iris feature matrix\", iris_data.shape)"
   ]
  },
  {
   "cell_type": "markdown",
   "metadata": {
    "id": "jYc8W4i7wrZt"
   },
   "source": [
    "# Section 2 - Explore the Iris dataset"
   ]
  },
  {
   "cell_type": "markdown",
   "metadata": {
    "id": "O6GA8LoSwutB"
   },
   "source": [
    "* Read about the Iris dataset here: https://scikit-learn.org/stable/datasets/toy_dataset.html\n",
    "* What type of labels does it have (real continuous or categorical)? What kind of machine learning task is this type of label suited to, i.e. classification or regression?\n",
    "* What is the feature dimensionality of the dataset, i.e. the number of features?\n",
    "* How many data instances are there? What is the distribution of instances across classes?\n",
    "\n",
    "\n",
    "\n",
    "---\n",
    "\n",
    "\n",
    "* Select one of the features. What association does the selected feature have with the iris classes, with respect to differentiating between them (Hint - use a search engine to read about Iris Setosa, Iris Versicolour, and Iris Virginica plant)?\n",
    "* What factors do you think limited the number of data instances per class?\n",
    "* How do you think the data was collected? What implication would this have for real world deployment of a model for automatic detection of iris classes based on this dataset?\n",
    "* How do you think it was labelled? What kind of challenge might this pose for collection of more training data (and labels) for automatic detection of iris classes?"
   ]
  },
  {
   "cell_type": "markdown",
   "metadata": {
    "id": "3BkcCH1ynLY0"
   },
   "source": [
    "# Section 3 - Split into training and test sets"
   ]
  },
  {
   "cell_type": "code",
   "execution_count": 3,
   "metadata": {
    "id": "r4w8BDBOnsbX"
   },
   "outputs": [
    {
     "name": "stdout",
     "output_type": "stream",
     "text": [
      "Size of the training data: (75, 4)\n",
      "Size of the ttest data: (75, 4)\n"
     ]
    }
   ],
   "source": [
    "import numpy\n",
    "\n",
    "# Randomly split the data into 50:50 training:test sets\n",
    "random_seed = 1\n",
    "rng =  numpy.random.default_rng(random_seed)\n",
    "rand_inds = numpy.arange(iris_labels.shape[0],)\n",
    "rng.shuffle(rand_inds)\n",
    "split_point = int(0.5*iris_labels.shape[0])\n",
    "\n",
    "training_data = iris_data[rand_inds[0:split_point], :]\n",
    "training_labels = iris_labels[rand_inds[0:split_point]]\n",
    "test_data = iris_data[rand_inds[split_point:iris_labels.shape[0]], :]\n",
    "test_labels = iris_labels[rand_inds[split_point:iris_labels.shape[0]]]\n",
    "\n",
    "print(\"Size of the training data:\", training_data.shape)\n",
    "print(\"Size of the ttest data:\", test_data.shape)"
   ]
  },
  {
   "cell_type": "markdown",
   "metadata": {
    "id": "Iy9ViItU9bNm"
   },
   "source": [
    "# Section 4 - Train and evaluate a kNN model"
   ]
  },
  {
   "cell_type": "code",
   "execution_count": null,
   "metadata": {
    "id": "UmAsAN76qZHs"
   },
   "outputs": [],
   "source": [
    "from sklearn.neighbors import KNeighborsClassifier\n",
    "from sklearn.metrics import accuracy_score\n",
    "\n",
    "model_kNN = KNeighborsClassifier(n_neighbors=5)\n",
    "model_kNN.fit(training_data, training_labels)\n",
    "test_predictions_kNN = model_kNN.predict(test_data)\n",
    "\n",
    "print(\"\\n What proportion of the kNN test predictions were correct? %.2f \" % accuracy_score(test_labels, test_predictions_kNN))"
   ]
  },
  {
   "cell_type": "markdown",
   "metadata": {
    "id": "yCS_gYcQ9omh"
   },
   "source": [
    "# Section 5 - Visually explore the data and predictions"
   ]
  },
  {
   "cell_type": "markdown",
   "metadata": {
    "id": "A4B8O50SEjVu"
   },
   "source": [
    "* Use data visualization to explore how separable the three iris classes are.\n"
   ]
  },
  {
   "cell_type": "markdown",
   "metadata": {
    "id": "yYvcDmaC1E4Q"
   },
   "source": [
    "# Section 6 - Explore the effect of the kNN hyperparameters"
   ]
  },
  {
   "cell_type": "markdown",
   "metadata": {
    "id": "iC5NmGl-1M8e"
   },
   "source": [
    "* Try different values of k, i.e. the number of nearest neighbours, e.g. k = 1, 2, 5, 10, 20. What effect of k do you notice?\n",
    "* Try a different distance metric. See https://scikit-learn.org/stable/modules/generated/sklearn.neighbors.KNeighborsClassifier.html."
   ]
  },
  {
   "cell_type": "markdown",
   "metadata": {
    "id": "AK4ayJfatpMq"
   },
   "source": [
    "# Section 7 - Train and evaluate a Bagging model"
   ]
  },
  {
   "cell_type": "code",
   "execution_count": null,
   "metadata": {
    "id": "Lde0CVKatorT"
   },
   "outputs": [],
   "source": [
    "from sklearn.ensemble import BaggingClassifier\n",
    "import math\n",
    "\n",
    "# Set the max number of features to be used to split each node for each tree\n",
    "max_feats = int(math.sqrt(training_data.shape[1]))\n",
    "\n",
    "model_B = BaggingClassifier(n_estimators=10, max_features=max_feats, random_state=random_seed)\n",
    "model_B.fit(training_data, training_labels)\n",
    "test_predictions_B = model_B.predict(test_data)\n",
    "\n",
    "\n",
    "print(\"\\n What proportion of the Bagging test predictions were correct? %.2f \" % accuracy_score(test_labels, test_predictions_B))"
   ]
  },
  {
   "cell_type": "markdown",
   "metadata": {
    "id": "MjgsAEg7nBae"
   },
   "source": [
    "# Section 8 - Explore the effect of the Bagging hyperparameters"
   ]
  },
  {
   "cell_type": "markdown",
   "metadata": {
    "id": "q3UOeYy9KwN-"
   },
   "source": [
    "* Try different numbers of base classifiers, i.e. trees, e.g. n = 1, 10, 100, 1000. What effect of the number of trees do you notice?"
   ]
  },
  {
   "cell_type": "markdown",
   "metadata": {
    "id": "tiFdu9kB7CRQ"
   },
   "source": [
    "# Section 9 - Explore split into training and test sets"
   ]
  },
  {
   "cell_type": "markdown",
   "metadata": {
    "id": "lfdWPjAuTJmF"
   },
   "source": [
    "* How was the Iris dataset split into training and test sets? See Section 3.\n",
    "* Randomly split the dataset into training and test sets such that the ratio of instances is 80:20.\n",
    "* What is the effect on performance of the Bagging algorithm?"
   ]
  }
 ],
 "metadata": {
  "colab": {
   "authorship_tag": "ABX9TyOpGYBct9ufjoR9B+7RndMu",
   "collapsed_sections": [
    "ZFxv8_7fU5b_",
    "hwNfnB2EWiGG",
    "jYc8W4i7wrZt",
    "3BkcCH1ynLY0",
    "Iy9ViItU9bNm",
    "yCS_gYcQ9omh",
    "yYvcDmaC1E4Q",
    "AK4ayJfatpMq",
    "MjgsAEg7nBae",
    "tiFdu9kB7CRQ"
   ],
   "provenance": []
  },
  "kernelspec": {
   "display_name": "Python 3",
   "name": "python3"
  },
  "language_info": {
   "codemirror_mode": {
    "name": "ipython",
    "version": 3
   },
   "file_extension": ".py",
   "mimetype": "text/x-python",
   "name": "python",
   "nbconvert_exporter": "python",
   "pygments_lexer": "ipython3",
   "version": "3.13.1"
  }
 },
 "nbformat": 4,
 "nbformat_minor": 0
}
