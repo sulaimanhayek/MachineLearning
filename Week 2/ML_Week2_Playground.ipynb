{
 "cells": [
  {
   "cell_type": "markdown",
   "metadata": {},
   "source": [
    "## Week 2: Introduction to Supervised Learning 1\n",
    "### Goal of this notebook:\n",
    "The goal of this notebook is to apply K-Nearest Neighbour (KNN) and Bagging Algorithm on the iris dataset. "
   ]
  },
  {
   "cell_type": "code",
   "execution_count": 9,
   "metadata": {},
   "outputs": [
    {
     "name": "stdout",
     "output_type": "stream",
     "text": [
      "The dimensions of the Iris feature matrix (150, 4)\n",
      "[[5.1 3.5 1.4 0.2]\n",
      " [4.9 3.  1.4 0.2]\n",
      " [4.7 3.2 1.3 0.2]\n",
      " [4.6 3.1 1.5 0.2]\n",
      " [5.  3.6 1.4 0.2]]\n"
     ]
    }
   ],
   "source": [
    "from sklearn import datasets\n",
    "iris_data, iris_labels = datasets.load_iris(return_X_y=True, as_frame=False)\n",
    "print(\"The dimensions of the Iris feature matrix\", iris_data.shape)\n",
    "print(iris_data[:5])"
   ]
  },
  {
   "cell_type": "markdown",
   "metadata": {},
   "source": [
    "## Explore the dataset\n",
    "Right, now let's explore the dataset and see the labels and features."
   ]
  },
  {
   "cell_type": "markdown",
   "metadata": {},
   "source": [
    "* Read about the Iris dataset here: https://scikit-learn.org/stable/datasets/toy_dataset.html\n",
    "* What type of labels does it have (real continuous or categorical)? What kind of machine learning task is this type of label suited to, i.e. classification or regression?\n",
    "  * Based on documentation and after inspecting the dataset, it has categorical labels, so classification is more appropriate for this dataset.\n",
    "* What is the feature dimensionality of the dataset, i.e. the number of features?\n",
    "  * it has 4 features: Sepal length, Sepal width, Petal length, Petal width\n",
    "* How many data instances are there? What is the distribution of instances across classes?\n",
    "  * 150 data instances, distributed equally\n",
    "\n",
    "\n",
    "\n",
    "---\n",
    "\n",
    "\n",
    "* Select one of the features. What association does the selected feature have with the iris classes, with respect to differentiating between them (Hint - use a search engine to read about Iris Setosa, Iris Versicolour, and Iris Virginica plant)?\n",
    "* What factors do you think limited the number of data instances per class?\n",
    "* How do you think the data was collected? What implication would this have for real world deployment of a model for automatic detection of iris classes based on this dataset?\n",
    "* How do you think it was labelled? What kind of challenge might this pose for collection of more training data (and labels) for automatic detection of iris classes?"
   ]
  }
 ],
 "metadata": {
  "kernelspec": {
   "display_name": "Python 3",
   "language": "python",
   "name": "python3"
  },
  "language_info": {
   "codemirror_mode": {
    "name": "ipython",
    "version": 3
   },
   "file_extension": ".py",
   "mimetype": "text/x-python",
   "name": "python",
   "nbconvert_exporter": "python",
   "pygments_lexer": "ipython3",
   "version": "3.13.1"
  }
 },
 "nbformat": 4,
 "nbformat_minor": 2
}
