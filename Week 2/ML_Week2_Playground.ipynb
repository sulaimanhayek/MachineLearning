{
 "cells": [
  {
   "cell_type": "markdown",
   "metadata": {},
   "source": [
    "## Week 2: Introduction to Supervised Learning 1\n",
    "### Goal of this notebook:\n",
    "The goal of this notebook is to apply K-Nearest Neighbour (KNN) and Bagging Algorithm on the iris dataset. "
   ]
  },
  {
   "cell_type": "markdown",
   "metadata": {},
   "source": []
  }
 ],
 "metadata": {
  "language_info": {
   "name": "python"
  }
 },
 "nbformat": 4,
 "nbformat_minor": 2
}
