{
 "cells": [
  {
   "cell_type": "markdown",
   "metadata": {},
   "source": [
    "## Week 2: Introduction to Supervised Learning 1\n",
    "### Goal of this notebook:\n",
    "The goal of this notebook is to apply K-Nearest Neighbour (KNN) and Bagging Algorithm on the iris dataset. "
   ]
  },
  {
   "cell_type": "code",
   "execution_count": 9,
   "metadata": {},
   "outputs": [
    {
     "name": "stdout",
     "output_type": "stream",
     "text": [
      "The dimensions of the Iris feature matrix (150, 4)\n",
      "[[5.1 3.5 1.4 0.2]\n",
      " [4.9 3.  1.4 0.2]\n",
      " [4.7 3.2 1.3 0.2]\n",
      " [4.6 3.1 1.5 0.2]\n",
      " [5.  3.6 1.4 0.2]]\n"
     ]
    }
   ],
   "source": [
    "from sklearn import datasets\n",
    "iris_data, iris_labels = datasets.load_iris(return_X_y=True, as_frame=False)\n",
    "print(\"The dimensions of the Iris feature matrix\", iris_data.shape)\n",
    "print(iris_data[:5])"
   ]
  },
  {
   "cell_type": "markdown",
   "metadata": {},
   "source": [
    "## Explore the dataset\n",
    "Right, now let's explore the dataset and see the labels and features."
   ]
  },
  {
   "cell_type": "markdown",
   "metadata": {},
   "source": [
    "* Read about the Iris dataset here: https://scikit-learn.org/stable/datasets/toy_dataset.html\n",
    "* What type of labels does it have (real continuous or categorical)? What kind of machine learning task is this type of label suited to, i.e. classification or regression?\n",
    "  * Based on documentation and after inspecting the dataset, it has categorical labels, so classification is more appropriate for this dataset.\n",
    "* What is the feature dimensionality of the dataset, i.e. the number of features?\n",
    "  * it has 4 features: Sepal length, Sepal width, Petal length, Petal width\n",
    "* How many data instances are there? What is the distribution of instances across classes?\n",
    "  * 150 data instances, distributed equally\n",
    "\n",
    "\n",
    "\n",
    "---\n",
    "\n",
    "\n",
    "* Select one of the features. What association does the selected feature have with the iris classes, with respect to differentiating between them (Hint - use a search engine to read about Iris Setosa, Iris Versicolour, and Iris Virginica plant)?\n",
    "* What factors do you think limited the number of data instances per class?\n",
    "* How do you think the data was collected? What implication would this have for real world deployment of a model for automatic detection of iris classes based on this dataset?\n",
    "* How do you think it was labelled? What kind of challenge might this pose for collection of more training data (and labels) for automatic detection of iris classes?"
   ]
  },
  {
   "cell_type": "markdown",
   "metadata": {},
   "source": [
    "---\n",
    "Right, now that we have the dataset imported. Let's split it into 50:50 training:test."
   ]
  },
  {
   "cell_type": "code",
   "execution_count": 22,
   "metadata": {},
   "outputs": [
    {
     "name": "stdout",
     "output_type": "stream",
     "text": [
      "       sepal_length  sepal_width  petal_length  petal_width\n",
      "count     75.000000    75.000000     75.000000    75.000000\n",
      "mean       5.833333     3.066667      3.804000     1.236000\n",
      "std        0.760038     0.470001      1.710969     0.731093\n",
      "min        4.300000     2.000000      1.000000     0.100000\n",
      "25%        5.200000     2.800000      1.550000     0.400000\n",
      "50%        5.800000     3.000000      4.500000     1.400000\n",
      "75%        6.400000     3.300000      5.100000     1.800000\n",
      "max        7.700000     4.400000      6.700000     2.500000\n",
      "       sepal_length  sepal_width  petal_length  petal_width\n",
      "count     75.000000    75.000000     75.000000    75.000000\n",
      "mean       5.853333     3.048000      3.712000     1.162667\n",
      "std        0.895987     0.401807      1.828377     0.795388\n",
      "min        4.400000     2.200000      1.200000     0.100000\n",
      "25%        5.100000     2.800000      1.600000     0.200000\n",
      "50%        5.800000     3.000000      4.200000     1.300000\n",
      "75%        6.400000     3.350000      5.250000     1.800000\n",
      "max        7.900000     3.900000      6.900000     2.500000\n"
     ]
    }
   ],
   "source": [
    "import numpy as np\n",
    "import pandas as pd\n",
    "random_seed = 94\n",
    "rng = np.random.default_rng(random_seed)\n",
    "# add indices to the data\n",
    "random_inds = np.arange(iris_data.shape[0],)\n",
    "# shuffle the indices\n",
    "rng.shuffle(random_inds)\n",
    "split_point = int(0.5 * iris_labels.shape[0])\n",
    "# split the indices\n",
    "training_data = iris_data[random_inds[:split_point], :]\n",
    "training_labels = iris_labels[random_inds[:split_point]]\n",
    "testing_data = iris_data[random_inds[split_point:], :]\n",
    "testing_labels = iris_labels[random_inds[split_point:]]\n",
    "\n",
    "training_data_df = pd.DataFrame(training_data, columns=[\"sepal_length\", \"sepal_width\", \"petal_length\", \"petal_width\"])\n",
    "testing_data_df = pd.DataFrame(testing_data, columns=[\"sepal_length\", \"sepal_width\", \"petal_length\", \"petal_width\"])\n",
    "print(training_data_df.describe())\n",
    "print(testing_data_df.describe())"
   ]
  },
  {
   "cell_type": "code",
   "execution_count": null,
   "metadata": {},
   "outputs": [],
   "source": []
  }
 ],
 "metadata": {
  "kernelspec": {
   "display_name": "Python 3",
   "language": "python",
   "name": "python3"
  },
  "language_info": {
   "codemirror_mode": {
    "name": "ipython",
    "version": 3
   },
   "file_extension": ".py",
   "mimetype": "text/x-python",
   "name": "python",
   "nbconvert_exporter": "python",
   "pygments_lexer": "ipython3",
   "version": "3.13.1"
  }
 },
 "nbformat": 4,
 "nbformat_minor": 2
}
