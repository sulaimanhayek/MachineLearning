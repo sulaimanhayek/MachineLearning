{
 "cells": [
  {
   "cell_type": "code",
   "execution_count": null,
   "metadata": {},
   "outputs": [
    {
     "name": "stdout",
     "output_type": "stream",
     "text": [
      "Data shape: (67963, 189)\n",
      "Columns: ['year', 'country', 'item', 'mean_cov_1', 'mean_cov_2', 'mean_cov_3', 'mean_cov_4', 'mean_cov_5', 'mean_cov_6', 'mean_cov_7', 'mean_cov_8', 'mean_cov_9', 'mean_cov_10', 'mean_cov_11', 'mean_cov_12', 'mean_cov_13', 'mean_cov_14', 'mean_cov_15', 'mean_cov_16', 'mean_cov_17', 'rain_1', 'rain_2', 'rain_3', 'rain_4', 'rain_5', 'rain_6', 'rain_7', 'rain_8', 'rain_9', 'rain_10', 'rain_11', 'rain_12', 'snow_1', 'snow_2', 'snow_3', 'snow_4', 'snow_5', 'snow_6', 'snow_7', 'snow_8', 'snow_9', 'snow_10', 'snow_11', 'snow_12', 'esoil_1', 'esoil_2', 'esoil_3', 'esoil_4', 'esoil_5', 'esoil_6', 'esoil_7', 'esoil_8', 'esoil_9', 'esoil_10', 'esoil_11', 'esoil_12', 'soilmoisture_0_10_1', 'soilmoisture_0_10_2', 'soilmoisture_0_10_3', 'soilmoisture_0_10_4', 'soilmoisture_0_10_5', 'soilmoisture_0_10_6', 'soilmoisture_0_10_7', 'soilmoisture_0_10_8', 'soilmoisture_0_10_9', 'soilmoisture_0_10_10', 'soilmoisture_0_10_11', 'soilmoisture_0_10_12', 'soilmoisture_10_40_1', 'soilmoisture_10_40_2', 'soilmoisture_10_40_3', 'soilmoisture_10_40_4', 'soilmoisture_10_40_5', 'soilmoisture_10_40_6', 'soilmoisture_10_40_7', 'soilmoisture_10_40_8', 'soilmoisture_10_40_9', 'soilmoisture_10_40_10', 'soilmoisture_10_40_11', 'soilmoisture_10_40_12', 'soilmoisture_40_100_1', 'soilmoisture_40_100_2', 'soilmoisture_40_100_3', 'soilmoisture_40_100_4', 'soilmoisture_40_100_5', 'soilmoisture_40_100_6', 'soilmoisture_40_100_7', 'soilmoisture_40_100_8', 'soilmoisture_40_100_9', 'soilmoisture_40_100_10', 'soilmoisture_40_100_11', 'soilmoisture_40_100_12', 'soilmoisture_100_200_1', 'soilmoisture_100_200_2', 'soilmoisture_100_200_3', 'soilmoisture_100_200_4', 'soilmoisture_100_200_5', 'soilmoisture_100_200_6', 'soilmoisture_100_200_7', 'soilmoisture_100_200_8', 'soilmoisture_100_200_9', 'soilmoisture_100_200_10', 'soilmoisture_100_200_11', 'soilmoisture_100_200_12', 'soiltemp_0_10_1', 'soiltemp_0_10_2', 'soiltemp_0_10_3', 'soiltemp_0_10_4', 'soiltemp_0_10_5', 'soiltemp_0_10_6', 'soiltemp_0_10_7', 'soiltemp_0_10_8', 'soiltemp_0_10_9', 'soiltemp_0_10_10', 'soiltemp_0_10_11', 'soiltemp_0_10_12', 'soiltemp_10_40_1', 'soiltemp_10_40_2', 'soiltemp_10_40_3', 'soiltemp_10_40_4', 'soiltemp_10_40_5', 'soiltemp_10_40_6', 'soiltemp_10_40_7', 'soiltemp_10_40_8', 'soiltemp_10_40_9', 'soiltemp_10_40_10', 'soiltemp_10_40_11', 'soiltemp_10_40_12', 'soiltemp_40_100_1', 'soiltemp_40_100_2', 'soiltemp_40_100_3', 'soiltemp_40_100_4', 'soiltemp_40_100_5', 'soiltemp_40_100_6', 'soiltemp_40_100_7', 'soiltemp_40_100_8', 'soiltemp_40_100_9', 'soiltemp_40_100_10', 'soiltemp_40_100_11', 'soiltemp_40_100_12', 'soiltemp_100_200_1', 'soiltemp_100_200_2', 'soiltemp_100_200_3', 'soiltemp_100_200_4', 'soiltemp_100_200_5', 'soiltemp_100_200_6', 'soiltemp_100_200_7', 'soiltemp_100_200_8', 'soiltemp_100_200_9', 'soiltemp_100_200_10', 'soiltemp_100_200_11', 'soiltemp_100_200_12', 'tveg_1', 'tveg_2', 'tveg_3', 'tveg_4', 'tveg_5', 'tveg_6', 'tveg_7', 'tveg_8', 'tveg_9', 'tveg_10', 'tveg_11', 'tveg_12', 'tws_1', 'tws_2', 'tws_3', 'tws_4', 'tws_5', 'tws_6', 'tws_7', 'tws_8', 'tws_9', 'tws_10', 'tws_11', 'tws_12', 'canopint_1', 'canopint_2', 'canopint_3', 'canopint_4', 'canopint_5', 'canopint_6', 'canopint_7', 'canopint_8', 'canopint_9', 'canopint_10', 'canopint_11', 'canopint_12', 'yield']\n"
     ]
    }
   ],
   "source": [
    "import pandas as pd\n",
    "\n",
    "# Load data\n",
    "df = pd.read_excel(\"third_mockup.xlsx\")\n",
    "\n",
    "# Move 'year' to the front\n",
    "cols = df.columns.tolist()\n",
    "if 'year' in cols:\n",
    "    cols.insert(0, cols.pop(cols.index('year')))\n",
    "df = df[cols]\n",
    "\n",
    "# Display structure\n",
    "print(\"Data shape:\", df.shape)\n",
    "print(\"Columns:\", df.columns.tolist())"
   ]
  },
  {
   "cell_type": "code",
   "execution_count": 15,
   "metadata": {},
   "outputs": [
    {
     "name": "stdout",
     "output_type": "stream",
     "text": [
      "Years in dataset: [np.int64(2010), np.int64(2011), np.int64(2012), np.int64(2013), np.int64(2014), np.int64(2015), np.int64(2016), np.int64(2017), np.int64(2018), np.int64(2019), np.int64(2020), np.int64(2021), np.int64(2022)]\n"
     ]
    }
   ],
   "source": [
    "# Convert year to integer format (e.g. 2010, 2011, ...)\n",
    "df['year_raw'] = df['year'].astype(int)  # backup for clean export\n",
    "# Optional sanity check\n",
    "print(\"Years in dataset:\", sorted(df['year'].unique()))"
   ]
  },
  {
   "cell_type": "code",
   "execution_count": 16,
   "metadata": {},
   "outputs": [],
   "source": [
    "# Shift Yield by -1 per country/item\n",
    "df['target'] = df.groupby(['country', 'item'])['yield'].shift(-1)\n",
    "\n",
    "# Drop rows without target\n",
    "df = df.dropna(subset=['target']).copy()"
   ]
  },
  {
   "cell_type": "code",
   "execution_count": null,
   "metadata": {},
   "outputs": [],
   "source": [
    "from sklearn.preprocessing import LabelEncoder\n",
    "\n",
    "# Encode 'country' and 'item'\n",
    "df['country_enc'] = LabelEncoder().fit_transform(df['country'])\n",
    "df = pd.get_dummies(df, columns=['item'], prefix='item')"
   ]
  },
  {
   "cell_type": "code",
   "execution_count": 18,
   "metadata": {},
   "outputs": [
    {
     "name": "stderr",
     "output_type": "stream",
     "text": [
      "/var/folders/fw/pdkq_2cj66gd5py_6r6srh8r0000gn/T/ipykernel_12960/3631374819.py:12: PerformanceWarning: DataFrame is highly fragmented.  This is usually the result of calling `frame.insert` many times, which has poor performance.  Consider joining all columns at once using pd.concat(axis=1) instead. To get a de-fragmented frame, use `newframe = frame.copy()`\n",
      "  df['target_scaled'] = target_scaler.fit_transform(df[['target']])\n"
     ]
    }
   ],
   "source": [
    "from sklearn.preprocessing import MinMaxScaler\n",
    "\n",
    "# Features to exclude\n",
    "exclude = ['Yield', 'target', 'country', 'item', 'year_raw']\n",
    "feature_cols = [col for col in df.columns if col not in exclude]\n",
    "\n",
    "# Normalize\n",
    "scaler = MinMaxScaler()\n",
    "df[feature_cols] = scaler.fit_transform(df[feature_cols])\n",
    "# Create separate scaler for target\n",
    "target_scaler = MinMaxScaler()\n",
    "df['target_scaled'] = target_scaler.fit_transform(df[['target']])\n",
    "\n",
    "# Fill any remaining NaNs after scaling\n",
    "df[feature_cols] = df[feature_cols].fillna(df[feature_cols].mean())"
   ]
  },
  {
   "cell_type": "code",
   "execution_count": 19,
   "metadata": {},
   "outputs": [
    {
     "name": "stdout",
     "output_type": "stream",
     "text": [
      "Train: years <= 0.9090909090909349, Test: years > 0.9090909090909349\n",
      "Train size: 57329 Test size: 5169\n"
     ]
    }
   ],
   "source": [
    "all_years = sorted(df['year'].unique())\n",
    "cutoff_year = all_years[-2]  # second to last year\n",
    "\n",
    "train_df = df[df['year'] <= cutoff_year].copy().reset_index(drop=True)\n",
    "test_df = df[df['year'] > cutoff_year].copy().reset_index(drop=True)\n",
    "\n",
    "print(f\"Train: years <= {cutoff_year}, Test: years > {cutoff_year}\")\n",
    "print(\"Train size:\", len(train_df), \"Test size:\", len(test_df))\n",
    "\n",
    "# from sklearn.model_selection import train_test_split\n",
    "\n",
    "# Split the full cleaned DataFrame (after encoding + scaling + shift)\n",
    "# train_df, test_df = train_test_split(df, test_size=0.2, random_state=42)\n",
    "\n",
    "# # Reset indices\n",
    "# train_df = train_df.reset_index(drop=True)\n",
    "# test_df = test_df.reset_index(drop=True)\n",
    "\n",
    "# print(\"Train size:\", len(train_df))\n",
    "# print(\"Test size:\", len(test_df))"
   ]
  },
  {
   "cell_type": "code",
   "execution_count": 20,
   "metadata": {},
   "outputs": [],
   "source": [
    "# Detect and drop constant features\n",
    "zero_var_cols = train_df[feature_cols].loc[:, train_df[feature_cols].std() == 0].columns.tolist()\n",
    "train_df = train_df.drop(columns=zero_var_cols)\n",
    "test_df = test_df.drop(columns=zero_var_cols)\n",
    "feature_cols = [col for col in feature_cols if col not in zero_var_cols]"
   ]
  },
  {
   "cell_type": "code",
   "execution_count": 21,
   "metadata": {},
   "outputs": [],
   "source": [
    "import torch\n",
    "\n",
    "X_train = torch.tensor(train_df[feature_cols].values, dtype=torch.float32)\n",
    "# y_train = torch.tensor(train_df['target'].values, dtype=torch.float32).view(-1, 1)\n",
    "y_train = torch.tensor(train_df['target_scaled'].values, dtype=torch.float32).view(-1, 1)\n",
    "\n",
    "X_test = torch.tensor(test_df[feature_cols].values, dtype=torch.float32)\n",
    "# y_test = torch.tensor(test_df['target'].values, dtype=torch.float32).view(-1, 1)\n",
    "y_test = torch.tensor(test_df['target_scaled'].values, dtype=torch.float32).view(-1, 1)\n",
    "\n",
    "# Rescale predictions back to actual yield units\n"
   ]
  },
  {
   "cell_type": "code",
   "execution_count": 22,
   "metadata": {},
   "outputs": [
    {
     "name": "stdout",
     "output_type": "stream",
     "text": [
      "Epoch 1, Avg Loss: 0.00\n",
      "Epoch 2, Avg Loss: 0.00\n",
      "Epoch 3, Avg Loss: 0.00\n",
      "Epoch 4, Avg Loss: 0.00\n",
      "Epoch 5, Avg Loss: 0.00\n",
      "Epoch 6, Avg Loss: 0.00\n",
      "Epoch 7, Avg Loss: 0.00\n",
      "Epoch 8, Avg Loss: 0.00\n",
      "Epoch 9, Avg Loss: 0.00\n",
      "Epoch 10, Avg Loss: 0.00\n",
      "Epoch 11, Avg Loss: 0.00\n",
      "Epoch 12, Avg Loss: 0.00\n",
      "Epoch 13, Avg Loss: 0.00\n",
      "Epoch 14, Avg Loss: 0.00\n",
      "Epoch 15, Avg Loss: 0.00\n",
      "Epoch 16, Avg Loss: 0.00\n",
      "Epoch 17, Avg Loss: 0.00\n",
      "Epoch 18, Avg Loss: 0.00\n",
      "Epoch 19, Avg Loss: 0.00\n",
      "Epoch 20, Avg Loss: 0.00\n",
      "Epoch 21, Avg Loss: 0.00\n",
      "Epoch 22, Avg Loss: 0.00\n",
      "Epoch 23, Avg Loss: 0.00\n",
      "Epoch 24, Avg Loss: 0.00\n",
      "Epoch 25, Avg Loss: 0.00\n",
      "Epoch 26, Avg Loss: 0.00\n",
      "Epoch 27, Avg Loss: 0.00\n",
      "Epoch 28, Avg Loss: 0.00\n",
      "Epoch 29, Avg Loss: 0.00\n",
      "Epoch 30, Avg Loss: 0.00\n",
      "Epoch 31, Avg Loss: 0.00\n",
      "Epoch 32, Avg Loss: 0.00\n",
      "Epoch 33, Avg Loss: 0.00\n",
      "Epoch 34, Avg Loss: 0.00\n",
      "Epoch 35, Avg Loss: 0.00\n",
      "Epoch 36, Avg Loss: 0.00\n",
      "Epoch 37, Avg Loss: 0.00\n",
      "Epoch 38, Avg Loss: 0.00\n",
      "Epoch 39, Avg Loss: 0.00\n",
      "Epoch 40, Avg Loss: 0.00\n",
      "Epoch 41, Avg Loss: 0.00\n",
      "Epoch 42, Avg Loss: 0.00\n",
      "Epoch 43, Avg Loss: 0.00\n",
      "Epoch 44, Avg Loss: 0.00\n",
      "Epoch 45, Avg Loss: 0.00\n",
      "Epoch 46, Avg Loss: 0.00\n",
      "Epoch 47, Avg Loss: 0.00\n",
      "Epoch 48, Avg Loss: 0.00\n",
      "Epoch 49, Avg Loss: 0.00\n",
      "Epoch 50, Avg Loss: 0.00\n"
     ]
    }
   ],
   "source": [
    "import torch.nn as nn\n",
    "from torch.utils.data import DataLoader, TensorDataset\n",
    "\n",
    "train_loader = DataLoader(TensorDataset(X_train, y_train), batch_size=32, shuffle=True)\n",
    "\n",
    "class MLPRegressor(nn.Module):\n",
    "    def __init__(self, input_dim):\n",
    "        super().__init__()\n",
    "        self.model = nn.Sequential(\n",
    "            nn.Linear(input_dim, 256),\n",
    "            nn.BatchNorm1d(256),\n",
    "            nn.ReLU(),\n",
    "            nn.Dropout(0.3),\n",
    "            nn.Linear(256, 128),\n",
    "            nn.BatchNorm1d(128),\n",
    "            nn.ReLU(),\n",
    "            nn.Dropout(0.3),\n",
    "            nn.Linear(128, 64),\n",
    "            nn.BatchNorm1d(64),\n",
    "            nn.ReLU(),\n",
    "            nn.Dropout(0.2),\n",
    "            nn.Linear(64, 1)\n",
    "        )\n",
    "\n",
    "    def forward(self, x):\n",
    "        return self.model(x)\n",
    "\n",
    "model = MLPRegressor(X_train.shape[1])\n",
    "optimizer = torch.optim.Adam(model.parameters(), lr=0.0005)\n",
    "loss_fn = nn.SmoothL1Loss()\n",
    "\n",
    "# Training loop\n",
    "for epoch in range(50):\n",
    "    model.train()\n",
    "    total_loss = 0.0\n",
    "    for xb, yb in train_loader:\n",
    "        pred = model(xb)\n",
    "        loss = loss_fn(pred, yb)\n",
    "        optimizer.zero_grad()\n",
    "        loss.backward()\n",
    "        optimizer.step()\n",
    "        total_loss += loss.item() * xb.size(0)\n",
    "\n",
    "    avg_loss = total_loss / len(train_loader.dataset)\n",
    "    print(f\"Epoch {epoch+1}, Avg Loss: {avg_loss:.2f}\")"
   ]
  },
  {
   "cell_type": "code",
   "execution_count": 23,
   "metadata": {},
   "outputs": [
    {
     "name": "stdout",
     "output_type": "stream",
     "text": [
      "\n",
      "🧪 Test MAE: 2423.16\n"
     ]
    }
   ],
   "source": [
    "from sklearn.metrics import mean_absolute_error\n",
    "\n",
    "# Predict\n",
    "model.eval()\n",
    "with torch.no_grad():\n",
    "    y_pred_test = model(X_test).numpy().flatten()  # predicted scaled\n",
    "    y_true_test = y_test.numpy().flatten()         # true scaled\n",
    "\n",
    "# Inverse transform\n",
    "y_pred_rescaled = target_scaler.inverse_transform(y_pred_test.reshape(-1, 1)).flatten()\n",
    "y_true_rescaled = target_scaler.inverse_transform(y_true_test.reshape(-1, 1)).flatten()\n",
    "\n",
    "# Calculate MAE\n",
    "mae = mean_absolute_error(y_true_rescaled, y_pred_rescaled)\n",
    "print(f\"\\n🧪 Test MAE: {mae:.2f}\")"
   ]
  },
  {
   "cell_type": "code",
   "execution_count": 24,
   "metadata": {},
   "outputs": [
    {
     "name": "stdout",
     "output_type": "stream",
     "text": [
      "🔍 Prediction range: 0.005822842 to 0.75461155\n",
      "✅ True yield range: 0.0 to 0.739251\n"
     ]
    }
   ],
   "source": [
    "print(\"🔍 Prediction range:\", y_pred_test.min(), \"to\", y_pred_test.max())\n",
    "print(\"✅ True yield range:\", y_true_test.min(), \"to\", y_true_test.max())"
   ]
  },
  {
   "cell_type": "code",
   "execution_count": 25,
   "metadata": {},
   "outputs": [
    {
     "data": {
      "image/png": "[encoded data removed]",
      "text/plain": [
       "<Figure size 800x600 with 1 Axes>"
      ]
     },
     "metadata": {},
     "output_type": "display_data"
    }
   ],
   "source": [
    "import matplotlib.pyplot as plt\n",
    "\n",
    "plt.figure(figsize=(8, 6))\n",
    "plt.scatter(y_true_test, y_pred_test, alpha=0.6)\n",
    "plt.plot([y_true_test.min(), y_true_test.max()],\n",
    "         [y_true_test.min(), y_true_test.max()],\n",
    "         'r--', label='Perfect Prediction')\n",
    "plt.xlabel(\"Actual Yield\")\n",
    "plt.ylabel(\"Predicted Yield\")\n",
    "plt.title(\"Predicted vs Actual Yield (Test Set)\")\n",
    "plt.grid(True)\n",
    "plt.legend()\n",
    "plt.tight_layout()\n",
    "plt.show()"
   ]
  },
  {
   "cell_type": "code",
   "execution_count": 26,
   "metadata": {},
   "outputs": [],
   "source": [
    "df['year'] = pd.to_numeric(df['year'], errors='coerce').fillna(0).astype(int)"
   ]
  },
  {
   "cell_type": "code",
   "execution_count": 27,
   "metadata": {},
   "outputs": [
    {
     "name": "stdout",
     "output_type": "stream",
     "text": [
      "    year      country                                               item  \\\n",
      "0   2021  Afghanistan                                             Apples   \n",
      "1   2021  Afghanistan                                           Apricots   \n",
      "2   2021  Afghanistan                                             Barley   \n",
      "3   2021  Afghanistan                       Cantaloupes and other melons   \n",
      "4   2021  Afghanistan                                               Figs   \n",
      "5   2021  Afghanistan                                             Grapes   \n",
      "6   2021  Afghanistan                                            Linseed   \n",
      "7   2021  Afghanistan                                       Maize (corn)   \n",
      "8   2021  Afghanistan                                             Millet   \n",
      "9   2021  Afghanistan                                       Mustard seed   \n",
      "10  2021  Afghanistan                                             Olives   \n",
      "11  2021  Afghanistan                                            Oranges   \n",
      "12  2021  Afghanistan  Other berries and fruits of the genus vacciniu...   \n",
      "13  2021  Afghanistan                         Other citrus fruit, n.e.c.   \n",
      "14  2021  Afghanistan                               Other fruits, n.e.c.   \n",
      "15  2021  Afghanistan                                Other pulses n.e.c.   \n",
      "16  2021  Afghanistan                                 Other stone fruits   \n",
      "17  2021  Afghanistan                             Peaches and nectarines   \n",
      "18  2021  Afghanistan                                              Pears   \n",
      "19  2021  Afghanistan                                    Plums and sloes   \n",
      "\n",
      "      yield_true    yield_pred  \n",
      "0   10600.000000   9189.270508  \n",
      "1    7527.900391   6792.260742  \n",
      "2    1375.000000   3419.995605  \n",
      "3   10663.500000  11435.782227  \n",
      "4    4150.500000   5295.958008  \n",
      "5    9784.899414   9283.970703  \n",
      "6     906.299988   3267.769287  \n",
      "7    2237.400146   3434.153564  \n",
      "8    1318.000000   3308.348633  \n",
      "9    1033.000000   3267.615723  \n",
      "10   3483.100098   3717.223389  \n",
      "11   6376.500000   5184.516602  \n",
      "12   4115.800293   3827.630127  \n",
      "13   9432.400391   7146.583008  \n",
      "14   7555.499512   6511.576172  \n",
      "15    591.400024   3164.244385  \n",
      "16   7049.099609   6035.353516  \n",
      "17   8782.700195   8731.637695  \n",
      "18   7999.999512   6838.651367  \n",
      "19   8588.900391   7551.775391  \n"
     ]
    }
   ],
   "source": [
    "# Attach predictions and actuals to test_df\n",
    "test_df['yield_true'] = y_true_rescaled\n",
    "test_df['yield_pred'] = y_pred_rescaled\n",
    "\n",
    "# Select key columns for review\n",
    "results_table = test_df[['year_raw', 'country', 'item', 'yield_true', 'yield_pred']]\n",
    "results_table = results_table.rename(columns={'year_raw': 'year'})\n",
    "print(results_table.head(20))"
   ]
  },
  {
   "cell_type": "code",
   "execution_count": 28,
   "metadata": {},
   "outputs": [
    {
     "name": "stdout",
     "output_type": "stream",
     "text": [
      "✅ Results saved to 'yield_predictions.csv'\n"
     ]
    }
   ],
   "source": [
    "results_table.to_csv(\"yield_predictions.csv\", index=False)\n",
    "print(\"✅ Results saved to 'yield_predictions.csv'\")"
   ]
  }
 ],
 "metadata": {
  "kernelspec": {
   "display_name": "Python 3",
   "language": "python",
   "name": "python3"
  },
  "language_info": {
   "codemirror_mode": {
    "name": "ipython",
    "version": 3
   },
   "file_extension": ".py",
   "mimetype": "text/x-python",
   "name": "python",
   "nbconvert_exporter": "python",
   "pygments_lexer": "ipython3",
   "version": "3.13.1"
  }
 },
 "nbformat": 4,
 "nbformat_minor": 2
}
