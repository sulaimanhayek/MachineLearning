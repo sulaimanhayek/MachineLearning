{
 "cells": [
  {
   "cell_type": "markdown",
   "metadata": {},
   "source": [
    "# Data preparation"
   ]
  },
  {
   "cell_type": "markdown",
   "metadata": {},
   "source": [
    "- TODO: visualisation of Train Loss and Validate Loss => done\n",
    "- TODO: table, maybe?"
   ]
  },
  {
   "cell_type": "markdown",
   "metadata": {},
   "source": [
    "## Define and read files needed from datasets"
   ]
  },
  {
   "cell_type": "code",
   "execution_count": 115,
   "metadata": {},
   "outputs": [],
   "source": [
    "import pandas as pd\n",
    "import geopandas as gpd\n",
    "from shapely.geometry import Point\n",
    "\n",
    "# Countries lookup table\n",
    "lookup_df = pd.read_csv(\"/Users/suli/Documents/source/repo/MachineLearning/Final_Assignment/ML 2025 Coursework Dataset - A1/country_latitude_longitude_area_lookup.csv\")\n",
    "# yield and production data\n",
    "yield_df = pd.read_csv(\"/Users/suli/Documents/source/repo/MachineLearning/Final_Assignment/ML 2025 Coursework Dataset - A1/Yield_and_Production_data.csv\")\n",
    "# land cover data\n",
    "land_cover_df = pd.read_csv(\"/Users/suli/Documents/source/repo/MachineLearning/Final_Assignment/ML 2025 Coursework Dataset - A1/Land_Cover_Percent_data.csv\")\n",
    "# define files to merge\n",
    "climate_files = {\n",
    "    \"rain\": \"/Users/suli/Documents/source/repo/MachineLearning/Final_Assignment/ML 2025 Coursework Dataset - A1/Rainf_tavg_data.csv\",\n",
    "    \"snow\": \"/Users/suli/Documents/source/repo/MachineLearning/Final_Assignment/ML 2025 Coursework Dataset - A1/Snowf_tavg_data.csv\",\n",
    "    \"esoil\": \"/Users/suli/Documents/source/repo/MachineLearning/Final_Assignment/ML 2025 Coursework Dataset - A1/ESoil_tavg_data.csv\",\n",
    "    \"soilmoisture_0_10\": \"/Users/suli/Documents/source/repo/MachineLearning/Final_Assignment/ML 2025 Coursework Dataset - A1/SoilMoi0_10cm_inst_data.csv\",\n",
    "    \"soilmoisture_10_40\": \"/Users/suli/Documents/source/repo/MachineLearning/Final_Assignment/ML 2025 Coursework Dataset - A1/SoilMoi10_40cm_inst_data.csv\",\n",
    "    \"soilmoisture_40_100\": \"/Users/suli/Documents/source/repo/MachineLearning/Final_Assignment/ML 2025 Coursework Dataset - A1/SoilMoi40_100cm_inst_data.csv\",\n",
    "    \"soilmoisture_100_200\": \"/Users/suli/Documents/source/repo/MachineLearning/Final_Assignment/ML 2025 Coursework Dataset - A1/SoilMoi100_200cm_inst_data.csv\",\n",
    "    \"soiltemp_0_10\": \"/Users/suli/Documents/source/repo/MachineLearning/Final_Assignment/ML 2025 Coursework Dataset - A1/SoilTMP0_10cm_inst_data.csv\",\n",
    "    \"soiltemp_10_40\": \"/Users/suli/Documents/source/repo/MachineLearning/Final_Assignment/ML 2025 Coursework Dataset - A1/SoilTMP10_40cm_inst_data.csv\",\n",
    "    \"soiltemp_40_100\": \"/Users/suli/Documents/source/repo/MachineLearning/Final_Assignment/ML 2025 Coursework Dataset - A1/SoilTMP40_100cm_inst_data.csv\",\n",
    "    \"soiltemp_100_200\": \"/Users/suli/Documents/source/repo/MachineLearning/Final_Assignment/ML 2025 Coursework Dataset - A1/SoilTMP100_200cm_inst_data.csv\",\n",
    "    \"tveg\": \"/Users/suli/Documents/source/repo/MachineLearning/Final_Assignment/ML 2025 Coursework Dataset - A1/TVeg_tavg_data.csv\",\n",
    "    \"tws\": \"/Users/suli/Documents/source/repo/MachineLearning/Final_Assignment/ML 2025 Coursework Dataset - A1/TWS_inst_data.csv\",\n",
    "    \"canopint\": \"/Users/suli/Documents/source/repo/MachineLearning/Final_Assignment/ML 2025 Coursework Dataset - A1/CanopInt_inst_data.csv\"  # Newly added dataset\n",
    "}"
   ]
  },
  {
   "cell_type": "markdown",
   "metadata": {},
   "source": [
    "## Spatial join and merge datasets"
   ]
  },
  {
   "cell_type": "code",
   "execution_count": 116,
   "metadata": {},
   "outputs": [
    {
     "name": "stdout",
     "output_type": "stream",
     "text": [
      "Core dataset saved as Core_Dataset.csv\n"
     ]
    }
   ],
   "source": [
    "# Helper Function: process and average by country-year\n",
    "def process_monthly_climate(filepath, variable_prefix, lookup_gdf):\n",
    "    df = pd.read_csv(filepath)\n",
    "    # Convert lat/lon into Shapely Points\n",
    "    df['geometry'] = [Point(xy) for xy in zip(df['longitude'], df['latitude'])]\n",
    "    # Make GeoDataFrame\n",
    "    gdf = gpd.GeoDataFrame(df, geometry='geometry', crs='EPSG:4326')\n",
    "    # Reproject to metric system for distance calculation\n",
    "    gdf_proj = gdf.to_crs(\"EPSG:3857\")\n",
    "    lookup_proj = lookup_gdf.to_crs(\"EPSG:3857\")\n",
    "    # Spatial join to match each climate point to its nearest country lookup point\n",
    "    joined = gpd.sjoin_nearest(gdf_proj, lookup_proj, how='left', distance_col='distance')\n",
    "    # Drop geometry and return to original lat/lon projection\n",
    "    joined = joined.to_crs(\"EPSG:4326\").drop(columns='geometry')\n",
    "    # Identify monthly columns (e.g. month_1 to month_12)\n",
    "    month_cols = [col for col in df.columns if 'month' in col.lower()]\n",
    "    # Rename them to include the variable prefix (e.g. rain_1, rain_2, ...)\n",
    "    new_col_map = {col: f\"{variable_prefix}_{i+1}\" for i, col in enumerate(month_cols)}\n",
    "    joined = joined.rename(columns=new_col_map)\n",
    "    # Group by country + year and take the mean across all nearby points\n",
    "    monthly_avg = joined.groupby(['country', 'year'])[[*new_col_map.values()]].mean().reset_index()\n",
    "    return monthly_avg\n",
    "\n",
    "lookup_df['geometry'] = [Point(xy) for xy in zip(lookup_df['longitude'], lookup_df['latitude'])]\n",
    "lookup_gdf = gpd.GeoDataFrame(lookup_df, geometry='geometry', crs='EPSG:4326')\n",
    "# lowercase column names\n",
    "yield_df.columns = [c.strip().lower() for c in yield_df.columns]\n",
    "# filter to only 'Yield' rows\n",
    "yield_df = yield_df[yield_df[\"element\"] == \"Yield\"]\n",
    "# rename 'value' to 'yield'\n",
    "if \"yield\" not in yield_df.columns and \"value\" in yield_df.columns:\n",
    "    yield_df = yield_df.rename(columns={\"value\": \"yield\"})\n",
    "\n",
    "# Process and merge all climate datasets\n",
    "merged_climate = None\n",
    "for prefix, path in climate_files.items():\n",
    "    climate_df = process_monthly_climate(path, prefix, lookup_gdf)\n",
    "    if merged_climate is None:\n",
    "        merged_climate = climate_df\n",
    "    else:\n",
    "        # Outer join to accumulate all monthly features\n",
    "        merged_climate = pd.merge(merged_climate, climate_df, on=[\"country\", \"year\"], how=\"outer\")\n",
    "\n",
    "land_cover_df['geometry'] = [Point(xy) for xy in zip(land_cover_df['longitude'], land_cover_df['latitude'])]\n",
    "land_cover_gdf = gpd.GeoDataFrame(land_cover_df, geometry='geometry', crs='EPSG:4326')\n",
    "# Join each land cover point to nearest country point\n",
    "land_cov_joined = gpd.sjoin_nearest(land_cover_gdf.to_crs(\"EPSG:3857\"), lookup_gdf.to_crs(\"EPSG:3857\"), how='left')\n",
    "land_cov_joined = land_cov_joined.to_crs(\"EPSG:4326\").drop(columns='geometry')\n",
    "# Rename land cover class columns to standardized names\n",
    "land_class_cols = [col for col in land_cover_df.columns if \"class_\" in col.lower()]\n",
    "land_cov_col_map = {col: f\"mean_cov_{col.split('_')[-1]}\" for col in land_class_cols}\n",
    "land_cov_joined = land_cov_joined.rename(columns=land_cov_col_map)\n",
    "# Aggregate land cover by country (mean percent per class)\n",
    "land_cov_summary = land_cov_joined.groupby(\"country\")[list(land_cov_col_map.values())].mean().reset_index()\n",
    "\n",
    "# Merge with climate on country + year\n",
    "climate_with_land = pd.merge(merged_climate, land_cov_summary, on=\"country\", how=\"left\")\n",
    "\n",
    "# Merge with yield data \n",
    "final_df = pd.merge(yield_df, climate_with_land, on=[\"country\", \"year\"], how=\"inner\")\n",
    "\n",
    "def ordered_columns(final_df):\n",
    "    base_cols = [\"country\", \"item\", \"year\"]\n",
    "    landcov_cols = [f\"mean_cov_{i}\" for i in range(1, 18)]\n",
    "\n",
    "    def monthly_block(prefix):\n",
    "        # 12 monthly columns\n",
    "        months = [f\"{prefix}_{i}\" for i in range(1, 13)]\n",
    "        # Corresponding summary columns\n",
    "        summaries = [f\"{prefix}_{stat}\" for stat in ['mean', 'std', 'min', 'max']]\n",
    "        # Include only those that exist in the DataFrame\n",
    "        return [col for col in months + summaries if col in final_df.columns]\n",
    "\n",
    "    feature_blocks = []\n",
    "\n",
    "    # Add monthly + summary blocks for each\n",
    "    prefixes = [\n",
    "        \"rain\", \"snow\", \"esoil\",\n",
    "        \"soilmoisture_0_10\", \"soilmoisture_10_40\", \"soilmoisture_40_100\", \"soilmoisture_100_200\",\n",
    "        \"soiltemp_0_10\", \"soiltemp_10_40\", \"soiltemp_40_100\", \"soiltemp_100_200\",\n",
    "        \"tveg\", \"tws\", \"canopint\"\n",
    "    ]\n",
    "\n",
    "    for prefix in prefixes:\n",
    "        feature_blocks.extend(monthly_block(prefix))\n",
    "\n",
    "    # Final ordered list\n",
    "    all_features = landcov_cols + feature_blocks\n",
    "    all_features = [col for col in all_features if col in final_df.columns]\n",
    "\n",
    "    return base_cols + all_features + [\"yield\"]\n",
    "\n",
    "\n",
    "\n",
    "\n",
    "# Adding summary\n",
    "# Function to add summary stats for 12-month feature groups\n",
    "def add_monthly_summary_features(df, feature_prefixes):\n",
    "    for prefix in feature_prefixes:\n",
    "        month_cols = [f\"{prefix}_{i}\" for i in range(1, 13) if f\"{prefix}_{i}\" in df.columns]\n",
    "        if len(month_cols) == 12:  # only compute if all 12 months are present\n",
    "            df[f\"{prefix}_mean\"] = df[month_cols].mean(axis=1)\n",
    "            df[f\"{prefix}_std\"] = df[month_cols].std(axis=1)\n",
    "            df[f\"{prefix}_min\"] = df[month_cols].min(axis=1)\n",
    "            df[f\"{prefix}_max\"] = df[month_cols].max(axis=1)\n",
    "    return df\n",
    "\n",
    "monthly_prefixes = [\n",
    "    \"rain\", \"snow\", \"esoil\",\n",
    "    \"soilmoisture_0_10\", \"soilmoisture_10_40\", \"soilmoisture_40_100\", \"soilmoisture_100_200\",\n",
    "    \"soiltemp_0_10\", \"soiltemp_10_40\", \"soiltemp_40_100\", \"soiltemp_100_200\",\n",
    "    \"tveg\", \"tws\", \"canopint\"\n",
    "]\n",
    "\n",
    "final_df = add_monthly_summary_features(final_df, monthly_prefixes)\n",
    "\n",
    "final_df = final_df[ordered_columns(final_df)]\n",
    "\n",
    "# Save final output\n",
    "final_df.to_csv(\"Core_Dataset.csv\", index=False)\n",
    "print(\"Core dataset saved as Core_Dataset.csv\")"
   ]
  },
  {
   "cell_type": "markdown",
   "metadata": {},
   "source": [
    "# Data preprocessing"
   ]
  },
  {
   "cell_type": "markdown",
   "metadata": {},
   "source": [
    "## Data shaping"
   ]
  },
  {
   "cell_type": "code",
   "execution_count": 117,
   "metadata": {},
   "outputs": [
    {
     "name": "stdout",
     "output_type": "stream",
     "text": [
      "Data shape: (67963, 245)\n",
      "Columns: ['year', 'country', 'item', 'mean_cov_1', 'mean_cov_2', 'mean_cov_3', 'mean_cov_4', 'mean_cov_5', 'mean_cov_6', 'mean_cov_7', 'mean_cov_8', 'mean_cov_9', 'mean_cov_10', 'mean_cov_11', 'mean_cov_12', 'mean_cov_13', 'mean_cov_14', 'mean_cov_15', 'mean_cov_16', 'mean_cov_17', 'rain_1', 'rain_2', 'rain_3', 'rain_4', 'rain_5', 'rain_6', 'rain_7', 'rain_8', 'rain_9', 'rain_10', 'rain_11', 'rain_12', 'rain_mean', 'rain_std', 'rain_min', 'rain_max', 'snow_1', 'snow_2', 'snow_3', 'snow_4', 'snow_5', 'snow_6', 'snow_7', 'snow_8', 'snow_9', 'snow_10', 'snow_11', 'snow_12', 'snow_mean', 'snow_std', 'snow_min', 'snow_max', 'esoil_1', 'esoil_2', 'esoil_3', 'esoil_4', 'esoil_5', 'esoil_6', 'esoil_7', 'esoil_8', 'esoil_9', 'esoil_10', 'esoil_11', 'esoil_12', 'esoil_mean', 'esoil_std', 'esoil_min', 'esoil_max', 'soilmoisture_0_10_1', 'soilmoisture_0_10_2', 'soilmoisture_0_10_3', 'soilmoisture_0_10_4', 'soilmoisture_0_10_5', 'soilmoisture_0_10_6', 'soilmoisture_0_10_7', 'soilmoisture_0_10_8', 'soilmoisture_0_10_9', 'soilmoisture_0_10_10', 'soilmoisture_0_10_11', 'soilmoisture_0_10_12', 'soilmoisture_0_10_mean', 'soilmoisture_0_10_std', 'soilmoisture_0_10_min', 'soilmoisture_0_10_max', 'soilmoisture_10_40_1', 'soilmoisture_10_40_2', 'soilmoisture_10_40_3', 'soilmoisture_10_40_4', 'soilmoisture_10_40_5', 'soilmoisture_10_40_6', 'soilmoisture_10_40_7', 'soilmoisture_10_40_8', 'soilmoisture_10_40_9', 'soilmoisture_10_40_10', 'soilmoisture_10_40_11', 'soilmoisture_10_40_12', 'soilmoisture_10_40_mean', 'soilmoisture_10_40_std', 'soilmoisture_10_40_min', 'soilmoisture_10_40_max', 'soilmoisture_40_100_1', 'soilmoisture_40_100_2', 'soilmoisture_40_100_3', 'soilmoisture_40_100_4', 'soilmoisture_40_100_5', 'soilmoisture_40_100_6', 'soilmoisture_40_100_7', 'soilmoisture_40_100_8', 'soilmoisture_40_100_9', 'soilmoisture_40_100_10', 'soilmoisture_40_100_11', 'soilmoisture_40_100_12', 'soilmoisture_40_100_mean', 'soilmoisture_40_100_std', 'soilmoisture_40_100_min', 'soilmoisture_40_100_max', 'soilmoisture_100_200_1', 'soilmoisture_100_200_2', 'soilmoisture_100_200_3', 'soilmoisture_100_200_4', 'soilmoisture_100_200_5', 'soilmoisture_100_200_6', 'soilmoisture_100_200_7', 'soilmoisture_100_200_8', 'soilmoisture_100_200_9', 'soilmoisture_100_200_10', 'soilmoisture_100_200_11', 'soilmoisture_100_200_12', 'soilmoisture_100_200_mean', 'soilmoisture_100_200_std', 'soilmoisture_100_200_min', 'soilmoisture_100_200_max', 'soiltemp_0_10_1', 'soiltemp_0_10_2', 'soiltemp_0_10_3', 'soiltemp_0_10_4', 'soiltemp_0_10_5', 'soiltemp_0_10_6', 'soiltemp_0_10_7', 'soiltemp_0_10_8', 'soiltemp_0_10_9', 'soiltemp_0_10_10', 'soiltemp_0_10_11', 'soiltemp_0_10_12', 'soiltemp_0_10_mean', 'soiltemp_0_10_std', 'soiltemp_0_10_min', 'soiltemp_0_10_max', 'soiltemp_10_40_1', 'soiltemp_10_40_2', 'soiltemp_10_40_3', 'soiltemp_10_40_4', 'soiltemp_10_40_5', 'soiltemp_10_40_6', 'soiltemp_10_40_7', 'soiltemp_10_40_8', 'soiltemp_10_40_9', 'soiltemp_10_40_10', 'soiltemp_10_40_11', 'soiltemp_10_40_12', 'soiltemp_10_40_mean', 'soiltemp_10_40_std', 'soiltemp_10_40_min', 'soiltemp_10_40_max', 'soiltemp_40_100_1', 'soiltemp_40_100_2', 'soiltemp_40_100_3', 'soiltemp_40_100_4', 'soiltemp_40_100_5', 'soiltemp_40_100_6', 'soiltemp_40_100_7', 'soiltemp_40_100_8', 'soiltemp_40_100_9', 'soiltemp_40_100_10', 'soiltemp_40_100_11', 'soiltemp_40_100_12', 'soiltemp_40_100_mean', 'soiltemp_40_100_std', 'soiltemp_40_100_min', 'soiltemp_40_100_max', 'soiltemp_100_200_1', 'soiltemp_100_200_2', 'soiltemp_100_200_3', 'soiltemp_100_200_4', 'soiltemp_100_200_5', 'soiltemp_100_200_6', 'soiltemp_100_200_7', 'soiltemp_100_200_8', 'soiltemp_100_200_9', 'soiltemp_100_200_10', 'soiltemp_100_200_11', 'soiltemp_100_200_12', 'soiltemp_100_200_mean', 'soiltemp_100_200_std', 'soiltemp_100_200_min', 'soiltemp_100_200_max', 'tveg_1', 'tveg_2', 'tveg_3', 'tveg_4', 'tveg_5', 'tveg_6', 'tveg_7', 'tveg_8', 'tveg_9', 'tveg_10', 'tveg_11', 'tveg_12', 'tveg_mean', 'tveg_std', 'tveg_min', 'tveg_max', 'tws_1', 'tws_2', 'tws_3', 'tws_4', 'tws_5', 'tws_6', 'tws_7', 'tws_8', 'tws_9', 'tws_10', 'tws_11', 'tws_12', 'tws_mean', 'tws_std', 'tws_min', 'tws_max', 'canopint_1', 'canopint_2', 'canopint_3', 'canopint_4', 'canopint_5', 'canopint_6', 'canopint_7', 'canopint_8', 'canopint_9', 'canopint_10', 'canopint_11', 'canopint_12', 'canopint_mean', 'canopint_std', 'canopint_min', 'canopint_max', 'yield']\n"
     ]
    }
   ],
   "source": [
    "# Load data\n",
    "df = pd.read_csv(\"Core_Dataset.csv\")\n",
    "\n",
    "# Move 'year' to the front\n",
    "cols = df.columns.tolist()\n",
    "if 'year' in cols:\n",
    "    cols.insert(0, cols.pop(cols.index('year')))\n",
    "df = df[cols]\n",
    "\n",
    "# Display structure\n",
    "print(\"Data shape:\", df.shape)\n",
    "print(\"Columns:\", df.columns.tolist())"
   ]
  },
  {
   "cell_type": "code",
   "execution_count": 118,
   "metadata": {},
   "outputs": [
    {
     "name": "stdout",
     "output_type": "stream",
     "text": [
      "Years in dataset: [np.int64(2010), np.int64(2011), np.int64(2012), np.int64(2013), np.int64(2014), np.int64(2015), np.int64(2016), np.int64(2017), np.int64(2018), np.int64(2019), np.int64(2020), np.int64(2021), np.int64(2022)]\n"
     ]
    }
   ],
   "source": [
    "# Convert year to integer format (e.g. 2010, 2011, ...)\n",
    "df['year_raw'] = df['year'].astype(int)  # backup for clean export\n",
    "# Optional sanity check\n",
    "print(\"Years in dataset:\", sorted(df['year'].unique()))"
   ]
  },
  {
   "cell_type": "code",
   "execution_count": 119,
   "metadata": {},
   "outputs": [],
   "source": [
    "# Shift yield by -1 to make next year's yield the prediction target\n",
    "df = df.sort_values(['country', 'item', 'year_raw'])  # ensure proper chronological order\n",
    "df['target'] = df.groupby(['country', 'item'])['yield'].shift(-1)\n",
    "\n",
    "# Drop rows where target is missing (i.e., last year of each country/item group)\n",
    "df = df.dropna(subset=['target']).copy()"
   ]
  },
  {
   "cell_type": "code",
   "execution_count": 120,
   "metadata": {},
   "outputs": [],
   "source": [
    "def time_aware_split(df, test_year, val_year):\n",
    "    train_list, val_list, test_list = [], [], []\n",
    "\n",
    "    for _, group in df.groupby(['country', 'item']):\n",
    "        group = group.sort_values('year_raw')\n",
    "        train = group[group['year_raw'] < val_year]\n",
    "        val = group[group['year_raw'] == val_year]\n",
    "        test = group[group['year_raw'] == test_year]\n",
    "        train_list.append(train)\n",
    "        val_list.append(val)\n",
    "        test_list.append(test)\n",
    "\n",
    "    return pd.concat(train_list).reset_index(drop=True), \\\n",
    "           pd.concat(val_list).reset_index(drop=True), \\\n",
    "           pd.concat(test_list).reset_index(drop=True)"
   ]
  },
  {
   "cell_type": "code",
   "execution_count": 121,
   "metadata": {},
   "outputs": [],
   "source": [
    "from sklearn.preprocessing import LabelEncoder\n",
    "\n",
    "# Encode country\n",
    "country_encoder = LabelEncoder()\n",
    "df['country_id'] = country_encoder.fit_transform(df['country'])\n",
    "num_countries = df['country_id'].nunique()"
   ]
  },
  {
   "cell_type": "code",
   "execution_count": 122,
   "metadata": {},
   "outputs": [],
   "source": [
    "# Encode year as categorical ID for embedding\n",
    "year_encoder = LabelEncoder()\n",
    "df['year_id'] = year_encoder.fit_transform(df['year_raw'])  # not year+1, just original year\n",
    "num_years = df['year_id'].nunique()"
   ]
  },
  {
   "cell_type": "code",
   "execution_count": 123,
   "metadata": {},
   "outputs": [
    {
     "name": "stdout",
     "output_type": "stream",
     "text": [
      "Train: (52163, 249)\n",
      "Val: (5166, 249)\n",
      "Test: (5169, 249)\n",
      "train export to csv None\n"
     ]
    }
   ],
   "source": [
    "train_df, val_df, test_df = time_aware_split(df, test_year=2021, val_year=2020)\n",
    "print(\"Train:\", train_df.shape)\n",
    "print(\"Val:\", val_df.shape)\n",
    "print(\"Test:\", test_df.shape)\n",
    "print(\"train export to csv\", train_df.to_csv(\"train.csv\", index=False))"
   ]
  },
  {
   "cell_type": "code",
   "execution_count": 124,
   "metadata": {},
   "outputs": [],
   "source": [
    "# One-hot encode 'item'\n",
    "df = pd.get_dummies(df, columns=['item'], prefix='item')\n",
    "item_onehot_cols = [col for col in df.columns if col.startswith('item_')]"
   ]
  },
  {
   "cell_type": "code",
   "execution_count": 125,
   "metadata": {},
   "outputs": [
    {
     "name": "stdout",
     "output_type": "stream",
     "text": [
      "Encoded Sample:\n",
      "           country  country_id  year_raw  year_id\n",
      "0      Afghanistan           0      2010        0\n",
      "40411      Morocco         100      2010        0\n",
      "58993     Thailand         145      2010        0\n",
      "17395      Czechia          40      2010        0\n",
      "41204   Mozambique         101      2010        0\n",
      "Total countries: 165\n",
      "Total years: 12\n",
      "One-hot item columns: ['item_Abaca, manila hemp, raw', 'item_Agave fibres, raw, n.e.c.', 'item_Apples', 'item_Apricots', 'item_Avocados', 'item_Bambara beans, dry', 'item_Bananas', 'item_Barley', 'item_Beans, dry', 'item_Blueberries', 'item_Broad beans and horse beans, dry', 'item_Buckwheat', 'item_Canary seed', 'item_Cantaloupes and other melons', 'item_Cashewapple', 'item_Castor oil seeds', 'item_Cereals n.e.c.', 'item_Cherries', 'item_Chick peas, dry', 'item_Coconuts, in shell', 'item_Cow peas, dry', 'item_Cranberries', 'item_Currants', 'item_Dates', 'item_Figs', 'item_Flax, raw or retted', 'item_Fonio', 'item_Gooseberries', 'item_Grapes', 'item_Groundnuts, excluding shelled', 'item_Hempseed', 'item_Jojoba seeds', 'item_Jute, raw or retted', 'item_Kapok fruit', 'item_Karite nuts (sheanuts)', 'item_Kenaf, and other textile bast fibres, raw or retted', 'item_Kiwi fruit', 'item_Lemons and limes', 'item_Lentils, dry', 'item_Linseed', 'item_Locust beans (carobs)', 'item_Lupins', 'item_Maize (corn)', 'item_Mangoes, guavas and mangosteens', 'item_Melonseed', 'item_Millet', 'item_Mixed grain', 'item_Mustard seed', 'item_Oats', 'item_Oil palm fruit', 'item_Olives', 'item_Oranges', 'item_Other berries and fruits of the genus vaccinium n.e.c.', 'item_Other citrus fruit, n.e.c.', 'item_Other fibre crops, raw, n.e.c.', 'item_Other fruits, n.e.c.', 'item_Other oil seeds, n.e.c.', 'item_Other pome fruits', 'item_Other pulses n.e.c.', 'item_Other stone fruits', 'item_Other sugar crops n.e.c.', 'item_Other tropical fruits, n.e.c.', 'item_Papayas', 'item_Peaches and nectarines', 'item_Pears', 'item_Peas, dry', 'item_Persimmons', 'item_Pigeon peas, dry', 'item_Pineapples', 'item_Plantains and cooking bananas', 'item_Plums and sloes', 'item_Pomelos and grapefruits', 'item_Poppy seed', 'item_Quinces', 'item_Quinoa', 'item_Ramie, raw or retted', 'item_Rape or colza seed', 'item_Raspberries', 'item_Rice', 'item_Roots and Tubers, Total', 'item_Rye', 'item_Safflower seed', 'item_Seed cotton, unginned', 'item_Sesame seed', 'item_Sisal, raw', 'item_Sorghum', 'item_Sour cherries', 'item_Soya beans', 'item_Strawberries', 'item_Sugar beet', 'item_Sugar cane', 'item_Sunflower seed', 'item_Tallowtree seeds', 'item_Tangerines, mandarins, clementines', 'item_Treenuts, Total', 'item_Triticale', 'item_True hemp, raw or retted', 'item_Tung nuts', 'item_Vegetables Primary', 'item_Vetches', 'item_Watermelons', 'item_Wheat']\n"
     ]
    }
   ],
   "source": [
    "print(\"Encoded Sample:\")\n",
    "print(df[['country', 'country_id', 'year_raw', 'year_id']].drop_duplicates().sort_values('year_raw').head())\n",
    "\n",
    "print(f\"Total countries: {num_countries}\")\n",
    "print(f\"Total years: {num_years}\")\n",
    "print(f\"One-hot item columns: {item_onehot_cols}\")"
   ]
  },
  {
   "cell_type": "code",
   "execution_count": 126,
   "metadata": {},
   "outputs": [
    {
     "name": "stdout",
     "output_type": "stream",
     "text": [
      "feature cols ['mean_cov_1', 'mean_cov_2', 'mean_cov_3', 'mean_cov_4', 'mean_cov_5', 'mean_cov_6', 'mean_cov_7', 'mean_cov_8', 'mean_cov_9', 'mean_cov_10', 'mean_cov_11', 'mean_cov_12', 'mean_cov_13', 'mean_cov_14', 'mean_cov_15', 'mean_cov_16', 'mean_cov_17', 'rain_1', 'rain_2', 'rain_3', 'rain_4', 'rain_5', 'rain_6', 'rain_7', 'rain_8', 'rain_9', 'rain_10', 'rain_11', 'rain_12', 'rain_mean', 'rain_std', 'rain_min', 'rain_max', 'snow_1', 'snow_2', 'snow_3', 'snow_4', 'snow_5', 'snow_6', 'snow_7', 'snow_8', 'snow_9', 'snow_10', 'snow_11', 'snow_12', 'snow_mean', 'snow_std', 'snow_min', 'snow_max', 'esoil_1', 'esoil_2', 'esoil_3', 'esoil_4', 'esoil_5', 'esoil_6', 'esoil_7', 'esoil_8', 'esoil_9', 'esoil_10', 'esoil_11', 'esoil_12', 'esoil_mean', 'esoil_std', 'esoil_min', 'esoil_max', 'soilmoisture_0_10_1', 'soilmoisture_0_10_2', 'soilmoisture_0_10_3', 'soilmoisture_0_10_4', 'soilmoisture_0_10_5', 'soilmoisture_0_10_6', 'soilmoisture_0_10_7', 'soilmoisture_0_10_8', 'soilmoisture_0_10_9', 'soilmoisture_0_10_10', 'soilmoisture_0_10_11', 'soilmoisture_0_10_12', 'soilmoisture_0_10_mean', 'soilmoisture_0_10_std', 'soilmoisture_0_10_min', 'soilmoisture_0_10_max', 'soilmoisture_10_40_1', 'soilmoisture_10_40_2', 'soilmoisture_10_40_3', 'soilmoisture_10_40_4', 'soilmoisture_10_40_5', 'soilmoisture_10_40_6', 'soilmoisture_10_40_7', 'soilmoisture_10_40_8', 'soilmoisture_10_40_9', 'soilmoisture_10_40_10', 'soilmoisture_10_40_11', 'soilmoisture_10_40_12', 'soilmoisture_10_40_mean', 'soilmoisture_10_40_std', 'soilmoisture_10_40_min', 'soilmoisture_10_40_max', 'soilmoisture_40_100_1', 'soilmoisture_40_100_2', 'soilmoisture_40_100_3', 'soilmoisture_40_100_4', 'soilmoisture_40_100_5', 'soilmoisture_40_100_6', 'soilmoisture_40_100_7', 'soilmoisture_40_100_8', 'soilmoisture_40_100_9', 'soilmoisture_40_100_10', 'soilmoisture_40_100_11', 'soilmoisture_40_100_12', 'soilmoisture_40_100_mean', 'soilmoisture_40_100_std', 'soilmoisture_40_100_min', 'soilmoisture_40_100_max', 'soilmoisture_100_200_1', 'soilmoisture_100_200_2', 'soilmoisture_100_200_3', 'soilmoisture_100_200_4', 'soilmoisture_100_200_5', 'soilmoisture_100_200_6', 'soilmoisture_100_200_7', 'soilmoisture_100_200_8', 'soilmoisture_100_200_9', 'soilmoisture_100_200_10', 'soilmoisture_100_200_11', 'soilmoisture_100_200_12', 'soilmoisture_100_200_mean', 'soilmoisture_100_200_std', 'soilmoisture_100_200_min', 'soilmoisture_100_200_max', 'soiltemp_0_10_1', 'soiltemp_0_10_2', 'soiltemp_0_10_3', 'soiltemp_0_10_4', 'soiltemp_0_10_5', 'soiltemp_0_10_6', 'soiltemp_0_10_7', 'soiltemp_0_10_8', 'soiltemp_0_10_9', 'soiltemp_0_10_10', 'soiltemp_0_10_11', 'soiltemp_0_10_12', 'soiltemp_0_10_mean', 'soiltemp_0_10_std', 'soiltemp_0_10_min', 'soiltemp_0_10_max', 'soiltemp_10_40_1', 'soiltemp_10_40_2', 'soiltemp_10_40_3', 'soiltemp_10_40_4', 'soiltemp_10_40_5', 'soiltemp_10_40_6', 'soiltemp_10_40_7', 'soiltemp_10_40_8', 'soiltemp_10_40_9', 'soiltemp_10_40_10', 'soiltemp_10_40_11', 'soiltemp_10_40_12', 'soiltemp_10_40_mean', 'soiltemp_10_40_std', 'soiltemp_10_40_min', 'soiltemp_10_40_max', 'soiltemp_40_100_1', 'soiltemp_40_100_2', 'soiltemp_40_100_3', 'soiltemp_40_100_4', 'soiltemp_40_100_5', 'soiltemp_40_100_6', 'soiltemp_40_100_7', 'soiltemp_40_100_8', 'soiltemp_40_100_9', 'soiltemp_40_100_10', 'soiltemp_40_100_11', 'soiltemp_40_100_12', 'soiltemp_40_100_mean', 'soiltemp_40_100_std', 'soiltemp_40_100_min', 'soiltemp_40_100_max', 'soiltemp_100_200_1', 'soiltemp_100_200_2', 'soiltemp_100_200_3', 'soiltemp_100_200_4', 'soiltemp_100_200_5', 'soiltemp_100_200_6', 'soiltemp_100_200_7', 'soiltemp_100_200_8', 'soiltemp_100_200_9', 'soiltemp_100_200_10', 'soiltemp_100_200_11', 'soiltemp_100_200_12', 'soiltemp_100_200_mean', 'soiltemp_100_200_std', 'soiltemp_100_200_min', 'soiltemp_100_200_max', 'tveg_1', 'tveg_2', 'tveg_3', 'tveg_4', 'tveg_5', 'tveg_6', 'tveg_7', 'tveg_8', 'tveg_9', 'tveg_10', 'tveg_11', 'tveg_12', 'tveg_mean', 'tveg_std', 'tveg_min', 'tveg_max', 'tws_1', 'tws_2', 'tws_3', 'tws_4', 'tws_5', 'tws_6', 'tws_7', 'tws_8', 'tws_9', 'tws_10', 'tws_11', 'tws_12', 'tws_mean', 'tws_std', 'tws_min', 'tws_max', 'canopint_1', 'canopint_2', 'canopint_3', 'canopint_4', 'canopint_5', 'canopint_6', 'canopint_7', 'canopint_8', 'canopint_9', 'canopint_10', 'canopint_11', 'canopint_12', 'canopint_mean', 'canopint_std', 'canopint_min', 'canopint_max']\n"
     ]
    }
   ],
   "source": [
    "item_onehot_cols = [col for col in df.columns if col.startswith('item_')]\n",
    "\n",
    "# Re-add any missing one-hot columns in val/test with zeros\n",
    "for col in item_onehot_cols:\n",
    "    for dset in [df]:\n",
    "        if col not in dset.columns:\n",
    "            dset[col] = 0\n",
    "\n",
    "# Columns to exclude from scaling\n",
    "exclude = ['year','yield', 'target', 'country', 'country_id', 'year_raw', 'year_id']\n",
    "exclude += item_onehot_cols  # exclude one-hot item columns too\n",
    "\n",
    "# Features to scale (everything else)\n",
    "feature_cols = [col for col in df.columns if col not in exclude]\n",
    "print(\"feature cols\",feature_cols)"
   ]
  },
  {
   "cell_type": "markdown",
   "metadata": {},
   "source": [
    "Normalise"
   ]
  },
  {
   "cell_type": "code",
   "execution_count": 127,
   "metadata": {},
   "outputs": [],
   "source": [
    "from sklearn.preprocessing import MinMaxScaler\n",
    "\n",
    "scaler = MinMaxScaler()\n",
    "\n",
    "# Fit only on train\n",
    "train_df[feature_cols] = scaler.fit_transform(train_df[feature_cols])\n",
    "\n",
    "# Transform val and test\n",
    "val_df[feature_cols] = scaler.transform(val_df[feature_cols])\n",
    "test_df[feature_cols] = scaler.transform(test_df[feature_cols])"
   ]
  },
  {
   "cell_type": "markdown",
   "metadata": {},
   "source": [
    "Scale the Target Separately"
   ]
  },
  {
   "cell_type": "code",
   "execution_count": 128,
   "metadata": {},
   "outputs": [
    {
     "name": "stderr",
     "output_type": "stream",
     "text": [
      "/var/folders/fw/pdkq_2cj66gd5py_6r6srh8r0000gn/T/ipykernel_37350/4136113568.py:3: PerformanceWarning: DataFrame is highly fragmented.  This is usually the result of calling `frame.insert` many times, which has poor performance.  Consider joining all columns at once using pd.concat(axis=1) instead. To get a de-fragmented frame, use `newframe = frame.copy()`\n",
      "  train_df['target_scaled'] = target_scaler.fit_transform(train_df[['target']])\n",
      "/var/folders/fw/pdkq_2cj66gd5py_6r6srh8r0000gn/T/ipykernel_37350/4136113568.py:4: PerformanceWarning: DataFrame is highly fragmented.  This is usually the result of calling `frame.insert` many times, which has poor performance.  Consider joining all columns at once using pd.concat(axis=1) instead. To get a de-fragmented frame, use `newframe = frame.copy()`\n",
      "  val_df['target_scaled'] = target_scaler.transform(val_df[['target']])\n",
      "/var/folders/fw/pdkq_2cj66gd5py_6r6srh8r0000gn/T/ipykernel_37350/4136113568.py:5: PerformanceWarning: DataFrame is highly fragmented.  This is usually the result of calling `frame.insert` many times, which has poor performance.  Consider joining all columns at once using pd.concat(axis=1) instead. To get a de-fragmented frame, use `newframe = frame.copy()`\n",
      "  test_df['target_scaled'] = target_scaler.transform(test_df[['target']])\n"
     ]
    }
   ],
   "source": [
    "target_scaler = MinMaxScaler()\n",
    "\n",
    "train_df['target_scaled'] = target_scaler.fit_transform(train_df[['target']])\n",
    "val_df['target_scaled'] = target_scaler.transform(val_df[['target']])\n",
    "test_df['target_scaled'] = target_scaler.transform(test_df[['target']])"
   ]
  },
  {
   "cell_type": "markdown",
   "metadata": {},
   "source": [
    " Fill any NaNs (if any exist after merge)"
   ]
  },
  {
   "cell_type": "code",
   "execution_count": 129,
   "metadata": {},
   "outputs": [],
   "source": [
    "train_df[feature_cols] = train_df[feature_cols].fillna(train_df[feature_cols].mean())\n",
    "val_df[feature_cols] = val_df[feature_cols].fillna(train_df[feature_cols].mean())  # use train stats\n",
    "test_df[feature_cols] = test_df[feature_cols].fillna(train_df[feature_cols].mean())"
   ]
  },
  {
   "cell_type": "code",
   "execution_count": 130,
   "metadata": {},
   "outputs": [
    {
     "name": "stdout",
     "output_type": "stream",
     "text": [
      "Feature sample after scaling:\n",
      "   mean_cov_1  mean_cov_2  mean_cov_3  mean_cov_4  mean_cov_5  mean_cov_6  \\\n",
      "0         1.0         0.0         0.0         0.0         0.0         0.0   \n",
      "1         1.0         0.0         0.0         0.0         0.0         0.0   \n",
      "2         1.0         0.0         0.0         0.0         0.0         0.0   \n",
      "3         1.0         0.0         0.0         0.0         0.0         0.0   \n",
      "4         1.0         0.0         0.0         0.0         0.0         0.0   \n",
      "\n",
      "   mean_cov_7  mean_cov_8  mean_cov_9  mean_cov_10  ...  canopint_7  \\\n",
      "0         0.0         0.0         0.0          0.0  ...    0.013346   \n",
      "1         0.0         0.0         0.0          0.0  ...    0.014067   \n",
      "2         0.0         0.0         0.0          0.0  ...    0.015859   \n",
      "3         0.0         0.0         0.0          0.0  ...    0.010501   \n",
      "4         0.0         0.0         0.0          0.0  ...    0.015142   \n",
      "\n",
      "   canopint_8  canopint_9  canopint_10  canopint_11  canopint_12  \\\n",
      "0    0.023366    0.018008     0.008390     0.007517     0.005843   \n",
      "1    0.017798    0.025853     0.022088     0.024257     0.008902   \n",
      "2    0.021423    0.026218     0.010130     0.010611     0.026112   \n",
      "3    0.019933    0.018395     0.022105     0.012700     0.013604   \n",
      "4    0.018696    0.028011     0.027487     0.019772     0.010866   \n",
      "\n",
      "   canopint_mean  canopint_std  canopint_min  canopint_max  \n",
      "0       0.019412      0.020823      0.008891      0.025962  \n",
      "1       0.024643      0.025536      0.013526      0.035569  \n",
      "2       0.026648      0.026985      0.014226      0.034911  \n",
      "3       0.023959      0.023268      0.016629      0.029113  \n",
      "4       0.026791      0.021149      0.016502      0.029099  \n",
      "\n",
      "[5 rows x 241 columns]\n",
      "Target range (train): 0.0 0.9999999999999999\n"
     ]
    }
   ],
   "source": [
    "print(\"Feature sample after scaling:\")\n",
    "print(train_df[feature_cols].head())\n",
    "print(\"Target range (train):\", train_df['target_scaled'].min(), train_df['target_scaled'].max())"
   ]
  },
  {
   "cell_type": "code",
   "execution_count": 131,
   "metadata": {},
   "outputs": [],
   "source": [
    "feature_cols += item_onehot_cols  # include one-hot columns last (will not scale them)"
   ]
  },
  {
   "cell_type": "code",
   "execution_count": 132,
   "metadata": {},
   "outputs": [
    {
     "name": "stdout",
     "output_type": "stream",
     "text": [
      "to csv  train.csv\n"
     ]
    }
   ],
   "source": [
    "# 1. One-hot encode 'item' again, now in each split\n",
    "train_df = pd.get_dummies(train_df, columns=['item'], prefix='item')\n",
    "val_df = pd.get_dummies(val_df, columns=['item'], prefix='item')\n",
    "test_df = pd.get_dummies(test_df, columns=['item'], prefix='item')\n",
    "\n",
    "# 2. Ensure all splits have the same item_* columns\n",
    "all_item_cols = sorted(set(train_df.columns) | set(val_df.columns) | set(test_df.columns))\n",
    "item_onehot_cols = [col for col in all_item_cols if col.startswith(\"item_\")]\n",
    "\n",
    "for col in item_onehot_cols:\n",
    "    for dset in [train_df, val_df, test_df]:\n",
    "        if col not in dset.columns:\n",
    "            dset[col] = 0\n",
    "\n",
    "# 3. Reorder to maintain consistent column structure\n",
    "train_df = train_df.reindex(columns=sorted(train_df.columns))\n",
    "val_df = val_df.reindex(columns=sorted(val_df.columns))\n",
    "test_df = test_df.reindex(columns=sorted(test_df.columns))\n",
    "print(\"to csv  train.csv\")\n",
    "train_df.to_csv(\"train_second.csv\", index=False)"
   ]
  },
  {
   "cell_type": "code",
   "execution_count": 133,
   "metadata": {},
   "outputs": [
    {
     "name": "stdout",
     "output_type": "stream",
     "text": [
      "feature columns to csv None\n"
     ]
    }
   ],
   "source": [
    "# Recreate the list of features\n",
    "exclude = ['yield', 'target', 'country', 'year', 'year_raw', 'country_id', 'year_id']\n",
    "feature_cols = [col for col in train_df.columns if col not in exclude and not col.startswith('item_')]\n",
    "feature_cols += item_onehot_cols  # now safe to add\n",
    "\n",
    "print(\"feature columns to csv\", train_df[feature_cols].to_csv(\"feature_columns.csv\", index=False))"
   ]
  },
  {
   "cell_type": "code",
   "execution_count": 134,
   "metadata": {},
   "outputs": [],
   "source": [
    "# Ensure all features are numeric floats\n",
    "train_df[feature_cols] = train_df[feature_cols].apply(pd.to_numeric, errors='coerce').astype('float32')\n",
    "val_df[feature_cols] = val_df[feature_cols].apply(pd.to_numeric, errors='coerce').astype('float32')\n",
    "test_df[feature_cols] = test_df[feature_cols].apply(pd.to_numeric, errors='coerce').astype('float32')"
   ]
  },
  {
   "cell_type": "code",
   "execution_count": 135,
   "metadata": {},
   "outputs": [],
   "source": [
    "import torch\n",
    "\n",
    "X_train_num = torch.tensor(train_df[feature_cols].values, dtype=torch.float32)\n",
    "X_train_country = torch.tensor(train_df['country_id'].values, dtype=torch.long)\n",
    "X_train_year = torch.tensor(train_df['year_id'].values, dtype=torch.long)\n",
    "y_train = torch.tensor(train_df['target_scaled'].values, dtype=torch.float32).view(-1, 1)\n",
    "\n",
    "X_val_num = torch.tensor(val_df[feature_cols].values, dtype=torch.float32)\n",
    "X_val_country = torch.tensor(val_df['country_id'].values, dtype=torch.long)\n",
    "X_val_year = torch.tensor(val_df['year_id'].values, dtype=torch.long)\n",
    "y_val = torch.tensor(val_df['target_scaled'].values, dtype=torch.float32).view(-1, 1)\n",
    "\n",
    "X_test_num = torch.tensor(test_df[feature_cols].values, dtype=torch.float32)\n",
    "X_test_country = torch.tensor(test_df['country_id'].values, dtype=torch.long)\n",
    "X_test_year = torch.tensor(test_df['year_id'].values, dtype=torch.long)\n",
    "y_test = torch.tensor(test_df['target_scaled'].values, dtype=torch.float32).view(-1, 1)"
   ]
  },
  {
   "cell_type": "markdown",
   "metadata": {},
   "source": [
    "## ML Model and Training"
   ]
  },
  {
   "cell_type": "markdown",
   "metadata": {},
   "source": [
    "more organized code:"
   ]
  },
  {
   "cell_type": "code",
   "execution_count": 136,
   "metadata": {},
   "outputs": [
    {
     "name": "stdout",
     "output_type": "stream",
     "text": [
      "Epoch 1, Train Loss: 0.0038, Train MAE: 0.0476, Val Loss: 0.0003, Val MAE: 0.0175\n",
      "📉 Learning rate after epoch 1: 0.000500\n",
      "Epoch 2, Train Loss: 0.0003, Train MAE: 0.0145, Val Loss: 0.0002, Val MAE: 0.0106\n",
      "📉 Learning rate after epoch 2: 0.000500\n",
      "Epoch 3, Train Loss: 0.0002, Train MAE: 0.0122, Val Loss: 0.0001, Val MAE: 0.0089\n",
      "📉 Learning rate after epoch 3: 0.000500\n",
      "Epoch 4, Train Loss: 0.0002, Train MAE: 0.0111, Val Loss: 0.0001, Val MAE: 0.0083\n",
      "📉 Learning rate after epoch 4: 0.000500\n",
      "Epoch 5, Train Loss: 0.0002, Train MAE: 0.0104, Val Loss: 0.0001, Val MAE: 0.0077\n",
      "📉 Learning rate after epoch 5: 0.000500\n",
      "Epoch 6, Train Loss: 0.0001, Train MAE: 0.0095, Val Loss: 0.0001, Val MAE: 0.0070\n",
      "📉 Learning rate after epoch 6: 0.000500\n",
      "Epoch 7, Train Loss: 0.0001, Train MAE: 0.0091, Val Loss: 0.0000, Val MAE: 0.0059\n",
      "📉 Learning rate after epoch 7: 0.000500\n",
      "Epoch 8, Train Loss: 0.0001, Train MAE: 0.0086, Val Loss: 0.0000, Val MAE: 0.0059\n",
      "📉 Learning rate after epoch 8: 0.000500\n",
      "Epoch 9, Train Loss: 0.0001, Train MAE: 0.0080, Val Loss: 0.0000, Val MAE: 0.0053\n",
      "📉 Learning rate after epoch 9: 0.000500\n",
      "Epoch 10, Train Loss: 0.0001, Train MAE: 0.0077, Val Loss: 0.0000, Val MAE: 0.0046\n",
      "📉 Learning rate after epoch 10: 0.000500\n",
      "Epoch 11, Train Loss: 0.0001, Train MAE: 0.0073, Val Loss: 0.0000, Val MAE: 0.0053\n",
      "  🔁 No improvement for 1 epoch(s).\n",
      "📉 Learning rate after epoch 11: 0.000500\n",
      "Epoch 12, Train Loss: 0.0001, Train MAE: 0.0071, Val Loss: 0.0001, Val MAE: 0.0047\n",
      "  🔁 No improvement for 2 epoch(s).\n",
      "📉 Learning rate after epoch 12: 0.000500\n",
      "Epoch 13, Train Loss: 0.0001, Train MAE: 0.0070, Val Loss: 0.0000, Val MAE: 0.0054\n",
      "  🔁 No improvement for 3 epoch(s).\n",
      "📉 Learning rate after epoch 13: 0.000500\n",
      "Epoch 14, Train Loss: 0.0001, Train MAE: 0.0066, Val Loss: 0.0000, Val MAE: 0.0045\n",
      "📉 Learning rate after epoch 14: 0.000500\n",
      "Epoch 15, Train Loss: 0.0001, Train MAE: 0.0065, Val Loss: 0.0000, Val MAE: 0.0040\n",
      "📉 Learning rate after epoch 15: 0.000500\n",
      "Epoch 16, Train Loss: 0.0001, Train MAE: 0.0064, Val Loss: 0.0000, Val MAE: 0.0043\n",
      "📉 Learning rate after epoch 16: 0.000500\n",
      "Epoch 17, Train Loss: 0.0000, Train MAE: 0.0063, Val Loss: 0.0000, Val MAE: 0.0044\n",
      "  🔁 No improvement for 1 epoch(s).\n",
      "📉 Learning rate after epoch 17: 0.000500\n",
      "Epoch 18, Train Loss: 0.0000, Train MAE: 0.0061, Val Loss: 0.0000, Val MAE: 0.0037\n",
      "📉 Learning rate after epoch 18: 0.000500\n",
      "Epoch 19, Train Loss: 0.0000, Train MAE: 0.0061, Val Loss: 0.0000, Val MAE: 0.0040\n",
      "  🔁 No improvement for 1 epoch(s).\n",
      "📉 Learning rate after epoch 19: 0.000500\n",
      "Epoch 20, Train Loss: 0.0000, Train MAE: 0.0059, Val Loss: 0.0000, Val MAE: 0.0051\n",
      "  🔁 No improvement for 2 epoch(s).\n",
      "📉 Learning rate after epoch 20: 0.000500\n",
      "Epoch 21, Train Loss: 0.0000, Train MAE: 0.0058, Val Loss: 0.0000, Val MAE: 0.0044\n",
      "  🔁 No improvement for 3 epoch(s).\n",
      "📉 Learning rate after epoch 21: 0.000500\n",
      "Epoch 22, Train Loss: 0.0000, Train MAE: 0.0058, Val Loss: 0.0000, Val MAE: 0.0038\n",
      "  🔁 No improvement for 4 epoch(s).\n",
      "📉 Learning rate after epoch 22: 0.000250\n",
      "Epoch 23, Train Loss: 0.0000, Train MAE: 0.0052, Val Loss: 0.0000, Val MAE: 0.0032\n",
      "📉 Learning rate after epoch 23: 0.000250\n",
      "Epoch 24, Train Loss: 0.0000, Train MAE: 0.0050, Val Loss: 0.0000, Val MAE: 0.0030\n",
      "📉 Learning rate after epoch 24: 0.000250\n",
      "Epoch 25, Train Loss: 0.0000, Train MAE: 0.0050, Val Loss: 0.0000, Val MAE: 0.0031\n",
      "  🔁 No improvement for 1 epoch(s).\n",
      "📉 Learning rate after epoch 25: 0.000250\n",
      "Epoch 26, Train Loss: 0.0000, Train MAE: 0.0050, Val Loss: 0.0000, Val MAE: 0.0037\n",
      "  🔁 No improvement for 2 epoch(s).\n",
      "📉 Learning rate after epoch 26: 0.000250\n",
      "Epoch 27, Train Loss: 0.0000, Train MAE: 0.0049, Val Loss: 0.0000, Val MAE: 0.0026\n",
      "📉 Learning rate after epoch 27: 0.000250\n",
      "Epoch 28, Train Loss: 0.0000, Train MAE: 0.0048, Val Loss: 0.0000, Val MAE: 0.0033\n",
      "  🔁 No improvement for 1 epoch(s).\n",
      "📉 Learning rate after epoch 28: 0.000250\n",
      "Epoch 29, Train Loss: 0.0000, Train MAE: 0.0048, Val Loss: 0.0000, Val MAE: 0.0037\n",
      "  🔁 No improvement for 2 epoch(s).\n",
      "📉 Learning rate after epoch 29: 0.000250\n",
      "Epoch 30, Train Loss: 0.0000, Train MAE: 0.0047, Val Loss: 0.0000, Val MAE: 0.0034\n",
      "  🔁 No improvement for 3 epoch(s).\n",
      "📉 Learning rate after epoch 30: 0.000250\n",
      "Epoch 31, Train Loss: 0.0000, Train MAE: 0.0047, Val Loss: 0.0000, Val MAE: 0.0031\n",
      "  🔁 No improvement for 4 epoch(s).\n",
      "📉 Learning rate after epoch 31: 0.000125\n",
      "Epoch 32, Train Loss: 0.0000, Train MAE: 0.0044, Val Loss: 0.0000, Val MAE: 0.0031\n",
      "  🔁 No improvement for 5 epoch(s).\n",
      "\n",
      "⏹️ Early stopping triggered at epoch 32.\n",
      "✅ Best model restored.\n"
     ]
    }
   ],
   "source": [
    "import torch.nn as nn\n",
    "from torch.utils.data import DataLoader, TensorDataset\n",
    "from sklearn.metrics import mean_absolute_error, mean_squared_error\n",
    "import torch\n",
    "from torch.optim.lr_scheduler import ReduceLROnPlateau\n",
    "\n",
    "# MLP model class with embeddings for country and year\n",
    "class MLPWithEmbeddings(nn.Module):\n",
    "    def __init__(self, input_dim, num_countries, num_years, emb_dim_country=8, emb_dim_year=4):\n",
    "        super().__init__()\n",
    "        self.country_emb = nn.Embedding(num_countries, emb_dim_country)\n",
    "        self.year_emb = nn.Embedding(num_years, emb_dim_year)\n",
    "\n",
    "        total_input_dim = input_dim + emb_dim_country + emb_dim_year\n",
    "\n",
    "        self.model = nn.Sequential(\n",
    "            nn.Linear(total_input_dim, 512),\n",
    "            nn.BatchNorm1d(512),\n",
    "            nn.ReLU(),\n",
    "            nn.Dropout(0.3),\n",
    "            nn.Linear(512, 256),\n",
    "            nn.BatchNorm1d(256),\n",
    "            nn.ReLU(),\n",
    "            nn.Dropout(0.3),\n",
    "            nn.Linear(256, 128),\n",
    "            nn.BatchNorm1d(128),\n",
    "            nn.ReLU(),\n",
    "            nn.Dropout(0.2),\n",
    "            nn.Linear(128, 1),\n",
    "            nn.Sigmoid()  # Clamp output\n",
    "        )\n",
    "\n",
    "    def forward(self, x_num, x_country, x_year):\n",
    "        c_vec = self.country_emb(x_country)\n",
    "        y_vec = self.year_emb(x_year)\n",
    "        x = torch.cat([x_num, c_vec, y_vec], dim=1)\n",
    "        return self.model(x)\n",
    "\n",
    "# Train the model\n",
    "def train(model, train_loader, loss_fn, optimizer):\n",
    "    model.train()\n",
    "    total_train_loss, total_train_mae = 0.0, 0.0\n",
    "    for xb_num, xb_country, xb_year, yb in train_loader:\n",
    "        pred = model(xb_num, xb_country, xb_year)\n",
    "        loss = loss_fn(pred, yb)\n",
    "        optimizer.zero_grad()\n",
    "        loss.backward()\n",
    "        optimizer.step()\n",
    "        total_train_loss += loss.item() * xb_num.size(0)\n",
    "        total_train_mae += mean_absolute_error(yb.detach().numpy(), pred.detach().numpy()) * xb_num.size(0)\n",
    "\n",
    "    avg_train_loss = total_train_loss / len(train_loader.dataset)\n",
    "    avg_train_mae = total_train_mae / len(train_loader.dataset)\n",
    "    return avg_train_loss, avg_train_mae\n",
    "\n",
    "# Evaluate the model\n",
    "def evaluate(model, val_loader, loss_fn):\n",
    "    model.eval()\n",
    "    total_val_loss, total_val_mae = 0.0, 0.0\n",
    "    with torch.no_grad():\n",
    "        for xb_num, xb_country, xb_year, yb in val_loader:\n",
    "            pred = model(xb_num, xb_country, xb_year)\n",
    "            loss = loss_fn(pred, yb)\n",
    "            total_val_loss += loss.item() * xb_num.size(0)\n",
    "            total_val_mae += mean_absolute_error(yb.numpy(), pred.numpy()) * xb_num.size(0)\n",
    "\n",
    "    avg_val_loss = total_val_loss / len(val_loader.dataset)\n",
    "    avg_val_mae = total_val_mae / len(val_loader.dataset)\n",
    "    return avg_val_loss, avg_val_mae\n",
    "\n",
    "# Main training loop with early stopping and learning rate scheduler\n",
    "def train_and_evaluate(model, train_loader, val_loader, loss_fn, optimizer, scheduler, patience=5, max_epochs=100):\n",
    "    best_loss = float('inf')\n",
    "    counter = 0\n",
    "    train_losses, train_maes, val_losses, val_maes = [], [], [], []\n",
    "    best_model_state = None\n",
    "\n",
    "    for epoch in range(max_epochs):\n",
    "        avg_train_loss, avg_train_mae = train(model, train_loader, loss_fn, optimizer)\n",
    "        avg_val_loss, avg_val_mae = evaluate(model, val_loader, loss_fn)\n",
    "\n",
    "        train_losses.append(avg_train_loss)\n",
    "        train_maes.append(avg_train_mae)\n",
    "        val_losses.append(avg_val_loss)\n",
    "        val_maes.append(avg_val_mae)\n",
    "\n",
    "        print(f\"Epoch {epoch+1}, Train Loss: {avg_train_loss:.4f}, Train MAE: {avg_train_mae:.4f}, \"\n",
    "              f\"Val Loss: {avg_val_loss:.4f}, Val MAE: {avg_val_mae:.4f}\")\n",
    "\n",
    "        # Early stopping logic\n",
    "        if avg_val_loss < best_loss:\n",
    "            best_loss = avg_val_loss\n",
    "            counter = 0\n",
    "            best_model_state = model.state_dict()  # Save best model\n",
    "        else:\n",
    "            counter += 1\n",
    "            print(f\"  🔁 No improvement for {counter} epoch(s).\")\n",
    "\n",
    "            if counter >= patience:\n",
    "                print(f\"\\n⏹️ Early stopping triggered at epoch {epoch+1}.\")\n",
    "                break\n",
    "\n",
    "        # Learning rate scheduler\n",
    "        scheduler.step(avg_val_loss)\n",
    "        current_lr = scheduler.optimizer.param_groups[0]['lr']\n",
    "        print(f\"📉 Learning rate after epoch {epoch+1}: {current_lr:.6f}\")\n",
    "\n",
    "    # Restore the best model\n",
    "    model.load_state_dict(best_model_state)\n",
    "    print(\"✅ Best model restored.\")\n",
    "    return model, train_losses, val_losses, train_maes, val_maes\n",
    "\n",
    "\n",
    "# Initialize the model, optimizer, and scheduler\n",
    "model = MLPWithEmbeddings(\n",
    "    input_dim=X_train_num.shape[1],\n",
    "    num_countries=num_countries,\n",
    "    num_years=num_years,\n",
    "    emb_dim_country=8,\n",
    "    emb_dim_year=4\n",
    ")\n",
    "optimizer = torch.optim.Adam(model.parameters(), lr=0.0005)\n",
    "\n",
    "scheduler = ReduceLROnPlateau(\n",
    "    optimizer, \n",
    "    mode='min',\n",
    "    factor=0.5,\n",
    "    patience=3,\n",
    "    min_lr=1e-6\n",
    ")\n",
    "\n",
    "loss_fn = nn.SmoothL1Loss()\n",
    "\n",
    "# DataLoader setup (assuming train, val, and test DataLoader are already defined)\n",
    "train_loader = DataLoader(\n",
    "    TensorDataset(X_train_num, X_train_country, X_train_year, y_train),\n",
    "    batch_size=36,\n",
    "    shuffle=True\n",
    ")\n",
    "\n",
    "val_loader = DataLoader(\n",
    "    TensorDataset(X_val_num, X_val_country, X_val_year, y_val),\n",
    "    batch_size=36,\n",
    "    shuffle=False\n",
    ")\n",
    "\n",
    "# Train and evaluate the model\n",
    "trained_model, train_losses, val_losses, train_maes, val_maes = train_and_evaluate(\n",
    "    model, train_loader, val_loader, loss_fn, optimizer, scheduler\n",
    ")"
   ]
  },
  {
   "cell_type": "markdown",
   "metadata": {},
   "source": [
    "With parameter sweep to see optimal values of country and year embeddings (current: 8, 4)"
   ]
  },
  {
   "cell_type": "code",
   "execution_count": 137,
   "metadata": {},
   "outputs": [
    {
     "data": {
      "image/png": "[encoded data removed]",
      "text/plain": [
       "<Figure size 1000x600 with 1 Axes>"
      ]
     },
     "metadata": {},
     "output_type": "display_data"
    }
   ],
   "source": [
    "import matplotlib.pyplot as plt\n",
    "\n",
    "# Plot training and validation loss\n",
    "plt.figure(figsize=(10, 6))\n",
    "plt.plot(train_losses, label='Train Loss', marker='o')\n",
    "plt.plot(val_losses, label='Validation Loss', marker='o')\n",
    "plt.title('Training and Validation Loss Over Epochs')\n",
    "plt.xlabel('Epochs')\n",
    "plt.ylabel('Loss')\n",
    "plt.legend()\n",
    "plt.grid(True)\n",
    "plt.tight_layout()\n",
    "plt.show()"
   ]
  },
  {
   "cell_type": "markdown",
   "metadata": {},
   "source": [
    "## Testing"
   ]
  },
  {
   "cell_type": "code",
   "execution_count": 138,
   "metadata": {},
   "outputs": [
    {
     "name": "stdout",
     "output_type": "stream",
     "text": [
      "\n",
      "🧪 Test MAE: 1106.03\n"
     ]
    }
   ],
   "source": [
    "from sklearn.metrics import mean_absolute_error\n",
    "\n",
    "# Predict\n",
    "model.eval()\n",
    "with torch.no_grad():\n",
    "    y_pred_test = model(X_test_num, X_test_country, X_test_year).numpy().flatten()  # predicted (scaled)\n",
    "    y_true_test = y_test.numpy().flatten()                                          # true (scaled)\n",
    "\n",
    "# Inverse transform to original yield scale\n",
    "y_pred_rescaled = target_scaler.inverse_transform(y_pred_test.reshape(-1, 1)).flatten()\n",
    "y_true_rescaled = target_scaler.inverse_transform(y_true_test.reshape(-1, 1)).flatten()\n",
    "\n",
    "# Calculate MAE\n",
    "mae = mean_absolute_error(y_true_rescaled, y_pred_rescaled)\n",
    "print(f\"\\n🧪 Test MAE: {mae:.2f}\")"
   ]
  },
  {
   "cell_type": "code",
   "execution_count": 139,
   "metadata": {},
   "outputs": [
    {
     "name": "stdout",
     "output_type": "stream",
     "text": [
      "Test Loss (MSE): 0.00001824\n",
      "Test MAE: 0.0026\n"
     ]
    }
   ],
   "source": [
    "from sklearn.metrics import mean_absolute_error, mean_squared_error\n",
    "# Calculate Test Loss and Test MAE\n",
    "\n",
    "# Ensure the model is in evaluation mode\n",
    "model.eval()\n",
    "\n",
    "# Predict on the test set\n",
    "with torch.no_grad():\n",
    "    y_pred_test = model(X_test_num, X_test_country, X_test_year).numpy().flatten()  # predicted (scaled)\n",
    "    y_true_test = y_test.numpy().flatten()                                          # true (scaled)\n",
    "\n",
    "# Calculate Test Loss (MSE)\n",
    "test_loss = mean_squared_error(y_true_test, y_pred_test)\n",
    "\n",
    "# Calculate Test MAE\n",
    "test_mae = mean_absolute_error(y_true_test, y_pred_test)\n",
    "\n",
    "print(f\"Test Loss (MSE): {test_loss:.8f}\")\n",
    "print(f\"Test MAE: {test_mae:.4f}\")"
   ]
  },
  {
   "cell_type": "code",
   "execution_count": 153,
   "metadata": {},
   "outputs": [],
   "source": [
    "from sklearn.metrics import mean_absolute_error, mean_squared_error, r2_score\n",
    "from scipy.stats import pearsonr, spearmanr\n",
    "import numpy as np\n",
    "\n",
    "def report_performance(model, X_num, X_country, X_year, y_true_scaled, target_scaler):\n",
    "    model.eval()\n",
    "    with torch.no_grad():\n",
    "        preds_scaled = model(X_num, X_country, X_year).cpu().numpy()\n",
    "    \n",
    "    # 1️⃣ Rescale predicted and true values to actual yield units\n",
    "    y_true = target_scaler.inverse_transform(y_true_scaled.cpu().numpy())\n",
    "    y_pred = target_scaler.inverse_transform(preds_scaled)\n",
    "\n",
    "    # 2️⃣ MAE: average absolute difference\n",
    "    mae = mean_absolute_error(y_true, y_pred)\n",
    "\n",
    "    # 3️⃣ RMSE: root of mean squared error\n",
    "    mse = mean_squared_error(y_true, y_pred)\n",
    "    rmse = np.sqrt(mse)\n",
    "    # 4️⃣ R²: how much variance is explained by the model\n",
    "    r2 = r2_score(y_true, y_pred)\n",
    "\n",
    "    # 5️⃣ Pearson r: linear correlation between predicted and actual\n",
    "    pearson_corr, _ = pearsonr(y_true.flatten(), y_pred.flatten())\n",
    "\n",
    "    # 6️⃣ Spearman rho: rank correlation between predicted and actual\n",
    "    spearman_corr, _ = spearmanr(y_true.flatten(), y_pred.flatten())\n",
    "\n",
    "    # 🔍 Print and return\n",
    "    print(\"📊 Model Performance:\")\n",
    "    print(f\" MAE:            {mae:.2f}\")\n",
    "    print(f\" RMSE:           {rmse:.2f}\")\n",
    "    print(f\" R² Score:       {r2:.4f}\")\n",
    "    print(f\" Pearson Corr:   {pearson_corr:.4f}\")\n",
    "    print(f\" Spearman Corr:  {spearman_corr:.4f}\")\n",
    "\n",
    "    return {\n",
    "        'mae': mae,\n",
    "        'rmse': rmse,\n",
    "        'r2': r2,\n",
    "        'pearson': pearson_corr,\n",
    "        'spearman': spearman_corr\n",
    "    }"
   ]
  },
  {
   "cell_type": "code",
   "execution_count": 154,
   "metadata": {},
   "outputs": [
    {
     "name": "stdout",
     "output_type": "stream",
     "text": [
      "📊 Model Performance:\n",
      " MAE:            1106.03\n",
      " RMSE:           1801.46\n",
      " R² Score:       0.9859\n",
      " Pearson Corr:   0.9945\n",
      " Spearman Corr:  0.9621\n"
     ]
    }
   ],
   "source": [
    "test_metrics = report_performance(\n",
    "    model=trained_model,\n",
    "    X_num=X_test_num,\n",
    "    X_country=X_test_country,\n",
    "    X_year=X_test_year,\n",
    "    y_true_scaled=y_test,\n",
    "    target_scaler=target_scaler\n",
    ")"
   ]
  },
  {
   "cell_type": "code",
   "execution_count": 142,
   "metadata": {},
   "outputs": [
    {
     "name": "stdout",
     "output_type": "stream",
     "text": [
      "🔍 Prediction range: 0.00050689554 to 0.8786399\n",
      "✅ True yield range: 0.0 to 0.739251\n"
     ]
    }
   ],
   "source": [
    "print(\"🔍 Prediction range:\", y_pred_test.min(), \"to\", y_pred_test.max())\n",
    "print(\"✅ True yield range:\", y_true_test.min(), \"to\", y_true_test.max())"
   ]
  },
  {
   "cell_type": "code",
   "execution_count": 143,
   "metadata": {},
   "outputs": [
    {
     "data": {
      "image/png": "[encoded data removed]",
      "text/plain": [
       "<Figure size 800x600 with 1 Axes>"
      ]
     },
     "metadata": {},
     "output_type": "display_data"
    }
   ],
   "source": [
    "import matplotlib.pyplot as plt\n",
    "\n",
    "plt.figure(figsize=(8, 6))\n",
    "plt.scatter(y_true_test, y_pred_test, alpha=0.6)\n",
    "plt.plot([y_true_test.min(), y_true_test.max()],\n",
    "         [y_true_test.min(), y_true_test.max()],\n",
    "         'r--', label='Perfect Prediction')\n",
    "plt.xlabel(\"Actual Yield\")\n",
    "plt.ylabel(\"Predicted Yield\")\n",
    "plt.title(\"Predicted vs Actual Yield (Test Set)\")\n",
    "plt.grid(True)\n",
    "plt.legend()\n",
    "plt.tight_layout()\n",
    "plt.show()"
   ]
  },
  {
   "cell_type": "code",
   "execution_count": 144,
   "metadata": {},
   "outputs": [],
   "source": [
    "df['year'] = pd.to_numeric(df['year'], errors='coerce').fillna(0).astype(int)"
   ]
  },
  {
   "cell_type": "code",
   "execution_count": 145,
   "metadata": {},
   "outputs": [
    {
     "name": "stdout",
     "output_type": "stream",
     "text": [
      "    year      country                                               item  \\\n",
      "0   2021  Afghanistan                                             Apples   \n",
      "1   2021  Afghanistan                                           Apricots   \n",
      "2   2021  Afghanistan                                             Barley   \n",
      "3   2021  Afghanistan                       Cantaloupes and other melons   \n",
      "4   2021  Afghanistan                                               Figs   \n",
      "5   2021  Afghanistan                                             Grapes   \n",
      "6   2021  Afghanistan                                            Linseed   \n",
      "7   2021  Afghanistan                                       Maize (corn)   \n",
      "8   2021  Afghanistan                                             Millet   \n",
      "9   2021  Afghanistan                                       Mustard seed   \n",
      "10  2021  Afghanistan                                             Olives   \n",
      "11  2021  Afghanistan                                            Oranges   \n",
      "12  2021  Afghanistan  Other berries and fruits of the genus vacciniu...   \n",
      "13  2021  Afghanistan                         Other citrus fruit, n.e.c.   \n",
      "14  2021  Afghanistan                               Other fruits, n.e.c.   \n",
      "15  2021  Afghanistan                                Other pulses n.e.c.   \n",
      "16  2021  Afghanistan                                 Other stone fruits   \n",
      "17  2021  Afghanistan                             Peaches and nectarines   \n",
      "18  2021  Afghanistan                                              Pears   \n",
      "19  2021  Afghanistan                                    Plums and sloes   \n",
      "\n",
      "      yield_true    yield_pred  \n",
      "0   10600.000000   9908.822266  \n",
      "1    7527.900391   6674.248535  \n",
      "2    1375.000000   1563.983032  \n",
      "3   10663.500000  10770.141602  \n",
      "4    4150.500000   3603.555908  \n",
      "5    9784.899414   8503.416992  \n",
      "6     906.299988    612.530212  \n",
      "7    2237.400146   2353.461914  \n",
      "8    1318.000000   1074.393677  \n",
      "9    1033.000000   1135.457397  \n",
      "10   3483.100098   2006.038452  \n",
      "11   6376.500000   6888.429199  \n",
      "12   4115.800293   4272.156738  \n",
      "13   9432.400391   9359.400391  \n",
      "14   7555.499512   7505.263672  \n",
      "15    591.400024    799.571594  \n",
      "16   7049.099609   5962.103516  \n",
      "17   8782.700195   8161.582520  \n",
      "18   7999.999512   7824.095215  \n",
      "19   8588.900391   7762.415527  \n"
     ]
    },
    {
     "name": "stderr",
     "output_type": "stream",
     "text": [
      "/var/folders/fw/pdkq_2cj66gd5py_6r6srh8r0000gn/T/ipykernel_37350/1416246486.py:3: PerformanceWarning: DataFrame is highly fragmented.  This is usually the result of calling `frame.insert` many times, which has poor performance.  Consider joining all columns at once using pd.concat(axis=1) instead. To get a de-fragmented frame, use `newframe = frame.copy()`\n",
      "  test_df['item'] = test_df[item_cols].idxmax(axis=1).str.replace('item_', '')\n",
      "/var/folders/fw/pdkq_2cj66gd5py_6r6srh8r0000gn/T/ipykernel_37350/1416246486.py:6: PerformanceWarning: DataFrame is highly fragmented.  This is usually the result of calling `frame.insert` many times, which has poor performance.  Consider joining all columns at once using pd.concat(axis=1) instead. To get a de-fragmented frame, use `newframe = frame.copy()`\n",
      "  test_df['yield_true'] = y_true_rescaled\n",
      "/var/folders/fw/pdkq_2cj66gd5py_6r6srh8r0000gn/T/ipykernel_37350/1416246486.py:7: PerformanceWarning: DataFrame is highly fragmented.  This is usually the result of calling `frame.insert` many times, which has poor performance.  Consider joining all columns at once using pd.concat(axis=1) instead. To get a de-fragmented frame, use `newframe = frame.copy()`\n",
      "  test_df['yield_pred'] = y_pred_rescaled\n"
     ]
    }
   ],
   "source": [
    "# 1. Recover the item name from one-hot columns\n",
    "item_cols = [col for col in test_df.columns if col.startswith('item_')]\n",
    "test_df['item'] = test_df[item_cols].idxmax(axis=1).str.replace('item_', '')\n",
    "\n",
    "# 2. Restore predictions and ground truth\n",
    "test_df['yield_true'] = y_true_rescaled\n",
    "test_df['yield_pred'] = y_pred_rescaled\n",
    "\n",
    "# 3. Select clean columns for display\n",
    "results_table = test_df[['year_raw', 'country', 'item', 'yield_true', 'yield_pred']]\n",
    "results_table = results_table.rename(columns={'year_raw': 'year'})\n",
    "\n",
    "# 4. Preview the output\n",
    "print(results_table.head(20))"
   ]
  },
  {
   "cell_type": "code",
   "execution_count": 146,
   "metadata": {},
   "outputs": [
    {
     "name": "stdout",
     "output_type": "stream",
     "text": [
      "✅ Results saved to 'yield_predictions.csv'\n"
     ]
    }
   ],
   "source": [
    "results_table.to_csv(\"yield_predictions.csv\", index=False)\n",
    "print(\"✅ Results saved to 'yield_predictions.csv'\")"
   ]
  },
  {
   "cell_type": "code",
   "execution_count": 147,
   "metadata": {},
   "outputs": [
    {
     "data": {
      "image/png": "[encoded data removed]",
      "text/plain": [
       "<Figure size 800x600 with 1 Axes>"
      ]
     },
     "metadata": {},
     "output_type": "display_data"
    }
   ],
   "source": [
    "import matplotlib.pyplot as plt\n",
    "\n",
    "plt.figure(figsize=(8, 6))\n",
    "plt.scatter(y_true_rescaled, y_pred_rescaled)\n",
    "plt.plot([y_true_rescaled.min(), y_true_rescaled.max()],\n",
    "         [y_true_rescaled.min(), y_true_rescaled.max()],\n",
    "         'r--', label='Perfect Prediction')\n",
    "plt.xlabel(\"Actual Yield\")\n",
    "plt.ylabel(\"Predicted Yield\")\n",
    "plt.title(\"Predicted vs Actual Yield (Test Set)\")\n",
    "plt.grid(True)\n",
    "plt.legend()\n",
    "plt.tight_layout()\n",
    "plt.show()"
   ]
  },
  {
   "cell_type": "code",
   "execution_count": 148,
   "metadata": {},
   "outputs": [
    {
     "name": "stderr",
     "output_type": "stream",
     "text": [
      "/var/folders/fw/pdkq_2cj66gd5py_6r6srh8r0000gn/T/ipykernel_37350/1397942013.py:6: DeprecationWarning: DataFrameGroupBy.apply operated on the grouping columns. This behavior is deprecated, and in a future version of pandas the grouping columns will be excluded from the operation. Either pass `include_groups=False` to exclude the groupings or explicitly select the grouping columns after groupby to silence this warning.\n",
      "  year_mae = test_df.groupby('year_raw').apply(\n"
     ]
    }
   ],
   "source": [
    "test_df['yield_true'] = y_true_rescaled\n",
    "test_df['yield_pred'] = y_pred_rescaled\n",
    "\n",
    "from sklearn.metrics import mean_absolute_error\n",
    "\n",
    "year_mae = test_df.groupby('year_raw').apply(\n",
    "    lambda x: mean_absolute_error(x['yield_true'], x['yield_pred'])\n",
    ").reset_index(name='mae')"
   ]
  },
  {
   "cell_type": "code",
   "execution_count": 149,
   "metadata": {},
   "outputs": [
    {
     "data": {
      "image/png": "[encoded data removed]",
      "text/plain": [
       "<Figure size 1000x500 with 1 Axes>"
      ]
     },
     "metadata": {},
     "output_type": "display_data"
    }
   ],
   "source": [
    "import matplotlib.pyplot as plt\n",
    "\n",
    "plt.figure(figsize=(10, 5))\n",
    "plt.plot(year_mae['year_raw'], year_mae['mae'], marker='o', linestyle='-')\n",
    "plt.title(\"Test MAE by Year\")\n",
    "plt.xlabel(\"Year\")\n",
    "plt.ylabel(\"Mean Absolute Error (Yield)\")\n",
    "plt.grid(True)\n",
    "plt.tight_layout()\n",
    "plt.show()"
   ]
  },
  {
   "cell_type": "code",
   "execution_count": 150,
   "metadata": {},
   "outputs": [
    {
     "name": "stdout",
     "output_type": "stream",
     "text": [
      "   year_raw          mae  count\n",
      "0      2021  1106.034912   5169\n"
     ]
    }
   ],
   "source": [
    "year_counts = test_df['year_raw'].value_counts().sort_index()\n",
    "year_mae['count'] = year_counts.values\n",
    "print(year_mae)"
   ]
  },
  {
   "cell_type": "code",
   "execution_count": 151,
   "metadata": {},
   "outputs": [
    {
     "name": "stdout",
     "output_type": "stream",
     "text": [
      "[2032] Actual: 303,615, Predicted: 343,242, Error: 39,627\n",
      "[1447] Actual: 311,814, Predicted: 370,608, Error: 58,794\n"
     ]
    }
   ],
   "source": [
    "import numpy as np\n",
    "import pandas as pd\n",
    "\n",
    "errors = np.abs(y_pred_rescaled.flatten() - y_true_rescaled.flatten())\n",
    "top_outliers_idx = np.argsort(errors)[-2:]  # indices of top 2 worst predictions\n",
    "\n",
    "# Print the values for inspection\n",
    "for idx in top_outliers_idx:\n",
    "    print(f\"[{idx}] Actual: {y_true_rescaled[idx]:,.0f}, Predicted: {y_pred_rescaled[idx]:,.0f}, Error: {errors[idx]:,.0f}\")"
   ]
  },
  {
   "cell_type": "code",
   "execution_count": 152,
   "metadata": {},
   "outputs": [
    {
     "name": "stdout",
     "output_type": "stream",
     "text": [
      "           actual     predicted        error             country         item  \\\n",
      "1447  311814.3125  370608.18750  58793.87500  Dominican Republic  Watermelons   \n",
      "2032  303614.8750  343241.90625  39627.03125              Guyana      Papayas   \n",
      "\n",
      "      year  \n",
      "1447  2021  \n",
      "2032  2021  \n"
     ]
    }
   ],
   "source": [
    "df_errors = pd.DataFrame({\n",
    "    \"actual\": y_true_rescaled,\n",
    "    \"predicted\": y_pred_rescaled,\n",
    "    \"error\": errors,\n",
    "    \"country\": test_df[\"country\"].values,\n",
    "    \"item\": test_df[\"item\"].values,\n",
    "    \"year\": test_df[\"year_raw\"].values\n",
    "})\n",
    "print(df_errors.sort_values(\"error\", ascending=False).head(2))"
   ]
  }
 ],
 "metadata": {
  "kernelspec": {
   "display_name": "Python 3",
   "language": "python",
   "name": "python3"
  },
  "language_info": {
   "codemirror_mode": {
    "name": "ipython",
    "version": 3
   },
   "file_extension": ".py",
   "mimetype": "text/x-python",
   "name": "python",
   "nbconvert_exporter": "python",
   "pygments_lexer": "ipython3",
   "version": "3.13.1"
  }
 },
 "nbformat": 4,
 "nbformat_minor": 2
}
