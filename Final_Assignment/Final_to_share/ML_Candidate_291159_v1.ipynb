{
 "cells": [
  {
   "cell_type": "markdown",
   "metadata": {},
   "source": [
    "# Data preparation"
   ]
  },
  {
   "cell_type": "markdown",
   "metadata": {},
   "source": [
    "- TODO: visualisation of Train Loss and Validate Loss => done\n",
    "- TODO: table, maybe?"
   ]
  },
  {
   "cell_type": "markdown",
   "metadata": {},
   "source": [
    "## Define and read files needed from datasets"
   ]
  },
  {
   "cell_type": "code",
   "execution_count": 1,
   "metadata": {},
   "outputs": [],
   "source": [
    "import pandas as pd\n",
    "import geopandas as gpd\n",
    "from shapely.geometry import Point\n",
    "\n",
    "# Countries lookup table\n",
    "lookup_df = pd.read_csv(\"/Users/suli/Documents/source/repo/MachineLearning/Final_Assignment/ML 2025 Coursework Dataset - A1/country_latitude_longitude_area_lookup.csv\")\n",
    "# yield and production data\n",
    "yield_df = pd.read_csv(\"/Users/suli/Documents/source/repo/MachineLearning/Final_Assignment/ML 2025 Coursework Dataset - A1/Yield_and_Production_data.csv\")\n",
    "# land cover data\n",
    "land_cover_df = pd.read_csv(\"/Users/suli/Documents/source/repo/MachineLearning/Final_Assignment/ML 2025 Coursework Dataset - A1/Land_Cover_Percent_data.csv\")\n",
    "# define files to merge\n",
    "climate_files = {\n",
    "    \"rain\": \"/Users/suli/Documents/source/repo/MachineLearning/Final_Assignment/ML 2025 Coursework Dataset - A1/Rainf_tavg_data.csv\",\n",
    "    \"snow\": \"/Users/suli/Documents/source/repo/MachineLearning/Final_Assignment/ML 2025 Coursework Dataset - A1/Snowf_tavg_data.csv\",\n",
    "    \"esoil\": \"/Users/suli/Documents/source/repo/MachineLearning/Final_Assignment/ML 2025 Coursework Dataset - A1/ESoil_tavg_data.csv\",\n",
    "    \"soilmoisture_0_10\": \"/Users/suli/Documents/source/repo/MachineLearning/Final_Assignment/ML 2025 Coursework Dataset - A1/SoilMoi0_10cm_inst_data.csv\",\n",
    "    \"soilmoisture_10_40\": \"/Users/suli/Documents/source/repo/MachineLearning/Final_Assignment/ML 2025 Coursework Dataset - A1/SoilMoi10_40cm_inst_data.csv\",\n",
    "    \"soilmoisture_40_100\": \"/Users/suli/Documents/source/repo/MachineLearning/Final_Assignment/ML 2025 Coursework Dataset - A1/SoilMoi40_100cm_inst_data.csv\",\n",
    "    \"soilmoisture_100_200\": \"/Users/suli/Documents/source/repo/MachineLearning/Final_Assignment/ML 2025 Coursework Dataset - A1/SoilMoi100_200cm_inst_data.csv\",\n",
    "    \"soiltemp_0_10\": \"/Users/suli/Documents/source/repo/MachineLearning/Final_Assignment/ML 2025 Coursework Dataset - A1/SoilTMP0_10cm_inst_data.csv\",\n",
    "    \"soiltemp_10_40\": \"/Users/suli/Documents/source/repo/MachineLearning/Final_Assignment/ML 2025 Coursework Dataset - A1/SoilTMP10_40cm_inst_data.csv\",\n",
    "    \"soiltemp_40_100\": \"/Users/suli/Documents/source/repo/MachineLearning/Final_Assignment/ML 2025 Coursework Dataset - A1/SoilTMP40_100cm_inst_data.csv\",\n",
    "    \"soiltemp_100_200\": \"/Users/suli/Documents/source/repo/MachineLearning/Final_Assignment/ML 2025 Coursework Dataset - A1/SoilTMP100_200cm_inst_data.csv\",\n",
    "    \"tveg\": \"/Users/suli/Documents/source/repo/MachineLearning/Final_Assignment/ML 2025 Coursework Dataset - A1/TVeg_tavg_data.csv\",\n",
    "    \"tws\": \"/Users/suli/Documents/source/repo/MachineLearning/Final_Assignment/ML 2025 Coursework Dataset - A1/TWS_inst_data.csv\",\n",
    "    \"canopint\": \"/Users/suli/Documents/source/repo/MachineLearning/Final_Assignment/ML 2025 Coursework Dataset - A1/CanopInt_inst_data.csv\"  # Newly added dataset\n",
    "}"
   ]
  },
  {
   "cell_type": "markdown",
   "metadata": {},
   "source": [
    "## Spatial join and merge datasets"
   ]
  },
  {
   "cell_type": "code",
   "execution_count": 2,
   "metadata": {},
   "outputs": [
    {
     "name": "stdout",
     "output_type": "stream",
     "text": [
      "Core dataset saved as Core_Dataset.csv\n"
     ]
    }
   ],
   "source": [
    "# Helper Function: process and average by country-year\n",
    "def process_monthly_climate(filepath, variable_prefix, lookup_gdf):\n",
    "    df = pd.read_csv(filepath)\n",
    "    # Convert lat/lon into Shapely Points\n",
    "    df['geometry'] = [Point(xy) for xy in zip(df['longitude'], df['latitude'])]\n",
    "    # Make GeoDataFrame\n",
    "    gdf = gpd.GeoDataFrame(df, geometry='geometry', crs='EPSG:4326')\n",
    "    # Reproject to metric system for distance calculation\n",
    "    gdf_proj = gdf.to_crs(\"EPSG:3857\")\n",
    "    lookup_proj = lookup_gdf.to_crs(\"EPSG:3857\")\n",
    "    # Spatial join to match each climate point to its nearest country lookup point\n",
    "    joined = gpd.sjoin_nearest(gdf_proj, lookup_proj, how='left', distance_col='distance')\n",
    "    # Drop geometry and return to original lat/lon projection\n",
    "    joined = joined.to_crs(\"EPSG:4326\").drop(columns='geometry')\n",
    "    # Identify monthly columns (e.g. month_1 to month_12)\n",
    "    month_cols = [col for col in df.columns if 'month' in col.lower()]\n",
    "    # Rename them to include the variable prefix (e.g. rain_1, rain_2, ...)\n",
    "    new_col_map = {col: f\"{variable_prefix}_{i+1}\" for i, col in enumerate(month_cols)}\n",
    "    joined = joined.rename(columns=new_col_map)\n",
    "    # Group by country + year and take the mean across all nearby points\n",
    "    monthly_avg = joined.groupby(['country', 'year'])[[*new_col_map.values()]].mean().reset_index()\n",
    "    return monthly_avg\n",
    "\n",
    "lookup_df['geometry'] = [Point(xy) for xy in zip(lookup_df['longitude'], lookup_df['latitude'])]\n",
    "lookup_gdf = gpd.GeoDataFrame(lookup_df, geometry='geometry', crs='EPSG:4326')\n",
    "# lowercase column names\n",
    "yield_df.columns = [c.strip().lower() for c in yield_df.columns]\n",
    "# filter to only 'Yield' rows\n",
    "yield_df = yield_df[yield_df[\"element\"] == \"Yield\"]\n",
    "# rename 'value' to 'yield'\n",
    "if \"yield\" not in yield_df.columns and \"value\" in yield_df.columns:\n",
    "    yield_df = yield_df.rename(columns={\"value\": \"yield\"})\n",
    "\n",
    "# Process and merge all climate datasets\n",
    "merged_climate = None\n",
    "for prefix, path in climate_files.items():\n",
    "    climate_df = process_monthly_climate(path, prefix, lookup_gdf)\n",
    "    if merged_climate is None:\n",
    "        merged_climate = climate_df\n",
    "    else:\n",
    "        # Outer join to accumulate all monthly features\n",
    "        merged_climate = pd.merge(merged_climate, climate_df, on=[\"country\", \"year\"], how=\"outer\")\n",
    "\n",
    "land_cover_df['geometry'] = [Point(xy) for xy in zip(land_cover_df['longitude'], land_cover_df['latitude'])]\n",
    "land_cover_gdf = gpd.GeoDataFrame(land_cover_df, geometry='geometry', crs='EPSG:4326')\n",
    "# Join each land cover point to nearest country point\n",
    "land_cov_joined = gpd.sjoin_nearest(land_cover_gdf.to_crs(\"EPSG:3857\"), lookup_gdf.to_crs(\"EPSG:3857\"), how='left')\n",
    "land_cov_joined = land_cov_joined.to_crs(\"EPSG:4326\").drop(columns='geometry')\n",
    "# Rename land cover class columns to standardized names\n",
    "land_class_cols = [col for col in land_cover_df.columns if \"class_\" in col.lower()]\n",
    "land_cov_col_map = {col: f\"mean_cov_{col.split('_')[-1]}\" for col in land_class_cols}\n",
    "land_cov_joined = land_cov_joined.rename(columns=land_cov_col_map)\n",
    "# Aggregate land cover by country (mean percent per class)\n",
    "land_cov_summary = land_cov_joined.groupby(\"country\")[list(land_cov_col_map.values())].mean().reset_index()\n",
    "\n",
    "# Merge with climate on country + year\n",
    "climate_with_land = pd.merge(merged_climate, land_cov_summary, on=\"country\", how=\"left\")\n",
    "\n",
    "# Merge with yield data \n",
    "final_df = pd.merge(yield_df, climate_with_land, on=[\"country\", \"year\"], how=\"inner\")\n",
    "\n",
    "# Organize column order\n",
    "def ordered_columns(final_df):\n",
    "    rain_cols = [f\"rain_{i}\" for i in range(1, 13)]\n",
    "    snow_cols = [f\"snow_{i}\" for i in range(1, 13)]\n",
    "    esoil_cols = [f\"esoil_{i}\" for i in range(1, 13)]\n",
    "    soilm_cols, soilt_cols = [], []\n",
    "    for layer in [\"0_10\", \"10_40\", \"40_100\", \"100_200\"]:\n",
    "        soilm_cols += [f\"soilmoisture_{layer}_{i}\" for i in range(1, 13)]\n",
    "        soilt_cols += [f\"soiltemp_{layer}_{i}\" for i in range(1, 13)]\n",
    "\n",
    "    tveg_cols = [f\"tveg_{i}\" for i in range(1, 13)]\n",
    "    tws_cols = [f\"tws_{i}\" for i in range(1, 13)]\n",
    "    canopint_cols = [f\"canopint_{i}\" for i in range(1, 13)]\n",
    "    landcov_cols = [f\"mean_cov_{i}\" for i in range(1, 18)]\n",
    "\n",
    "    base_cols = [\"country\", \"item\", \"year\"]\n",
    "    # Combine all expected features (filter only those that exist in the final DataFrame)\n",
    "    all_features = landcov_cols + rain_cols + snow_cols + esoil_cols + soilm_cols + soilt_cols + tveg_cols + tws_cols + canopint_cols\n",
    "    all_features = [col for col in all_features if col in final_df.columns]\n",
    "\n",
    "    return base_cols + all_features + [\"yield\"]\n",
    "\n",
    "final_df = final_df[ordered_columns(final_df)]\n",
    "\n",
    "# Save final output\n",
    "final_df.to_csv(\"Core_Dataset.csv\", index=False)\n",
    "print(\"Core dataset saved as Core_Dataset.csv\")"
   ]
  },
  {
   "cell_type": "markdown",
   "metadata": {},
   "source": [
    "# Data preprocessing"
   ]
  },
  {
   "cell_type": "markdown",
   "metadata": {},
   "source": [
    "## Data shaping"
   ]
  },
  {
   "cell_type": "code",
   "execution_count": 3,
   "metadata": {},
   "outputs": [
    {
     "name": "stdout",
     "output_type": "stream",
     "text": [
      "Data shape: (67963, 189)\n",
      "Columns: ['year', 'country', 'item', 'mean_cov_1', 'mean_cov_2', 'mean_cov_3', 'mean_cov_4', 'mean_cov_5', 'mean_cov_6', 'mean_cov_7', 'mean_cov_8', 'mean_cov_9', 'mean_cov_10', 'mean_cov_11', 'mean_cov_12', 'mean_cov_13', 'mean_cov_14', 'mean_cov_15', 'mean_cov_16', 'mean_cov_17', 'rain_1', 'rain_2', 'rain_3', 'rain_4', 'rain_5', 'rain_6', 'rain_7', 'rain_8', 'rain_9', 'rain_10', 'rain_11', 'rain_12', 'snow_1', 'snow_2', 'snow_3', 'snow_4', 'snow_5', 'snow_6', 'snow_7', 'snow_8', 'snow_9', 'snow_10', 'snow_11', 'snow_12', 'esoil_1', 'esoil_2', 'esoil_3', 'esoil_4', 'esoil_5', 'esoil_6', 'esoil_7', 'esoil_8', 'esoil_9', 'esoil_10', 'esoil_11', 'esoil_12', 'soilmoisture_0_10_1', 'soilmoisture_0_10_2', 'soilmoisture_0_10_3', 'soilmoisture_0_10_4', 'soilmoisture_0_10_5', 'soilmoisture_0_10_6', 'soilmoisture_0_10_7', 'soilmoisture_0_10_8', 'soilmoisture_0_10_9', 'soilmoisture_0_10_10', 'soilmoisture_0_10_11', 'soilmoisture_0_10_12', 'soilmoisture_10_40_1', 'soilmoisture_10_40_2', 'soilmoisture_10_40_3', 'soilmoisture_10_40_4', 'soilmoisture_10_40_5', 'soilmoisture_10_40_6', 'soilmoisture_10_40_7', 'soilmoisture_10_40_8', 'soilmoisture_10_40_9', 'soilmoisture_10_40_10', 'soilmoisture_10_40_11', 'soilmoisture_10_40_12', 'soilmoisture_40_100_1', 'soilmoisture_40_100_2', 'soilmoisture_40_100_3', 'soilmoisture_40_100_4', 'soilmoisture_40_100_5', 'soilmoisture_40_100_6', 'soilmoisture_40_100_7', 'soilmoisture_40_100_8', 'soilmoisture_40_100_9', 'soilmoisture_40_100_10', 'soilmoisture_40_100_11', 'soilmoisture_40_100_12', 'soilmoisture_100_200_1', 'soilmoisture_100_200_2', 'soilmoisture_100_200_3', 'soilmoisture_100_200_4', 'soilmoisture_100_200_5', 'soilmoisture_100_200_6', 'soilmoisture_100_200_7', 'soilmoisture_100_200_8', 'soilmoisture_100_200_9', 'soilmoisture_100_200_10', 'soilmoisture_100_200_11', 'soilmoisture_100_200_12', 'soiltemp_0_10_1', 'soiltemp_0_10_2', 'soiltemp_0_10_3', 'soiltemp_0_10_4', 'soiltemp_0_10_5', 'soiltemp_0_10_6', 'soiltemp_0_10_7', 'soiltemp_0_10_8', 'soiltemp_0_10_9', 'soiltemp_0_10_10', 'soiltemp_0_10_11', 'soiltemp_0_10_12', 'soiltemp_10_40_1', 'soiltemp_10_40_2', 'soiltemp_10_40_3', 'soiltemp_10_40_4', 'soiltemp_10_40_5', 'soiltemp_10_40_6', 'soiltemp_10_40_7', 'soiltemp_10_40_8', 'soiltemp_10_40_9', 'soiltemp_10_40_10', 'soiltemp_10_40_11', 'soiltemp_10_40_12', 'soiltemp_40_100_1', 'soiltemp_40_100_2', 'soiltemp_40_100_3', 'soiltemp_40_100_4', 'soiltemp_40_100_5', 'soiltemp_40_100_6', 'soiltemp_40_100_7', 'soiltemp_40_100_8', 'soiltemp_40_100_9', 'soiltemp_40_100_10', 'soiltemp_40_100_11', 'soiltemp_40_100_12', 'soiltemp_100_200_1', 'soiltemp_100_200_2', 'soiltemp_100_200_3', 'soiltemp_100_200_4', 'soiltemp_100_200_5', 'soiltemp_100_200_6', 'soiltemp_100_200_7', 'soiltemp_100_200_8', 'soiltemp_100_200_9', 'soiltemp_100_200_10', 'soiltemp_100_200_11', 'soiltemp_100_200_12', 'tveg_1', 'tveg_2', 'tveg_3', 'tveg_4', 'tveg_5', 'tveg_6', 'tveg_7', 'tveg_8', 'tveg_9', 'tveg_10', 'tveg_11', 'tveg_12', 'tws_1', 'tws_2', 'tws_3', 'tws_4', 'tws_5', 'tws_6', 'tws_7', 'tws_8', 'tws_9', 'tws_10', 'tws_11', 'tws_12', 'canopint_1', 'canopint_2', 'canopint_3', 'canopint_4', 'canopint_5', 'canopint_6', 'canopint_7', 'canopint_8', 'canopint_9', 'canopint_10', 'canopint_11', 'canopint_12', 'yield']\n"
     ]
    }
   ],
   "source": [
    "# Load data\n",
    "df = pd.read_csv(\"Core_Dataset.csv\")\n",
    "\n",
    "# Move 'year' to the front\n",
    "cols = df.columns.tolist()\n",
    "if 'year' in cols:\n",
    "    cols.insert(0, cols.pop(cols.index('year')))\n",
    "df = df[cols]\n",
    "\n",
    "# Display structure\n",
    "print(\"Data shape:\", df.shape)\n",
    "print(\"Columns:\", df.columns.tolist())"
   ]
  },
  {
   "cell_type": "code",
   "execution_count": 4,
   "metadata": {},
   "outputs": [
    {
     "name": "stdout",
     "output_type": "stream",
     "text": [
      "Years in dataset: [np.int64(2010), np.int64(2011), np.int64(2012), np.int64(2013), np.int64(2014), np.int64(2015), np.int64(2016), np.int64(2017), np.int64(2018), np.int64(2019), np.int64(2020), np.int64(2021), np.int64(2022)]\n"
     ]
    }
   ],
   "source": [
    "# Convert year to integer format (e.g. 2010, 2011, ...)\n",
    "df['year_raw'] = df['year'].astype(int)  # backup for clean export\n",
    "# Optional sanity check\n",
    "print(\"Years in dataset:\", sorted(df['year'].unique()))"
   ]
  },
  {
   "cell_type": "code",
   "execution_count": 5,
   "metadata": {},
   "outputs": [],
   "source": [
    "# Shift Yield by -1 per country/item\n",
    "df['target'] = df.groupby(['country', 'item'])['yield'].shift(-1)\n",
    "\n",
    "# Drop rows without target\n",
    "df = df.dropna(subset=['target']).copy()"
   ]
  },
  {
   "cell_type": "code",
   "execution_count": 6,
   "metadata": {},
   "outputs": [],
   "source": [
    "from sklearn.preprocessing import LabelEncoder\n",
    "\n",
    "# Encode 'country' and 'item'\n",
    "df['country_enc'] = LabelEncoder().fit_transform(df['country'])\n",
    "\n",
    "df = pd.get_dummies(df, columns=['item'], prefix='item')\n",
    "\n",
    "\n",
    "country_encoder = LabelEncoder()\n",
    "df['country_id'] = country_encoder.fit_transform(df['country'])\n",
    "num_countries = df['country_id'].nunique()\n",
    "\n",
    "year_encoder = LabelEncoder()\n",
    "df['year_id'] = year_encoder.fit_transform(df['year_raw'])  # keep 'year_raw' as integer\n",
    "num_years = df['year_id'].nunique()"
   ]
  },
  {
   "cell_type": "markdown",
   "metadata": {},
   "source": [
    "## Normalisation"
   ]
  },
  {
   "cell_type": "code",
   "execution_count": 7,
   "metadata": {},
   "outputs": [
    {
     "name": "stderr",
     "output_type": "stream",
     "text": [
      "/var/folders/fw/pdkq_2cj66gd5py_6r6srh8r0000gn/T/ipykernel_16400/2489308846.py:18: PerformanceWarning: DataFrame is highly fragmented.  This is usually the result of calling `frame.insert` many times, which has poor performance.  Consider joining all columns at once using pd.concat(axis=1) instead. To get a de-fragmented frame, use `newframe = frame.copy()`\n",
      "  df['target_scaled'] = target_scaler.fit_transform(df[['target']])\n"
     ]
    },
    {
     "name": "stdout",
     "output_type": "stream",
     "text": [
      "   mean_cov_1  mean_cov_2  mean_cov_3  mean_cov_4  mean_cov_5  mean_cov_6  \\\n",
      "0         1.0         0.0         0.0         0.0         0.0         0.0   \n",
      "1         1.0         0.0         0.0         0.0         0.0         0.0   \n",
      "2         1.0         0.0         0.0         0.0         0.0         0.0   \n",
      "3         1.0         0.0         0.0         0.0         0.0         0.0   \n",
      "4         1.0         0.0         0.0         0.0         0.0         0.0   \n",
      "\n",
      "   mean_cov_7  mean_cov_8  mean_cov_9  mean_cov_10  ...  \\\n",
      "0         0.0         0.0         0.0          0.0  ...   \n",
      "1         0.0         0.0         0.0          0.0  ...   \n",
      "2         0.0         0.0         0.0          0.0  ...   \n",
      "3         0.0         0.0         0.0          0.0  ...   \n",
      "4         0.0         0.0         0.0          0.0  ...   \n",
      "\n",
      "   item_Tallowtree seeds  item_Tangerines, mandarins, clementines  \\\n",
      "0                    0.0                                      0.0   \n",
      "1                    0.0                                      0.0   \n",
      "2                    0.0                                      0.0   \n",
      "3                    0.0                                      0.0   \n",
      "4                    0.0                                      0.0   \n",
      "\n",
      "   item_Treenuts, Total  item_Triticale  item_True hemp, raw or retted  \\\n",
      "0                   0.0             0.0                            0.0   \n",
      "1                   0.0             0.0                            0.0   \n",
      "2                   0.0             0.0                            0.0   \n",
      "3                   0.0             0.0                            0.0   \n",
      "4                   0.0             0.0                            0.0   \n",
      "\n",
      "   item_Tung nuts  item_Vegetables Primary  item_Vetches  item_Watermelons  \\\n",
      "0             0.0                      0.0           0.0               0.0   \n",
      "1             0.0                      0.0           0.0               0.0   \n",
      "2             0.0                      0.0           0.0               0.0   \n",
      "3             0.0                      0.0           0.0               0.0   \n",
      "4             0.0                      0.0           0.0               0.0   \n",
      "\n",
      "   item_Wheat  \n",
      "0         0.0  \n",
      "1         0.0  \n",
      "2         0.0  \n",
      "3         0.0  \n",
      "4         0.0  \n",
      "\n",
      "[5 rows x 289 columns]\n"
     ]
    }
   ],
   "source": [
    "from sklearn.preprocessing import MinMaxScaler\n",
    "\n",
    "# Features to exclude\n",
    "exclude = ['Yield', 'target', 'country','item','year_raw', 'country_id', 'year', 'year_id']\n",
    "one_hot_cols = [col for col in df.columns if col.startswith('item_')]\n",
    "feature_cols = [col for col in df.columns if col not in exclude and col not in one_hot_cols]\n",
    "feature_cols += one_hot_cols  # include one-hot columns explicitly\n",
    "\n",
    "scaler = MinMaxScaler()\n",
    "df[feature_cols] = df[feature_cols].apply(pd.to_numeric, errors='coerce')  # force numeric\n",
    "df[feature_cols] = scaler.fit_transform(df[feature_cols])\n",
    "df[feature_cols] = df[feature_cols].fillna(df[feature_cols].mean())  # fill NaNs\n",
    "\n",
    "# add one-hot columns after fit transform because we don't want to scale one-hot columns (they are already 0/1)\n",
    "\n",
    "# Create separate scaler for target\n",
    "target_scaler = MinMaxScaler()\n",
    "df['target_scaled'] = target_scaler.fit_transform(df[['target']])\n",
    "\n",
    "# Fill any remaining NaNs after scaling\n",
    "df[feature_cols] = df[feature_cols].fillna(df[feature_cols].mean())\n",
    "\n",
    "print(df[feature_cols].head())\n",
    "results = df[feature_cols].copy()\n",
    "results.to_csv(\"features.csv\", index=False)\n"
   ]
  },
  {
   "cell_type": "markdown",
   "metadata": {},
   "source": [
    "## Splitting"
   ]
  },
  {
   "cell_type": "code",
   "execution_count": null,
   "metadata": {},
   "outputs": [
    {
     "ename": "KeyError",
     "evalue": "\"['Yield'] not in index\"",
     "output_type": "error",
     "traceback": [
      "\u001b[0;31m---------------------------------------------------------------------------\u001b[0m",
      "\u001b[0;31mKeyError\u001b[0m                                  Traceback (most recent call last)",
      "Cell \u001b[0;32mIn[33], line 54\u001b[0m\n\u001b[1;32m     50\u001b[0m     \u001b[38;5;28;01mreturn\u001b[39;00m pd\u001b[38;5;241m.\u001b[39mconcat(train_list), pd\u001b[38;5;241m.\u001b[39mconcat(val_list), pd\u001b[38;5;241m.\u001b[39mconcat(test_list)\n\u001b[1;32m     52\u001b[0m train_df, val_df, test_df \u001b[38;5;241m=\u001b[39m split_time_series(df, test_year\u001b[38;5;241m=\u001b[39m\u001b[38;5;241m2019\u001b[39m, val_year\u001b[38;5;241m=\u001b[39m\u001b[38;5;241m2018\u001b[39m)\n\u001b[0;32m---> 54\u001b[0m check \u001b[38;5;241m=\u001b[39m \u001b[43mtest_df\u001b[49m\u001b[43m[\u001b[49m\u001b[43m[\u001b[49m\u001b[38;5;124;43m'\u001b[39;49m\u001b[38;5;124;43mcountry\u001b[39;49m\u001b[38;5;124;43m'\u001b[39;49m\u001b[43m,\u001b[49m\u001b[43m \u001b[49m\u001b[38;5;124;43m'\u001b[39;49m\u001b[38;5;124;43myear_raw\u001b[39;49m\u001b[38;5;124;43m'\u001b[39;49m\u001b[43m,\u001b[49m\u001b[43m \u001b[49m\u001b[38;5;124;43m'\u001b[39;49m\u001b[38;5;124;43mtarget\u001b[39;49m\u001b[38;5;124;43m'\u001b[39;49m\u001b[43m,\u001b[49m\u001b[43m \u001b[49m\u001b[38;5;124;43m'\u001b[39;49m\u001b[38;5;124;43mYield\u001b[39;49m\u001b[38;5;124;43m'\u001b[39;49m\u001b[43m]\u001b[49m\u001b[43m]\u001b[49m\n\u001b[1;32m     55\u001b[0m \u001b[38;5;28mprint\u001b[39m(check\u001b[38;5;241m.\u001b[39msort_values(\u001b[38;5;124m'\u001b[39m\u001b[38;5;124mtarget\u001b[39m\u001b[38;5;124m'\u001b[39m, ascending\u001b[38;5;241m=\u001b[39m\u001b[38;5;28;01mFalse\u001b[39;00m)\u001b[38;5;241m.\u001b[39mhead(\u001b[38;5;241m10\u001b[39m))\n",
      "File \u001b[0;32m/Library/Frameworks/Python.framework/Versions/3.13/lib/python3.13/site-packages/pandas/core/frame.py:4108\u001b[0m, in \u001b[0;36mDataFrame.__getitem__\u001b[0;34m(self, key)\u001b[0m\n\u001b[1;32m   4106\u001b[0m     \u001b[38;5;28;01mif\u001b[39;00m is_iterator(key):\n\u001b[1;32m   4107\u001b[0m         key \u001b[38;5;241m=\u001b[39m \u001b[38;5;28mlist\u001b[39m(key)\n\u001b[0;32m-> 4108\u001b[0m     indexer \u001b[38;5;241m=\u001b[39m \u001b[38;5;28;43mself\u001b[39;49m\u001b[38;5;241;43m.\u001b[39;49m\u001b[43mcolumns\u001b[49m\u001b[38;5;241;43m.\u001b[39;49m\u001b[43m_get_indexer_strict\u001b[49m\u001b[43m(\u001b[49m\u001b[43mkey\u001b[49m\u001b[43m,\u001b[49m\u001b[43m \u001b[49m\u001b[38;5;124;43m\"\u001b[39;49m\u001b[38;5;124;43mcolumns\u001b[39;49m\u001b[38;5;124;43m\"\u001b[39;49m\u001b[43m)\u001b[49m[\u001b[38;5;241m1\u001b[39m]\n\u001b[1;32m   4110\u001b[0m \u001b[38;5;66;03m# take() does not accept boolean indexers\u001b[39;00m\n\u001b[1;32m   4111\u001b[0m \u001b[38;5;28;01mif\u001b[39;00m \u001b[38;5;28mgetattr\u001b[39m(indexer, \u001b[38;5;124m\"\u001b[39m\u001b[38;5;124mdtype\u001b[39m\u001b[38;5;124m\"\u001b[39m, \u001b[38;5;28;01mNone\u001b[39;00m) \u001b[38;5;241m==\u001b[39m \u001b[38;5;28mbool\u001b[39m:\n",
      "File \u001b[0;32m/Library/Frameworks/Python.framework/Versions/3.13/lib/python3.13/site-packages/pandas/core/indexes/base.py:6200\u001b[0m, in \u001b[0;36mIndex._get_indexer_strict\u001b[0;34m(self, key, axis_name)\u001b[0m\n\u001b[1;32m   6197\u001b[0m \u001b[38;5;28;01melse\u001b[39;00m:\n\u001b[1;32m   6198\u001b[0m     keyarr, indexer, new_indexer \u001b[38;5;241m=\u001b[39m \u001b[38;5;28mself\u001b[39m\u001b[38;5;241m.\u001b[39m_reindex_non_unique(keyarr)\n\u001b[0;32m-> 6200\u001b[0m \u001b[38;5;28;43mself\u001b[39;49m\u001b[38;5;241;43m.\u001b[39;49m\u001b[43m_raise_if_missing\u001b[49m\u001b[43m(\u001b[49m\u001b[43mkeyarr\u001b[49m\u001b[43m,\u001b[49m\u001b[43m \u001b[49m\u001b[43mindexer\u001b[49m\u001b[43m,\u001b[49m\u001b[43m \u001b[49m\u001b[43maxis_name\u001b[49m\u001b[43m)\u001b[49m\n\u001b[1;32m   6202\u001b[0m keyarr \u001b[38;5;241m=\u001b[39m \u001b[38;5;28mself\u001b[39m\u001b[38;5;241m.\u001b[39mtake(indexer)\n\u001b[1;32m   6203\u001b[0m \u001b[38;5;28;01mif\u001b[39;00m \u001b[38;5;28misinstance\u001b[39m(key, Index):\n\u001b[1;32m   6204\u001b[0m     \u001b[38;5;66;03m# GH 42790 - Preserve name from an Index\u001b[39;00m\n",
      "File \u001b[0;32m/Library/Frameworks/Python.framework/Versions/3.13/lib/python3.13/site-packages/pandas/core/indexes/base.py:6252\u001b[0m, in \u001b[0;36mIndex._raise_if_missing\u001b[0;34m(self, key, indexer, axis_name)\u001b[0m\n\u001b[1;32m   6249\u001b[0m     \u001b[38;5;28;01mraise\u001b[39;00m \u001b[38;5;167;01mKeyError\u001b[39;00m(\u001b[38;5;124mf\u001b[39m\u001b[38;5;124m\"\u001b[39m\u001b[38;5;124mNone of [\u001b[39m\u001b[38;5;132;01m{\u001b[39;00mkey\u001b[38;5;132;01m}\u001b[39;00m\u001b[38;5;124m] are in the [\u001b[39m\u001b[38;5;132;01m{\u001b[39;00maxis_name\u001b[38;5;132;01m}\u001b[39;00m\u001b[38;5;124m]\u001b[39m\u001b[38;5;124m\"\u001b[39m)\n\u001b[1;32m   6251\u001b[0m not_found \u001b[38;5;241m=\u001b[39m \u001b[38;5;28mlist\u001b[39m(ensure_index(key)[missing_mask\u001b[38;5;241m.\u001b[39mnonzero()[\u001b[38;5;241m0\u001b[39m]]\u001b[38;5;241m.\u001b[39munique())\n\u001b[0;32m-> 6252\u001b[0m \u001b[38;5;28;01mraise\u001b[39;00m \u001b[38;5;167;01mKeyError\u001b[39;00m(\u001b[38;5;124mf\u001b[39m\u001b[38;5;124m\"\u001b[39m\u001b[38;5;132;01m{\u001b[39;00mnot_found\u001b[38;5;132;01m}\u001b[39;00m\u001b[38;5;124m not in index\u001b[39m\u001b[38;5;124m\"\u001b[39m)\n",
      "\u001b[0;31mKeyError\u001b[0m: \"['Yield'] not in index\""
     ]
    }
   ],
   "source": [
    "from sklearn.model_selection import train_test_split\n",
    "\n",
    "# # Split the data\n",
    "# train_df = df[df['year'] <= 2020].copy().reset_index(drop=True)\n",
    "# remaining_df = df[df['year'] > 2020].copy().reset_index(drop=True)\n",
    "\n",
    "# # Split the remaining data into validation and test sets (50:50 split)\n",
    "# val_df, test_df = train_test_split(remaining_df, test_size=0.5, random_state=42)\n",
    "\n",
    "# # Reset indices\n",
    "# val_df = val_df.reset_index(drop=True)\n",
    "# test_df = test_df.reset_index(drop=True)\n",
    "\n",
    "# print(f\"Train: years <= 2020, Validation/Test: years > 2020\")\n",
    "# print(\"Train size:\", len(train_df))\n",
    "# print(\"Validation size:\", len(val_df))\n",
    "# print(\"Test size:\", len(test_df))\n",
    "\n",
    "# from sklearn.model_selection import train_test_split\n",
    "\n",
    "#Split the full cleaned DataFrame (after encoding + scaling + shift)\n",
    "# Random splitting, not time-based\n",
    "train_df, test_df = train_test_split(df, test_size=0.2, random_state=42)\n",
    "# Split test_df into validation and test sets (50:50 split)\n",
    "val_df, test_df = train_test_split(test_df, test_size=0.5, random_state=42)\n",
    "\n",
    "# Reset indices\n",
    "train_df = train_df.reset_index(drop=True)\n",
    "val_df = val_df.reset_index(drop=True)\n",
    "test_df = test_df.reset_index(drop=True)\n",
    "\n",
    "print(\"Train size:\", len(train_df))\n",
    "print(\"Validation size:\", len(val_df))\n",
    "print(\"Test size:\", len(test_df))\n",
    "\n",
    "\n"
   ]
  },
  {
   "cell_type": "code",
   "execution_count": 9,
   "metadata": {},
   "outputs": [],
   "source": [
    "# Detect and drop constant features\n",
    "zero_var_cols = train_df[feature_cols].loc[:, train_df[feature_cols].std() == 0].columns.tolist()\n",
    "train_df = train_df.drop(columns=zero_var_cols)\n",
    "val_df = val_df.drop(columns=zero_var_cols)\n",
    "test_df = test_df.drop(columns=zero_var_cols)\n",
    "feature_cols = [col for col in feature_cols if col not in zero_var_cols]"
   ]
  },
  {
   "cell_type": "code",
   "execution_count": 10,
   "metadata": {},
   "outputs": [],
   "source": [
    "import torch\n",
    "\n",
    "# X_train = torch.tensor(train_df[feature_cols].values, dtype=torch.float32)\n",
    "# # y_train = torch.tensor(train_df['target'].values, dtype=torch.float32).view(-1, 1)\n",
    "# y_train = torch.tensor(train_df['target_scaled'].values, dtype=torch.float32).view(-1, 1)\n",
    "\n",
    "# X_test = torch.tensor(test_df[feature_cols].values, dtype=torch.float32)\n",
    "# # y_test = torch.tensor(test_df['target'].values, dtype=torch.float32).view(-1, 1)\n",
    "# y_test = torch.tensor(test_df['target_scaled'].values, dtype=torch.float32).view(-1, 1)\n",
    "\n",
    "# Rescale predictions back to actual yield units\n",
    "X_train_num = torch.tensor(train_df[feature_cols].values, dtype=torch.float32)\n",
    "X_train_country = torch.tensor(train_df['country_id'].values, dtype=torch.long)\n",
    "y_train = torch.tensor(train_df['target_scaled'].values, dtype=torch.float32).view(-1, 1)\n",
    "# Convert validation data to tensors\n",
    "X_val_num = torch.tensor(val_df[feature_cols].values, dtype=torch.float32)\n",
    "X_val_country = torch.tensor(val_df['country_id'].values, dtype=torch.long)\n",
    "y_val = torch.tensor(val_df['target_scaled'].values, dtype=torch.float32).view(-1, 1)\n",
    "\n",
    "X_test_num = torch.tensor(test_df[feature_cols].values, dtype=torch.float32)\n",
    "X_test_country = torch.tensor(test_df['country_id'].values, dtype=torch.long)\n",
    "y_test = torch.tensor(test_df['target_scaled'].values, dtype=torch.float32).view(-1, 1)\n",
    "\n",
    "# Convert to tensors\n",
    "X_train_year = torch.tensor(train_df['year_id'].values, dtype=torch.long)\n",
    "X_test_year = torch.tensor(test_df['year_id'].values, dtype=torch.long)\n",
    "X_val_year = torch.tensor(val_df['year_id'].values, dtype=torch.long)"
   ]
  },
  {
   "cell_type": "markdown",
   "metadata": {},
   "source": [
    "## ML Model and Training"
   ]
  },
  {
   "cell_type": "code",
   "execution_count": 11,
   "metadata": {},
   "outputs": [],
   "source": [
    "# import torch.nn as nn\n",
    "# from torch.utils.data import DataLoader, TensorDataset\n",
    "\n",
    "# train_loader = DataLoader(\n",
    "#     TensorDataset(X_train_num, X_train_country, X_train_year, y_train),\n",
    "#     batch_size=32,\n",
    "#     shuffle=True\n",
    "# )\n",
    "\n",
    "# class MLPWithEmbeddings(nn.Module):\n",
    "#     def __init__(self, input_dim, num_countries, num_years, emb_dim_country=8, emb_dim_year=4):\n",
    "#         super().__init__()\n",
    "#         self.country_emb = nn.Embedding(num_countries, emb_dim_country)\n",
    "#         self.year_emb = nn.Embedding(num_years, emb_dim_year)\n",
    "\n",
    "#         total_input_dim = input_dim + emb_dim_country + emb_dim_year\n",
    "\n",
    "#         self.model = nn.Sequential(\n",
    "#             # nn.Linear(total_input_dim, 256),\n",
    "#             # nn.BatchNorm1d(256),\n",
    "#             # nn.ReLU(),\n",
    "#             # nn.Dropout(0.3),\n",
    "#             # nn.Linear(256, 128),\n",
    "#             # nn.BatchNorm1d(128),\n",
    "#             # nn.ReLU(),\n",
    "#             # nn.Dropout(0.3),\n",
    "#             # nn.Linear(128, 64),\n",
    "#             # nn.BatchNorm1d(64),\n",
    "#             # nn.ReLU(),\n",
    "#             # nn.Dropout(0.2),\n",
    "#             # nn.Linear(64, 1)\n",
    "#             # nn.Sigmoid()  # Ensures output is between 0 and 1\n",
    "#             nn.Linear(total_input_dim, 512),\n",
    "#             nn.BatchNorm1d(512),\n",
    "#             nn.ReLU(),\n",
    "#             nn.Dropout(0.3),\n",
    "#             nn.Linear(512, 256),\n",
    "#             nn.BatchNorm1d(256),\n",
    "#             nn.ReLU(),\n",
    "#             nn.Dropout(0.3),\n",
    "#             nn.Linear(256, 128),\n",
    "#             nn.BatchNorm1d(128),\n",
    "#             nn.ReLU(),\n",
    "#             nn.Dropout(0.2),\n",
    "#             nn.Linear(128, 1),\n",
    "#             nn.Sigmoid()  # Clamp output\n",
    "#         )\n",
    "\n",
    "#     def forward(self, x_num, x_country, x_year):\n",
    "#         c_vec = self.country_emb(x_country)\n",
    "#         y_vec = self.year_emb(x_year)\n",
    "#         x = torch.cat([x_num, c_vec, y_vec], dim=1)\n",
    "#         return self.model(x)\n",
    "    \n",
    "\n",
    "# model = MLPWithEmbeddings(\n",
    "#     input_dim=X_train_num.shape[1],\n",
    "#     num_countries=num_countries,\n",
    "#     num_years=num_years,\n",
    "#     emb_dim_country=8,\n",
    "#     emb_dim_year=4\n",
    "# )\n",
    "# optimizer = torch.optim.Adam(model.parameters(), lr=0.0005)\n",
    "# # loss_fn = nn.SmoothL1Loss()\n",
    "# loss_fn = nn.MSELoss()\n",
    "\n",
    "# # for epoch in range(50):\n",
    "# #     model.train()\n",
    "# #     total_loss = 0.0\n",
    "# #     for xb_num, xb_country, xb_year, yb in train_loader:\n",
    "# #         pred = model(xb_num, xb_country, xb_year)\n",
    "# #         loss = loss_fn(pred, yb)\n",
    "# #         optimizer.zero_grad()\n",
    "# #         loss.backward()\n",
    "# #         optimizer.step()\n",
    "# #         total_loss += loss.item() * xb_num.size(0)\n",
    "\n",
    "# #     avg_loss = total_loss / len(train_loader.dataset)\n",
    "# #     print(f\"Epoch {epoch+1}, Avg Loss: {avg_loss:.4f}\")\n",
    "\n",
    "# # --- Early stopping setup ---\n",
    "# patience = 5\n",
    "# best_loss = float('inf')\n",
    "# counter = 0\n",
    "\n",
    "# # --- Training ---\n",
    "# for epoch in range(100):\n",
    "#     model.train()\n",
    "#     total_loss = 0.0\n",
    "#     for xb_num, xb_country, xb_year, yb in train_loader:\n",
    "#         pred = model(xb_num, xb_country, xb_year)\n",
    "#         loss = loss_fn(pred, yb)\n",
    "#         optimizer.zero_grad()\n",
    "#         loss.backward()\n",
    "#         optimizer.step()\n",
    "#         total_loss += loss.item() * xb_num.size(0)\n",
    "\n",
    "#     avg_loss = total_loss / len(train_loader.dataset)\n",
    "#     print(f\"Epoch {epoch+1}, Avg Loss: {avg_loss:.4f}\")\n",
    "\n",
    "#     # --- Early stopping logic ---\n",
    "#     if avg_loss < best_loss:\n",
    "#         best_loss = avg_loss\n",
    "#         counter = 0\n",
    "#         best_model_state = model.state_dict()  # Save best model so far\n",
    "#     else:\n",
    "#         counter += 1\n",
    "#         print(f\"  🔁 No improvement for {counter} epoch(s).\")\n",
    "\n",
    "#         if counter >= patience:\n",
    "#             print(f\"\\n⏹️ Early stopping triggered at epoch {epoch+1}.\")\n",
    "#             break\n",
    "\n",
    "# # --- Restore best model ---\n",
    "# model.load_state_dict(best_model_state)\n",
    "# print(\"✅ Best model restored.\")\n",
    "    "
   ]
  },
  {
   "cell_type": "code",
   "execution_count": 12,
   "metadata": {},
   "outputs": [
    {
     "name": "stdout",
     "output_type": "stream",
     "text": [
      "Epoch 1, Train Loss: 0.0025, Train MAE: 0.0394, Val Loss: 0.0002, Val MAE: 0.0125\n",
      "Epoch 2, Train Loss: 0.0003, Train MAE: 0.0141, Val Loss: 0.0001, Val MAE: 0.0101\n",
      "Epoch 3, Train Loss: 0.0002, Train MAE: 0.0123, Val Loss: 0.0001, Val MAE: 0.0108\n",
      "  🔁 No improvement for 1 epoch(s).\n",
      "Epoch 4, Train Loss: 0.0002, Train MAE: 0.0112, Val Loss: 0.0001, Val MAE: 0.0081\n",
      "Epoch 5, Train Loss: 0.0002, Train MAE: 0.0105, Val Loss: 0.0001, Val MAE: 0.0063\n",
      "Epoch 6, Train Loss: 0.0002, Train MAE: 0.0099, Val Loss: 0.0001, Val MAE: 0.0067\n",
      "  🔁 No improvement for 1 epoch(s).\n",
      "Epoch 7, Train Loss: 0.0001, Train MAE: 0.0093, Val Loss: 0.0000, Val MAE: 0.0058\n",
      "Epoch 8, Train Loss: 0.0001, Train MAE: 0.0089, Val Loss: 0.0001, Val MAE: 0.0057\n",
      "  🔁 No improvement for 1 epoch(s).\n",
      "Epoch 9, Train Loss: 0.0001, Train MAE: 0.0086, Val Loss: 0.0000, Val MAE: 0.0054\n",
      "Epoch 10, Train Loss: 0.0001, Train MAE: 0.0084, Val Loss: 0.0001, Val MAE: 0.0063\n",
      "  🔁 No improvement for 1 epoch(s).\n",
      "Epoch 11, Train Loss: 0.0001, Train MAE: 0.0082, Val Loss: 0.0000, Val MAE: 0.0053\n",
      "  🔁 No improvement for 2 epoch(s).\n",
      "Epoch 12, Train Loss: 0.0001, Train MAE: 0.0079, Val Loss: 0.0001, Val MAE: 0.0057\n",
      "  🔁 No improvement for 3 epoch(s).\n",
      "Epoch 13, Train Loss: 0.0001, Train MAE: 0.0078, Val Loss: 0.0000, Val MAE: 0.0050\n",
      "  🔁 No improvement for 4 epoch(s).\n",
      "Epoch 14, Train Loss: 0.0001, Train MAE: 0.0075, Val Loss: 0.0000, Val MAE: 0.0048\n",
      "  🔁 No improvement for 5 epoch(s).\n",
      "\n",
      "⏹️ Early stopping triggered at epoch 14.\n",
      "✅ Best model restored.\n"
     ]
    }
   ],
   "source": [
    "import torch.nn as nn\n",
    "from torch.utils.data import DataLoader, TensorDataset\n",
    "from sklearn.metrics import mean_absolute_error, mean_squared_error\n",
    "\n",
    "\n",
    "train_loader = DataLoader(\n",
    "    TensorDataset(X_train_num, X_train_country, X_train_year, y_train),\n",
    "    batch_size=32,\n",
    "    shuffle=True\n",
    ")\n",
    "\n",
    "class MLPWithEmbeddings(nn.Module):\n",
    "    def __init__(self, input_dim, num_countries, num_years, emb_dim_country=8, emb_dim_year=4):\n",
    "        super().__init__()\n",
    "        self.country_emb = nn.Embedding(num_countries, emb_dim_country)\n",
    "        self.year_emb = nn.Embedding(num_years, emb_dim_year)\n",
    "\n",
    "        total_input_dim = input_dim + emb_dim_country + emb_dim_year\n",
    "\n",
    "        self.model = nn.Sequential(\n",
    "            # nn.Linear(total_input_dim, 256),\n",
    "            # nn.BatchNorm1d(256),\n",
    "            # nn.ReLU(),\n",
    "            # nn.Dropout(0.3),\n",
    "            # nn.Linear(256, 128),\n",
    "            # nn.BatchNorm1d(128),\n",
    "            # nn.ReLU(),\n",
    "            # nn.Dropout(0.3),\n",
    "            # nn.Linear(128, 64),\n",
    "            # nn.BatchNorm1d(64),\n",
    "            # nn.ReLU(),\n",
    "            # nn.Dropout(0.2),\n",
    "            # nn.Linear(64, 1),\n",
    "            # nn.Sigmoid()  # Ensures output is between 0 and 1\n",
    "            nn.Linear(total_input_dim, 512),\n",
    "            nn.BatchNorm1d(512),\n",
    "            nn.ReLU(),\n",
    "            nn.Dropout(0.3),\n",
    "            nn.Linear(512, 256),\n",
    "            nn.BatchNorm1d(256),\n",
    "            nn.ReLU(),\n",
    "            nn.Dropout(0.3),\n",
    "            nn.Linear(256, 128),\n",
    "            nn.BatchNorm1d(128),\n",
    "            nn.ReLU(),\n",
    "            nn.Dropout(0.2),\n",
    "            nn.Linear(128, 1),\n",
    "            nn.Sigmoid()  # Clamp output\n",
    "        )\n",
    "\n",
    "    def forward(self, x_num, x_country, x_year):\n",
    "        c_vec = self.country_emb(x_country)\n",
    "        y_vec = self.year_emb(x_year)\n",
    "        x = torch.cat([x_num, c_vec, y_vec], dim=1)\n",
    "        return self.model(x)\n",
    "    \n",
    "\n",
    "model = MLPWithEmbeddings(\n",
    "    input_dim=X_train_num.shape[1],\n",
    "    num_countries=num_countries,\n",
    "    num_years=num_years,\n",
    "    emb_dim_country=8,\n",
    "    emb_dim_year=4\n",
    ")\n",
    "optimizer = torch.optim.Adam(model.parameters(), lr=0.0005)\n",
    "loss_fn = nn.SmoothL1Loss()\n",
    "# loss_fn = nn.MSELoss()\n",
    "# --- Training with Validation ---\n",
    "train_losses, train_maes, val_losses, val_maes = [], [], [], []\n",
    "\n",
    "# --- Early stopping setup ---\n",
    "patience = 5\n",
    "best_loss = float('inf')\n",
    "counter = 0\n",
    "\n",
    "for epoch in range(100):\n",
    "    # Training phase\n",
    "    model.train()\n",
    "    total_train_loss, total_train_mae = 0.0, 0.0\n",
    "    for xb_num, xb_country, xb_year, yb in train_loader:\n",
    "        pred = model(xb_num, xb_country, xb_year)\n",
    "        loss = loss_fn(pred, yb)\n",
    "        optimizer.zero_grad()\n",
    "        loss.backward()\n",
    "        optimizer.step()\n",
    "        total_train_loss += loss.item() * xb_num.size(0)\n",
    "        total_train_mae += mean_absolute_error(yb.detach().numpy(), pred.detach().numpy()) * xb_num.size(0)\n",
    "\n",
    "    avg_train_loss = total_train_loss / len(train_loader.dataset)\n",
    "    avg_train_mae = total_train_mae / len(train_loader.dataset)\n",
    "    train_losses.append(avg_train_loss)\n",
    "    train_maes.append(avg_train_mae)\n",
    "\n",
    "    # Validation phase\n",
    "    model.eval()\n",
    "    total_val_loss, total_val_mae = 0.0, 0.0\n",
    "    with torch.no_grad():\n",
    "        for xb_num, xb_country, xb_year, yb in DataLoader(\n",
    "            TensorDataset(X_val_num, X_val_country, X_val_year, y_val),\n",
    "            batch_size=32,\n",
    "            shuffle=False\n",
    "        ):\n",
    "            pred = model(xb_num, xb_country, xb_year)\n",
    "            loss = loss_fn(pred, yb)\n",
    "            total_val_loss += loss.item() * xb_num.size(0)\n",
    "            total_val_mae += mean_absolute_error(yb.numpy(), pred.numpy()) * xb_num.size(0)\n",
    "\n",
    "    avg_val_loss = total_val_loss / len(y_val)\n",
    "    avg_val_mae = total_val_mae / len(y_val)\n",
    "    val_losses.append(avg_val_loss)\n",
    "    val_maes.append(avg_val_mae)\n",
    "\n",
    "    print(f\"Epoch {epoch+1}, Train Loss: {avg_train_loss:.4f}, Train MAE: {avg_train_mae:.4f}, \"\n",
    "          f\"Val Loss: {avg_val_loss:.4f}, Val MAE: {avg_val_mae:.4f}\")\n",
    "\n",
    "    # Early stopping logic\n",
    "    if avg_val_loss < best_loss:\n",
    "        best_loss = avg_val_loss\n",
    "        counter = 0\n",
    "        best_model_state = model.state_dict()  # Save best model so far\n",
    "    else:\n",
    "        counter += 1\n",
    "        print(f\"  🔁 No improvement for {counter} epoch(s).\")\n",
    "\n",
    "        if counter >= patience:\n",
    "            print(f\"\\n⏹️ Early stopping triggered at epoch {epoch+1}.\")\n",
    "            break\n",
    "\n",
    "# --- Restore best model ---\n",
    "model.load_state_dict(best_model_state)\n",
    "print(\"✅ Best model restored.\")"
   ]
  },
  {
   "cell_type": "markdown",
   "metadata": {},
   "source": [
    "With parameter sweep to see optimal values of country and year embeddings (current: 8, 4)"
   ]
  },
  {
   "cell_type": "code",
   "execution_count": 13,
   "metadata": {},
   "outputs": [],
   "source": [
    "# import torch\n",
    "# import torch.nn as nn\n",
    "# from torch.utils.data import DataLoader, TensorDataset\n",
    "# from sklearn.metrics import mean_absolute_error\n",
    "# import numpy as np\n",
    "\n",
    "# # Datasets and constants assumed to be defined:\n",
    "# # X_train_num, X_train_country, X_train_year, y_train\n",
    "# # X_val_num, X_val_country, X_val_year, y_val\n",
    "# # num_countries, num_years\n",
    "\n",
    "# train_loader = DataLoader(\n",
    "#     TensorDataset(X_train_num, X_train_country, X_train_year, y_train),\n",
    "#     batch_size=32,\n",
    "#     shuffle=True\n",
    "# )\n",
    "\n",
    "# val_loader = DataLoader(\n",
    "#     TensorDataset(X_val_num, X_val_country, X_val_year, y_val),\n",
    "#     batch_size=32,\n",
    "#     shuffle=False\n",
    "# )\n",
    "\n",
    "# class MLPWithEmbeddings(nn.Module):\n",
    "#     def __init__(self, input_dim, num_countries, num_years, emb_dim_country, emb_dim_year):\n",
    "#         super().__init__()\n",
    "#         self.country_emb = nn.Embedding(num_countries, emb_dim_country)\n",
    "#         self.year_emb = nn.Embedding(num_years, emb_dim_year)\n",
    "\n",
    "#         total_input_dim = input_dim + emb_dim_country + emb_dim_year\n",
    "\n",
    "#         self.model = nn.Sequential(\n",
    "#             nn.Linear(total_input_dim, 512),\n",
    "#             nn.BatchNorm1d(512),\n",
    "#             nn.ReLU(),\n",
    "#             nn.Dropout(0.3),\n",
    "#             nn.Linear(512, 256),\n",
    "#             nn.BatchNorm1d(256),\n",
    "#             nn.ReLU(),\n",
    "#             nn.Dropout(0.3),\n",
    "#             nn.Linear(256, 128),\n",
    "#             nn.BatchNorm1d(128),\n",
    "#             nn.ReLU(),\n",
    "#             nn.Dropout(0.2),\n",
    "#             nn.Linear(128, 1),\n",
    "#             nn.Sigmoid()\n",
    "#         )\n",
    "\n",
    "#     def forward(self, x_num, x_country, x_year):\n",
    "#         c_vec = self.country_emb(x_country)\n",
    "#         y_vec = self.year_emb(x_year)\n",
    "#         x = torch.cat([x_num, c_vec, y_vec], dim=1)\n",
    "#         return self.model(x)\n",
    "\n",
    "# # Define sweep values\n",
    "# country_dims = [8, 12, 16, 32]\n",
    "# year_dims = [4, 6]\n",
    "# results = []\n",
    "\n",
    "# for emb_dim_country in country_dims:\n",
    "#     for emb_dim_year in year_dims:\n",
    "#         print(f\"\\n🔍 Training with emb_dim_country={emb_dim_country}, emb_dim_year={emb_dim_year}\")\n",
    "\n",
    "#         model = MLPWithEmbeddings(\n",
    "#             input_dim=X_train_num.shape[1],\n",
    "#             num_countries=num_countries,\n",
    "#             num_years=num_years,\n",
    "#             emb_dim_country=emb_dim_country,\n",
    "#             emb_dim_year=emb_dim_year\n",
    "#         )\n",
    "#         optimizer = torch.optim.Adam(model.parameters(), lr=0.0005)\n",
    "#         loss_fn = nn.MSELoss()\n",
    "\n",
    "#         # Early stopping\n",
    "#         best_loss = float('inf')\n",
    "#         patience, counter = 5, 0\n",
    "#         best_model_state = None\n",
    "\n",
    "#         for epoch in range(100):\n",
    "#             model.train()\n",
    "#             total_train_loss, total_train_mae = 0.0, 0.0\n",
    "\n",
    "#             for xb_num, xb_country, xb_year, yb in train_loader:\n",
    "#                 pred = model(xb_num, xb_country, xb_year)\n",
    "#                 loss = loss_fn(pred, yb)\n",
    "#                 optimizer.zero_grad()\n",
    "#                 loss.backward()\n",
    "#                 optimizer.step()\n",
    "#                 total_train_loss += loss.item() * xb_num.size(0)\n",
    "#                 total_train_mae += mean_absolute_error(\n",
    "#                     yb.detach().numpy(), pred.detach().numpy()) * xb_num.size(0)\n",
    "\n",
    "#             avg_train_loss = total_train_loss / len(train_loader.dataset)\n",
    "#             avg_train_mae = total_train_mae / len(train_loader.dataset)\n",
    "\n",
    "#             # Validation phase\n",
    "#             model.eval()\n",
    "#             total_val_loss, total_val_mae = 0.0, 0.0\n",
    "#             with torch.no_grad():\n",
    "#                 for xb_num, xb_country, xb_year, yb in val_loader:\n",
    "#                     pred = model(xb_num, xb_country, xb_year)\n",
    "#                     loss = loss_fn(pred, yb)\n",
    "#                     total_val_loss += loss.item() * xb_num.size(0)\n",
    "#                     total_val_mae += mean_absolute_error(\n",
    "#                         yb.numpy(), pred.numpy()) * xb_num.size(0)\n",
    "\n",
    "#             avg_val_loss = total_val_loss / len(y_val)\n",
    "#             avg_val_mae = total_val_mae / len(y_val)\n",
    "\n",
    "#             print(f\"Epoch {epoch+1} - Train MAE: {avg_train_mae:.4f} | Val MAE: {avg_val_mae:.4f}\")\n",
    "\n",
    "#             if avg_val_loss < best_loss:\n",
    "#                 best_loss = avg_val_loss\n",
    "#                 best_mae = avg_val_mae\n",
    "#                 best_model_state = model.state_dict()\n",
    "#                 counter = 0\n",
    "#             else:\n",
    "#                 counter += 1\n",
    "#                 if counter >= patience:\n",
    "#                     print(\"⏹️ Early stopping\")\n",
    "#                     break\n",
    "\n",
    "#         results.append({\n",
    "#             \"emb_dim_country\": emb_dim_country,\n",
    "#             \"emb_dim_year\": emb_dim_year,\n",
    "#             \"val_mae\": best_mae\n",
    "#         })\n",
    "\n",
    "# # Display best configuration\n",
    "# best_config = sorted(results, key=lambda x: x[\"val_mae\"])[0]\n",
    "# print(\"\\n✅ Best Embedding Config:\")\n",
    "# print(best_config)"
   ]
  },
  {
   "cell_type": "code",
   "execution_count": 14,
   "metadata": {},
   "outputs": [
    {
     "data": {
      "image/png": "[encoded data removed]",
      "text/plain": [
       "<Figure size 1000x600 with 1 Axes>"
      ]
     },
     "metadata": {},
     "output_type": "display_data"
    }
   ],
   "source": [
    "import matplotlib.pyplot as plt\n",
    "\n",
    "# Plot training and validation loss\n",
    "plt.figure(figsize=(10, 6))\n",
    "plt.plot(train_losses, label='Train Loss', marker='o')\n",
    "plt.plot(val_losses, label='Validation Loss', marker='o')\n",
    "plt.title('Training and Validation Loss Over Epochs')\n",
    "plt.xlabel('Epochs')\n",
    "plt.ylabel('Loss')\n",
    "plt.legend()\n",
    "plt.grid(True)\n",
    "plt.tight_layout()\n",
    "plt.show()"
   ]
  },
  {
   "cell_type": "markdown",
   "metadata": {},
   "source": [
    "## Testing"
   ]
  },
  {
   "cell_type": "code",
   "execution_count": 15,
   "metadata": {},
   "outputs": [
    {
     "name": "stdout",
     "output_type": "stream",
     "text": [
      "\n",
      "🧪 Test MAE: 2049.30\n"
     ]
    }
   ],
   "source": [
    "from sklearn.metrics import mean_absolute_error\n",
    "\n",
    "# Predict\n",
    "model.eval()\n",
    "with torch.no_grad():\n",
    "    y_pred_test = model(X_test_num, X_test_country, X_test_year).numpy().flatten()  # predicted (scaled)\n",
    "    y_true_test = y_test.numpy().flatten()                                          # true (scaled)\n",
    "\n",
    "# Inverse transform to original yield scale\n",
    "y_pred_rescaled = target_scaler.inverse_transform(y_pred_test.reshape(-1, 1)).flatten()\n",
    "y_true_rescaled = target_scaler.inverse_transform(y_true_test.reshape(-1, 1)).flatten()\n",
    "\n",
    "# Calculate MAE\n",
    "mae = mean_absolute_error(y_true_rescaled, y_pred_rescaled)\n",
    "print(f\"\\n🧪 Test MAE: {mae:.2f}\")"
   ]
  },
  {
   "cell_type": "code",
   "execution_count": 16,
   "metadata": {},
   "outputs": [
    {
     "name": "stdout",
     "output_type": "stream",
     "text": [
      "Test Loss (MSE): 0.0001\n",
      "Test MAE: 0.0049\n"
     ]
    }
   ],
   "source": [
    "from sklearn.metrics import mean_absolute_error, mean_squared_error\n",
    "# Calculate Test Loss and Test MAE\n",
    "\n",
    "# Ensure the model is in evaluation mode\n",
    "model.eval()\n",
    "\n",
    "# Predict on the test set\n",
    "with torch.no_grad():\n",
    "    y_pred_test = model(X_test_num, X_test_country, X_test_year).numpy().flatten()  # predicted (scaled)\n",
    "    y_true_test = y_test.numpy().flatten()                                          # true (scaled)\n",
    "\n",
    "# Calculate Test Loss (MSE)\n",
    "test_loss = mean_squared_error(y_true_test, y_pred_test)\n",
    "\n",
    "# Calculate Test MAE\n",
    "test_mae = mean_absolute_error(y_true_test, y_pred_test)\n",
    "\n",
    "print(f\"Test Loss (MSE): {test_loss:.4f}\")\n",
    "print(f\"Test MAE: {test_mae:.4f}\")"
   ]
  },
  {
   "cell_type": "code",
   "execution_count": 17,
   "metadata": {},
   "outputs": [
    {
     "name": "stdout",
     "output_type": "stream",
     "text": [
      "🔍 Prediction range: 0.00038614843 to 0.8007003\n",
      "✅ True yield range: 0.0 to 0.9194379\n"
     ]
    }
   ],
   "source": [
    "print(\"🔍 Prediction range:\", y_pred_test.min(), \"to\", y_pred_test.max())\n",
    "print(\"✅ True yield range:\", y_true_test.min(), \"to\", y_true_test.max())"
   ]
  },
  {
   "cell_type": "code",
   "execution_count": 18,
   "metadata": {},
   "outputs": [
    {
     "data": {
      "image/png": "[encoded data removed]",
      "text/plain": [
       "<Figure size 800x600 with 1 Axes>"
      ]
     },
     "metadata": {},
     "output_type": "display_data"
    }
   ],
   "source": [
    "import matplotlib.pyplot as plt\n",
    "\n",
    "plt.figure(figsize=(8, 6))\n",
    "plt.scatter(y_true_test, y_pred_test, alpha=0.6)\n",
    "plt.plot([y_true_test.min(), y_true_test.max()],\n",
    "         [y_true_test.min(), y_true_test.max()],\n",
    "         'r--', label='Perfect Prediction')\n",
    "plt.xlabel(\"Actual Yield\")\n",
    "plt.ylabel(\"Predicted Yield\")\n",
    "plt.title(\"Predicted vs Actual Yield (Test Set)\")\n",
    "plt.grid(True)\n",
    "plt.legend()\n",
    "plt.tight_layout()\n",
    "plt.show()"
   ]
  },
  {
   "cell_type": "code",
   "execution_count": 19,
   "metadata": {},
   "outputs": [],
   "source": [
    "df['year'] = pd.to_numeric(df['year'], errors='coerce').fillna(0).astype(int)"
   ]
  },
  {
   "cell_type": "code",
   "execution_count": 20,
   "metadata": {},
   "outputs": [
    {
     "name": "stdout",
     "output_type": "stream",
     "text": [
      "    year                             country  \\\n",
      "0   2010                            Pakistan   \n",
      "1   2018                             Bahrain   \n",
      "2   2017                               Niger   \n",
      "3   2011                         Timor-Leste   \n",
      "4   2013                             Ecuador   \n",
      "5   2020                              Zambia   \n",
      "6   2018                            Slovakia   \n",
      "7   2017    Lao People's Democratic Republic   \n",
      "8   2021                              Serbia   \n",
      "9   2018                            Colombia   \n",
      "10  2019                             Algeria   \n",
      "11  2015                             Lesotho   \n",
      "12  2016                             Ukraine   \n",
      "13  2016           China, Taiwan Province of   \n",
      "14  2017                           Palestine   \n",
      "15  2020                            Thailand   \n",
      "16  2010            United States of America   \n",
      "17  2015                            Portugal   \n",
      "18  2016  Venezuela (Bolivarian Republic of)   \n",
      "19  2010                              France   \n",
      "\n",
      "                                  item    yield_true    yield_pred  \n",
      "0                              Linseed    703.500000   1227.052246  \n",
      "1                                Dates   5421.700195   6347.192383  \n",
      "2                           Sugar cane  38085.300781  42380.203125  \n",
      "3                   Coconuts, in shell    600.000000   1364.387085  \n",
      "4                                 Rice   3127.100098   1639.475708  \n",
      "5                Seed cotton, unginned    790.600037    453.520294  \n",
      "6         Cantaloupes and other melons  25000.000000  10366.917969  \n",
      "7                 Other fruits, n.e.c.   5959.399902   4780.298828  \n",
      "8                               Apples  17840.800781  16390.212891  \n",
      "9                           Pineapples  43146.800781  38485.535156  \n",
      "10             Pomelos and grapefruits  23589.000000  22603.548828  \n",
      "11                        Maize (corn)    467.999969   1585.817139  \n",
      "12                              Barley   3312.000000   2274.743164  \n",
      "13                            Apricots   3968.600098   6286.062988  \n",
      "14                             Sorghum   1449.500000   2529.036133  \n",
      "15  Tangerines, mandarins, clementines  14514.500000  14541.982422  \n",
      "16                              Millet   1516.900024   2237.104248  \n",
      "17                             Quinces   7573.700195   6453.595703  \n",
      "18                    Pigeon peas, dry    747.699951   2943.672607  \n",
      "19  Tangerines, mandarins, clementines  18930.800781  17617.273438  \n"
     ]
    }
   ],
   "source": [
    "# 1. Recover the item name from one-hot columns\n",
    "item_cols = [col for col in test_df.columns if col.startswith('item_')]\n",
    "test_df['item'] = test_df[item_cols].idxmax(axis=1).str.replace('item_', '')\n",
    "\n",
    "# 2. Restore predictions and ground truth\n",
    "test_df['yield_true'] = y_true_rescaled\n",
    "test_df['yield_pred'] = y_pred_rescaled\n",
    "\n",
    "# 3. Select clean columns for display\n",
    "results_table = test_df[['year_raw', 'country', 'item', 'yield_true', 'yield_pred']]\n",
    "results_table = results_table.rename(columns={'year_raw': 'year'})\n",
    "\n",
    "# 4. Preview the output\n",
    "print(results_table.head(20))"
   ]
  },
  {
   "cell_type": "code",
   "execution_count": 21,
   "metadata": {},
   "outputs": [
    {
     "name": "stdout",
     "output_type": "stream",
     "text": [
      "✅ Results saved to 'yield_predictions.csv'\n"
     ]
    }
   ],
   "source": [
    "results_table.to_csv(\"yield_predictions.csv\", index=False)\n",
    "print(\"✅ Results saved to 'yield_predictions.csv'\")"
   ]
  },
  {
   "cell_type": "code",
   "execution_count": 22,
   "metadata": {},
   "outputs": [
    {
     "data": {
      "image/png": "[encoded data removed]",
      "text/plain": [
       "<Figure size 800x600 with 1 Axes>"
      ]
     },
     "metadata": {},
     "output_type": "display_data"
    }
   ],
   "source": [
    "import matplotlib.pyplot as plt\n",
    "\n",
    "plt.figure(figsize=(8, 6))\n",
    "plt.scatter(y_true_rescaled, y_pred_rescaled)\n",
    "plt.plot([y_true_rescaled.min(), y_true_rescaled.max()],\n",
    "         [y_true_rescaled.min(), y_true_rescaled.max()],\n",
    "         'r--', label='Perfect Prediction')\n",
    "plt.xlabel(\"Actual Yield\")\n",
    "plt.ylabel(\"Predicted Yield\")\n",
    "plt.title(\"Predicted vs Actual Yield (Test Set)\")\n",
    "plt.grid(True)\n",
    "plt.legend()\n",
    "plt.tight_layout()\n",
    "plt.show()"
   ]
  },
  {
   "cell_type": "code",
   "execution_count": 23,
   "metadata": {},
   "outputs": [
    {
     "name": "stderr",
     "output_type": "stream",
     "text": [
      "/var/folders/fw/pdkq_2cj66gd5py_6r6srh8r0000gn/T/ipykernel_16400/1397942013.py:6: DeprecationWarning: DataFrameGroupBy.apply operated on the grouping columns. This behavior is deprecated, and in a future version of pandas the grouping columns will be excluded from the operation. Either pass `include_groups=False` to exclude the groupings or explicitly select the grouping columns after groupby to silence this warning.\n",
      "  year_mae = test_df.groupby('year_raw').apply(\n"
     ]
    }
   ],
   "source": [
    "test_df['yield_true'] = y_true_rescaled\n",
    "test_df['yield_pred'] = y_pred_rescaled\n",
    "\n",
    "from sklearn.metrics import mean_absolute_error\n",
    "\n",
    "year_mae = test_df.groupby('year_raw').apply(\n",
    "    lambda x: mean_absolute_error(x['yield_true'], x['yield_pred'])\n",
    ").reset_index(name='mae')"
   ]
  },
  {
   "cell_type": "code",
   "execution_count": 24,
   "metadata": {},
   "outputs": [
    {
     "data": {
      "image/png": "[encoded data removed]",
      "text/plain": [
       "<Figure size 1000x500 with 1 Axes>"
      ]
     },
     "metadata": {},
     "output_type": "display_data"
    }
   ],
   "source": [
    "import matplotlib.pyplot as plt\n",
    "\n",
    "plt.figure(figsize=(10, 5))\n",
    "plt.plot(year_mae['year_raw'], year_mae['mae'], marker='o', linestyle='-')\n",
    "plt.title(\"Test MAE by Year\")\n",
    "plt.xlabel(\"Year\")\n",
    "plt.ylabel(\"Mean Absolute Error (Yield)\")\n",
    "plt.grid(True)\n",
    "plt.tight_layout()\n",
    "plt.show()"
   ]
  },
  {
   "cell_type": "code",
   "execution_count": 25,
   "metadata": {},
   "outputs": [
    {
     "name": "stdout",
     "output_type": "stream",
     "text": [
      "    year_raw          mae  count\n",
      "0       2010  2117.305664    534\n",
      "1       2011  1880.691406    572\n",
      "2       2012  1926.889404    530\n",
      "3       2013  1750.866455    510\n",
      "4       2014  2291.779053    509\n",
      "5       2015  1910.632202    520\n",
      "6       2016  1995.787842    491\n",
      "7       2017  2319.588867    501\n",
      "8       2018  2180.087646    528\n",
      "9       2019  2183.117188    521\n",
      "10      2020  2072.184326    500\n",
      "11      2021  1986.637695    534\n"
     ]
    }
   ],
   "source": [
    "year_counts = test_df['year_raw'].value_counts().sort_index()\n",
    "year_mae['count'] = year_counts.values\n",
    "print(year_mae)"
   ]
  },
  {
   "cell_type": "code",
   "execution_count": 27,
   "metadata": {},
   "outputs": [
    {
     "name": "stdout",
     "output_type": "stream",
     "text": [
      "[3388] Actual: 63,900, Predicted: 124,212, Error: 60,312\n",
      "[5021] Actual: 147,800, Predicted: 64,210, Error: 83,590\n"
     ]
    }
   ],
   "source": [
    "import numpy as np\n",
    "import pandas as pd\n",
    "\n",
    "errors = np.abs(y_pred_rescaled.flatten() - y_true_rescaled.flatten())\n",
    "top_outliers_idx = np.argsort(errors)[-2:]  # indices of top 2 worst predictions\n",
    "\n",
    "# Print the values for inspection\n",
    "for idx in top_outliers_idx:\n",
    "    print(f\"[{idx}] Actual: {y_true_rescaled[idx]:,.0f}, Predicted: {y_pred_rescaled[idx]:,.0f}, Error: {errors[idx]:,.0f}\")"
   ]
  },
  {
   "cell_type": "code",
   "execution_count": 30,
   "metadata": {},
   "outputs": [
    {
     "name": "stdout",
     "output_type": "stream",
     "text": [
      "        actual      predicted         error  country             item  year\n",
      "5021  147800.0   64209.812500  83590.187500  Austria  Plums and sloes  2017\n",
      "3388   63900.0  124211.585938  60311.585938  Austria  Plums and sloes  2018\n"
     ]
    }
   ],
   "source": [
    "df_errors = pd.DataFrame({\n",
    "    \"actual\": y_true_rescaled,\n",
    "    \"predicted\": y_pred_rescaled,\n",
    "    \"error\": errors,\n",
    "    \"country\": test_df[\"country\"].values,\n",
    "    \"item\": test_df[\"item\"].values,\n",
    "    \"year\": test_df[\"year\"].values\n",
    "})\n",
    "print(df_errors.sort_values(\"error\", ascending=False).head(2))"
   ]
  }
 ],
 "metadata": {
  "kernelspec": {
   "display_name": "Python 3",
   "language": "python",
   "name": "python3"
  },
  "language_info": {
   "codemirror_mode": {
    "name": "ipython",
    "version": 3
   },
   "file_extension": ".py",
   "mimetype": "text/x-python",
   "name": "python",
   "nbconvert_exporter": "python",
   "pygments_lexer": "ipython3",
   "version": "3.13.1"
  }
 },
 "nbformat": 4,
 "nbformat_minor": 2
}
