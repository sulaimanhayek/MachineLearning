{
 "cells": [
  {
   "cell_type": "markdown",
   "metadata": {
    "id": "rxyl5fPn1cEU"
   },
   "source": [
    "# Objectives"
   ]
  },
  {
   "cell_type": "markdown",
   "metadata": {
    "id": "qCCRn5I21gF8"
   },
   "source": [
    "\n",
    "* To explore an existing dataset\n",
    "> This week, we'll use a subset of the UK Met dataset. You can read more about the UK Met dataset here: https://rmets.onlinelibrary.wiley.com/doi/10.1002/gdj3.78. We will use the 60km-resolution data for 2010 to 2022.\n",
    "\n",
    "* To apply support vector machine (SVM) and logistic regression algorithms from Week 3 lecture to automatic detection of the number of days of ground frost and snow based on other weather variables."
   ]
  },
  {
   "cell_type": "markdown",
   "metadata": {
    "id": "kPvpMsQb3JN7"
   },
   "source": [
    "# Section 1 - Explore the UK Met (60km, 2010-2022) dataset"
   ]
  },
  {
   "cell_type": "markdown",
   "metadata": {
    "id": "DiO4BnO_-szF"
   },
   "source": [
    "See the dataset on the Week 3 page for the module, on Canvas (see 'Week 3 Lab Dataset' on the page). The file is named c*urated_data_1month_2010-2022_nonans.csv*.\n",
    "* What does each variable in the dataset represent?\n",
    "* What is the distribution of the number of days of ground frost in the dataset? What of for the number of days of snow?\n",
    "* What does this tell you about the data?\n",
    "* What else can you tell about the data?\n"
   ]
  },
  {
   "cell_type": "markdown",
   "metadata": {
    "id": "PoJdgF8x3OH7"
   },
   "source": [
    "**Solution**"
   ]
  },
  {
   "cell_type": "markdown",
   "metadata": {
    "id": "yum7z9yA3PW_"
   },
   "source": [
    "* See the headers in the data file and the information in the *Metadata_VARIABLES.xlsx* file on the Week 3 canvas page for what each variable represents. The variables in the dataset consists of:\n",
    "  * the x and y coordinate IDs of the sampled locations,\n",
    "  * the month and year serial numbers,\n",
    "  * the sea pressure level, air temperature, wind speed, vapour pressure, humidity, rainfall, sunshine duration, and\n",
    "  * number of days of ground frost and snow.\n",
    "* The distribution for the number of days of ground frost and snow is:\n",
    "  * Ground frost mean - 7.94 (days per month)\n",
    "  * Ground frost max - 28.02 (days per month)\n",
    "  * Ground frost min - 0.00077 (days per month)\n",
    "  * Ground frost standard deviation - 6.95 (days per month)\n",
    "  * Snow mean - 0.896 (days per month)\n",
    "  * Snow max - 23.95 (days per month)\n",
    "  * Snow min - 0 (days per month)\n",
    "  * Snow standard deviation - 2.24 (days per month)\n",
    "* The above distribution suggests a strong skew to the left. Open the dataset using Microsoft Excel and use the software to plot a histogram of each of the two variables. The plots will show that the lowest levels of ground frost and snow are overrepresented in the dataset while there is minimal representation for the highest levels of the variables.\n",
    "* It is not surprising that most of the year in the UK has minimal ground frost and snow.\n",
    "* A scatter plot of each of the two variables will also show cyclic variations over time. This is not surprising given seasonal changes to weather."
   ]
  },
  {
   "cell_type": "markdown",
   "metadata": {
    "id": "ZNQnWrTL1uFN"
   },
   "source": [
    "# Section 2 - Load the dataset\n",
    "\n"
   ]
  },
  {
   "cell_type": "markdown",
   "metadata": {
    "id": "KXj3aE3e2dHy"
   },
   "source": [
    "\n",
    "\n",
    "1. You need to first download the data before you can get started. Download from the Week 3 page for the module, on Canvas (see 'Week 3 Lab Dataset' on the page). The file you download will be named *curated_data_1month_2010-2022_nonans.csv*.\n",
    "\n",
    "2. Then, use the file menu in Google Colab to upload the file to your Colab directory. Once upload is complete, you should be able to see the file on the listed contents of your Colab directory.\n",
    "\n",
    "3. You can now run the code in the cell below to load the data."
   ]
  },
  {
   "cell_type": "code",
   "execution_count": 1,
   "metadata": {
    "colab": {
     "base_uri": "https://localhost:8080/"
    },
    "executionInfo": {
     "elapsed": 270,
     "status": "ok",
     "timestamp": 1730113856104,
     "user": {
      "displayName": "Temi Olugbade",
      "userId": "13847897350210385961"
     },
     "user_tz": 0
    },
    "id": "0gFnB9nq4yWz",
    "outputId": "5483f287-be2f-402f-84a6-ca2ed6a6b0eb"
   },
   "outputs": [
    {
     "name": "stdout",
     "output_type": "stream",
     "text": [
      "ls: /content: No such file or directory\n"
     ]
    },
    {
     "ename": "FileNotFoundError",
     "evalue": "[Errno 2] No such file or directory: '/content/curated_data_1month_2010-2022_nonans.csv'",
     "output_type": "error",
     "traceback": [
      "\u001b[0;31m---------------------------------------------------------------------------\u001b[0m",
      "\u001b[0;31mFileNotFoundError\u001b[0m                         Traceback (most recent call last)",
      "Cell \u001b[0;32mIn[1], line 12\u001b[0m\n\u001b[1;32m      9\u001b[0m data_as_list \u001b[38;5;241m=\u001b[39m []\n\u001b[1;32m     11\u001b[0m \u001b[38;5;66;03m# load the dataset\u001b[39;00m\n\u001b[0;32m---> 12\u001b[0m \u001b[38;5;28;01mwith\u001b[39;00m \u001b[38;5;28;43mopen\u001b[39;49m\u001b[43m(\u001b[49m\u001b[43mdata_file_full_path\u001b[49m\u001b[43m)\u001b[49m \u001b[38;5;28;01mas\u001b[39;00m csv_file:\n\u001b[1;32m     13\u001b[0m     csv_reader \u001b[38;5;241m=\u001b[39m csv\u001b[38;5;241m.\u001b[39mreader(csv_file, delimiter\u001b[38;5;241m=\u001b[39m\u001b[38;5;124m'\u001b[39m\u001b[38;5;124m,\u001b[39m\u001b[38;5;124m'\u001b[39m)\n\u001b[1;32m     15\u001b[0m     row_count \u001b[38;5;241m=\u001b[39m \u001b[38;5;241m0\u001b[39m\n",
      "File \u001b[0;32m~/Library/Python/3.13/lib/python/site-packages/IPython/core/interactiveshell.py:324\u001b[0m, in \u001b[0;36m_modified_open\u001b[0;34m(file, *args, **kwargs)\u001b[0m\n\u001b[1;32m    317\u001b[0m \u001b[38;5;28;01mif\u001b[39;00m file \u001b[38;5;129;01min\u001b[39;00m {\u001b[38;5;241m0\u001b[39m, \u001b[38;5;241m1\u001b[39m, \u001b[38;5;241m2\u001b[39m}:\n\u001b[1;32m    318\u001b[0m     \u001b[38;5;28;01mraise\u001b[39;00m \u001b[38;5;167;01mValueError\u001b[39;00m(\n\u001b[1;32m    319\u001b[0m         \u001b[38;5;124mf\u001b[39m\u001b[38;5;124m\"\u001b[39m\u001b[38;5;124mIPython won\u001b[39m\u001b[38;5;124m'\u001b[39m\u001b[38;5;124mt let you open fd=\u001b[39m\u001b[38;5;132;01m{\u001b[39;00mfile\u001b[38;5;132;01m}\u001b[39;00m\u001b[38;5;124m by default \u001b[39m\u001b[38;5;124m\"\u001b[39m\n\u001b[1;32m    320\u001b[0m         \u001b[38;5;124m\"\u001b[39m\u001b[38;5;124mas it is likely to crash IPython. If you know what you are doing, \u001b[39m\u001b[38;5;124m\"\u001b[39m\n\u001b[1;32m    321\u001b[0m         \u001b[38;5;124m\"\u001b[39m\u001b[38;5;124myou can use builtins\u001b[39m\u001b[38;5;124m'\u001b[39m\u001b[38;5;124m open.\u001b[39m\u001b[38;5;124m\"\u001b[39m\n\u001b[1;32m    322\u001b[0m     )\n\u001b[0;32m--> 324\u001b[0m \u001b[38;5;28;01mreturn\u001b[39;00m \u001b[43mio_open\u001b[49m\u001b[43m(\u001b[49m\u001b[43mfile\u001b[49m\u001b[43m,\u001b[49m\u001b[43m \u001b[49m\u001b[38;5;241;43m*\u001b[39;49m\u001b[43margs\u001b[49m\u001b[43m,\u001b[49m\u001b[43m \u001b[49m\u001b[38;5;241;43m*\u001b[39;49m\u001b[38;5;241;43m*\u001b[39;49m\u001b[43mkwargs\u001b[49m\u001b[43m)\u001b[49m\n",
      "\u001b[0;31mFileNotFoundError\u001b[0m: [Errno 2] No such file or directory: '/content/curated_data_1month_2010-2022_nonans.csv'"
     ]
    }
   ],
   "source": [
    "import csv\n",
    "import numpy\n",
    "\n",
    "\n",
    "!ls  /content\n",
    "\n",
    "data_file_full_path = \"/content/curated_data_1month_2010-2022_nonans.csv\"\n",
    "\n",
    "data_as_list = []\n",
    "\n",
    "# load the dataset\n",
    "with open(data_file_full_path) as csv_file:\n",
    "    csv_reader = csv.reader(csv_file, delimiter=',')\n",
    "\n",
    "    row_count = 0\n",
    "    for row in csv_reader:\n",
    "\n",
    "      if row_count > 0:\n",
    "        data_as_list.append([float(val) for val in row])\n",
    "      row_count += 1\n",
    "data = numpy.array(data_as_list)\n",
    "\n",
    "# check its shape\n",
    "print(\"\\n The dataset has shape: \"+str(data.shape))\n",
    "\n",
    "\n",
    "# get features and labels from the data\n",
    "# based on the objectives (see the Objectives section)\n",
    "feat_col = [5, 6, 7, 8, 9, 10, 11]\n",
    "ground_frost_col = 4\n",
    "snow_col = 12\n",
    "\n",
    "feats = data[:, feat_col]\n",
    "ground_frost_label = data[:, ground_frost_col]\n",
    "snow_label = data[:, snow_col]\n",
    "\n",
    "\n",
    "# take a peek\n",
    "print(\"\\n A peek at the dataset features: \\n\"+str(feats))\n",
    "print(\"\\n A peek at the ground frost labels: \\n\"+str(ground_frost_label))\n",
    "print(\"\\n A peek at the snow labels: \\n\"+str(snow_label))\n"
   ]
  },
  {
   "cell_type": "markdown",
   "metadata": {
    "id": "oHjsZ1d3NYCP"
   },
   "source": [
    "# Section 3 - Split into training, validation, and test sets"
   ]
  },
  {
   "cell_type": "code",
   "execution_count": null,
   "metadata": {
    "id": "pFYBM9RBSMDS"
   },
   "outputs": [],
   "source": [
    "from sklearn.model_selection import train_test_split\n",
    "\n",
    "all_ids = numpy.arange(0, feats.shape[0])\n",
    "\n",
    "random_seed = 1\n",
    "\n",
    "# First randomly split the data into 70:30 to get the training set\n",
    "train_set_ids, rem_set_ids = train_test_split(all_ids, test_size=0.3, train_size=0.7,\n",
    "                                 random_state=random_seed, shuffle=True)\n",
    "\n",
    "\n",
    "# Then further split the remaining data 50:50 into validation and test sets\n",
    "val_set_ids, test_set_ids = train_test_split(rem_set_ids, test_size=0.5, train_size=0.5,\n",
    "                                 random_state=random_seed, shuffle=True)\n",
    "\n",
    "\n",
    "train_data = feats[train_set_ids, :]\n",
    "train_ground_frost_labels = ground_frost_label[train_set_ids]\n",
    "train_snow_labels = snow_label[train_set_ids]\n",
    "\n",
    "val_data = feats[val_set_ids, :]\n",
    "val_ground_frost_labels = ground_frost_label[val_set_ids]\n",
    "val_snow_labels = snow_label[val_set_ids]\n",
    "\n",
    "test_data = feats[test_set_ids, :]\n",
    "test_ground_frost_labels = ground_frost_label[test_set_ids]\n",
    "test_snow_labels = snow_label[test_set_ids]"
   ]
  },
  {
   "cell_type": "markdown",
   "metadata": {
    "id": "dlxoG_76etp6"
   },
   "source": [
    "# Section 4 - Train and evaluate a SVM regression model (with hyperparameter optimization)"
   ]
  },
  {
   "cell_type": "code",
   "execution_count": null,
   "metadata": {
    "colab": {
     "base_uri": "https://localhost:8080/"
    },
    "executionInfo": {
     "elapsed": 521,
     "status": "ok",
     "timestamp": 1730113869812,
     "user": {
      "displayName": "Temi Olugbade",
      "userId": "13847897350210385961"
     },
     "user_tz": 0
    },
    "id": "sETTFPn0HBCL",
    "outputId": "7338dd70-1b31-4733-8ee2-7cf6a98e6731"
   },
   "outputs": [
    {
     "name": "stdout",
     "output_type": "stream",
     "text": [
      "\n",
      " The optimal c for this data is: 0.1\n",
      "\n",
      " The test mean squared error (MSE) is: 5.60292192149443\n"
     ]
    }
   ],
   "source": [
    "\n",
    "from sklearn.svm import LinearSVR\n",
    "from sklearn.metrics import mean_squared_error\n",
    "import sys\n",
    "\n",
    "#--- Use the validation set to optimize the box constraint hyperparameter ---\n",
    "#--- based on grid search method ---\n",
    "\n",
    "# set the range of hyperparameters to search from\n",
    "c_options = [0.1, 1.0, 10.0]\n",
    "# initialize the optimal box constraint value\n",
    "best_c = 0.1\n",
    "# initialize the performance of the optimal box constraint value\n",
    "best_c_perf = sys.float_info.max\n",
    "\n",
    "# for each box constraint in the set of values to search\n",
    "# training a SVM model and evaluate it\n",
    "# if the performance obtained is better than the currrent 'best_c_perf'\n",
    "# set the box constraint as the current optimal\n",
    "for c in c_options:\n",
    "  #print(\"\\n for c=\"+str(c)+\"...\")\n",
    "  model_SVM = LinearSVR(C=c, random_state=random_seed, loss='squared_epsilon_insensitive')\n",
    "  model_SVM.fit(train_data, train_ground_frost_labels)\n",
    "  val_pred_SVM = model_SVM.predict(val_data)\n",
    "  val_mse_SVM = mean_squared_error(val_ground_frost_labels, val_pred_SVM)\n",
    "\n",
    "  if val_mse_SVM < best_c_perf:\n",
    "    best_c = c\n",
    "    best_c_perf = val_mse_SVM\n",
    "\n",
    "print('\\n The optimal c for this data is: '+str(best_c))\n",
    "\n",
    "\n",
    "# use the optimized box constraint to train the final model\n",
    "model_SVM = LinearSVR(C=best_c, random_state=random_seed, loss='squared_epsilon_insensitive')\n",
    "model_SVM.fit(train_data, train_ground_frost_labels)\n",
    "\n",
    "# evaluate the trained model using the test set\n",
    "test_pred_SVM = model_SVM.predict(test_data)\n",
    "mse_SVM = mean_squared_error(test_ground_frost_labels, test_pred_SVM)\n",
    "print('\\n The test mean squared error (MSE) is: '+str(mse_SVM))\n",
    "\n"
   ]
  },
  {
   "cell_type": "markdown",
   "metadata": {
    "id": "JK-55bd7wDPE"
   },
   "source": [
    "# Section 5 - Train and evaluate with scaled features"
   ]
  },
  {
   "cell_type": "markdown",
   "metadata": {
    "id": "hZiydO8NR11u"
   },
   "source": [
    "* Read the StandardScaler documentation (https://scikit-learn.org/stable/modules/generated/sklearn.preprocessing.StandardScaler.html). Using the documentation above, compute scaled features from *feats* in Section 2 based on standard scaling.\n",
    "\n",
    "* Train and evaluate the SVM model with the scaled features.\n",
    "\n",
    "* What differences do you notice in the feature distribution and the results?\n"
   ]
  },
  {
   "cell_type": "markdown",
   "metadata": {
    "id": "GJWx9gYDUsdR"
   },
   "source": [
    "**Solution**"
   ]
  },
  {
   "cell_type": "code",
   "execution_count": null,
   "metadata": {
    "colab": {
     "base_uri": "https://localhost:8080/"
    },
    "executionInfo": {
     "elapsed": 265,
     "status": "ok",
     "timestamp": 1730113882769,
     "user": {
      "displayName": "Temi Olugbade",
      "userId": "13847897350210385961"
     },
     "user_tz": 0
    },
    "id": "XsTdSZOGR68y",
    "outputId": "8e05ce8b-9347-4c9a-c822-a84789027f2d"
   },
   "outputs": [
    {
     "name": "stdout",
     "output_type": "stream",
     "text": [
      "\n",
      " A peek at the scaled dataset features: \n",
      "[[ 1.32716655  1.57084147 -0.88330353 ...  1.51819974 -0.59716362\n",
      "  -0.08830932]\n",
      " [ 1.34196535  1.57808582 -0.99442844 ...  1.03005351 -0.70725389\n",
      "   0.32720564]\n",
      " [ 1.32207443  1.53201409 -0.82347666 ... -0.03198748 -0.69392287\n",
      "   0.1237155 ]\n",
      " ...\n",
      " [ 1.03019683 -1.18300764 -1.68424647 ...  0.24956567 -1.67661336\n",
      "   3.16507655]\n",
      " [ 1.2190197  -1.15490117 -1.57817505 ...  0.2289915  -1.91603506\n",
      "   3.37501812]\n",
      " [ 0.04658465 -1.27114612 -1.73722605 ...  3.1470957  -1.30236928\n",
      "   2.4354211 ]]\n",
      "\n",
      " The optimal c for the scaled data is: 10.0\n",
      "\n",
      " The test MSE is: 4.651567722366648\n"
     ]
    }
   ],
   "source": [
    "from sklearn.preprocessing import StandardScaler\n",
    "scaler = StandardScaler()\n",
    "scaler.fit(feats)\n",
    "scaled_feats = scaler.transform(feats)\n",
    "print(\"\\n A peek at the scaled dataset features: \\n\"+str(scaled_feats))\n",
    "\n",
    "\n",
    "scaled_train_data = scaled_feats[train_set_ids, :]\n",
    "scaled_val_data = scaled_feats[val_set_ids, :]\n",
    "scaled_test_data = scaled_feats[test_set_ids, :]\n",
    "\n",
    "\n",
    "# set the range of hyperparameters to search from\n",
    "c_options = [0.1, 1.0, 10.0]\n",
    "# initialize the optimal box constraint value\n",
    "best_c = 0.1\n",
    "# initialize the performance of the optimal box constraint value\n",
    "best_c_perf = sys.float_info.max\n",
    "\n",
    "# for each box constraint in the set of values to search\n",
    "# training a SVM model and evaluate it\n",
    "# if the performance obtained is better than the currrent 'best_c_perf'\n",
    "# set the box constraint as the current optimal\n",
    "for c in c_options:\n",
    "\n",
    "  model_SVM = LinearSVR(C=c, random_state=random_seed, loss='squared_epsilon_insensitive')\n",
    "  model_SVM.fit(scaled_train_data, train_ground_frost_labels)\n",
    "  val_pred_SVM = model_SVM.predict(scaled_val_data)\n",
    "  val_mse_SVM = mean_squared_error(val_ground_frost_labels, val_pred_SVM)\n",
    "\n",
    "  if val_mse_SVM < best_c_perf:\n",
    "    best_c = c\n",
    "    best_c_perf = val_mse_SVM\n",
    "\n",
    "print('\\n The optimal c for the scaled data is: '+str(best_c))\n",
    "\n",
    "\n",
    "# use the optimized box constraint to train the final model\n",
    "model_SVM = LinearSVR(C=best_c, random_state=random_seed, loss='squared_epsilon_insensitive')\n",
    "model_SVM.fit(scaled_train_data, train_ground_frost_labels)\n",
    "\n",
    "# evaluate the trained model using the test set\n",
    "test_pred_SVM = model_SVM.predict(scaled_test_data)\n",
    "mse_SVM = mean_squared_error(test_ground_frost_labels, test_pred_SVM)\n",
    "print('\\n The test MSE is: '+str(mse_SVM))\n"
   ]
  },
  {
   "cell_type": "markdown",
   "metadata": {
    "id": "6EBJByKgUvou"
   },
   "source": [
    "* Scaling the features using standard scaling makes each feature now have mean of 0 and standard deviation of 1.\n",
    "\n",
    "* Scaling affects the behaviour of any machine learning algorithm based on the basic linear model, including SVM.\n",
    "\n",
    "* You must always scale model input. We will look at why in Weeks 5-6."
   ]
  },
  {
   "cell_type": "markdown",
   "metadata": {
    "id": "ZPZlfnwlTsle"
   },
   "source": [
    "# Section 6 - Train and evaluate a LR classification model"
   ]
  },
  {
   "cell_type": "markdown",
   "metadata": {
    "id": "gBxV3dKuUadG"
   },
   "source": [
    "* Use the information from Section 1 to split the ground frost label values into 4 classes.\n",
    "* Apply this to create classification labels for the labels in Section 2.\n",
    "* Use the classification labels to train and evaluate a logistic regression model using the Scikit Learn library (https://scikit-learn.org/stable/modules/generated/sklearn.linear_model.LogisticRegression.html).\n"
   ]
  },
  {
   "cell_type": "markdown",
   "metadata": {
    "id": "xBGKC0c6yEZq"
   },
   "source": [
    "**Solution**"
   ]
  },
  {
   "cell_type": "code",
   "execution_count": null,
   "metadata": {
    "colab": {
     "base_uri": "https://localhost:8080/"
    },
    "executionInfo": {
     "elapsed": 488,
     "status": "ok",
     "timestamp": 1730113948237,
     "user": {
      "displayName": "Temi Olugbade",
      "userId": "13847897350210385961"
     },
     "user_tz": 0
    },
    "id": "KB1L4vTSTyYs",
    "outputId": "cc1bea23-361a-45fd-d10b-74894209838a"
   },
   "outputs": [
    {
     "name": "stdout",
     "output_type": "stream",
     "text": [
      "\n",
      " A peek at the classification ground frost labels: \n",
      "[2. 2. 2. ... 3. 3. 3.]\n",
      "\n",
      " The test accuracy is: 0.7987055016181229\n"
     ]
    }
   ],
   "source": [
    "from sklearn.linear_model import LogisticRegression\n",
    "from sklearn.metrics import accuracy_score\n",
    "from copy import deepcopy\n",
    "\n",
    "# to obtain an even distribution of data instances across classes\n",
    "# split based on distribution of given data (use the quartile information)\n",
    "# and take into consideration that the max possible number of days of ground frost\n",
    "# is 31 days since the longest month in the year has that number of days\n",
    "\n",
    "ground_frost_label_class = deepcopy(ground_frost_label)\n",
    "numpy.place(ground_frost_label_class, ground_frost_label_class<=0.95, 0)\n",
    "numpy.place(ground_frost_label_class, numpy.logical_and(ground_frost_label_class>0.95, ground_frost_label_class<=6.87), 1)\n",
    "numpy.place(ground_frost_label_class, numpy.logical_and(ground_frost_label_class>6.87, ground_frost_label_class<=13.87), 2)\n",
    "numpy.place(ground_frost_label_class, ground_frost_label_class>13.87, 3)\n",
    "\n",
    "print(\"\\n A peek at the classification ground frost labels: \\n\"+str(ground_frost_label_class))\n",
    "\n",
    "\n",
    "train_ground_frost_labels_class = ground_frost_label_class[train_set_ids]\n",
    "val_ground_frost_labels_class = ground_frost_label_class[val_set_ids]\n",
    "test_ground_frost_labels_class = ground_frost_label_class[test_set_ids]\n",
    "\n",
    "\n",
    "\n",
    "model_LR = LogisticRegression(penalty='l2', random_state=random_seed)\n",
    "model_LR.fit(scaled_train_data, train_ground_frost_labels_class)\n",
    "\n",
    "\n",
    "test_pred_LR = model_LR.predict(scaled_test_data)\n",
    "acc_LR = accuracy_score(test_ground_frost_labels_class, test_pred_LR)\n",
    "print('\\n The test accuracy is: '+str(acc_LR))\n",
    "\n",
    "\n"
   ]
  },
  {
   "cell_type": "markdown",
   "metadata": {
    "id": "e1EuTj3KpxQo"
   },
   "source": [
    "# Section 7 - Evaluate using other classification metrics"
   ]
  },
  {
   "cell_type": "code",
   "execution_count": null,
   "metadata": {
    "colab": {
     "base_uri": "https://localhost:8080/",
     "height": 540
    },
    "executionInfo": {
     "elapsed": 1135,
     "status": "ok",
     "timestamp": 1730113961147,
     "user": {
      "displayName": "Temi Olugbade",
      "userId": "13847897350210385961"
     },
     "user_tz": 0
    },
    "id": "jQHmDopxb0q9",
    "outputId": "3fa0b93c-835a-4ffc-c034-7b71404b644b"
   },
   "outputs": [
    {
     "name": "stdout",
     "output_type": "stream",
     "text": [
      "\n",
      " The F1 scores for each of the classes are: [0.87878788 0.73809524 0.72887768 0.84913218]\n",
      "\n",
      " The average F1 score is: 0.7987232432038622\n",
      "\n"
     ]
    },
    {
     "data": {
      "image/png": "[encoded data removed]",
      "text/plain": [
       "<Figure size 640x480 with 2 Axes>"
      ]
     },
     "metadata": {},
     "output_type": "display_data"
    }
   ],
   "source": [
    "from sklearn.metrics import f1_score, confusion_matrix, ConfusionMatrixDisplay\n",
    "import matplotlib.pyplot as plt\n",
    "\n",
    "# F1 score similar to accuracy in that it ranges between 0 and 1\n",
    "# We will look at this metric in Weeks 5-6\n",
    "avg_f1_score_LR = f1_score(test_ground_frost_labels_class, test_pred_LR, average='macro')\n",
    "f1_scores_LR = f1_score(test_ground_frost_labels_class, test_pred_LR, average=None)\n",
    "print('\\n The F1 scores for each of the classes are: '+str(f1_scores_LR))\n",
    "print('\\n The average F1 score is: '+str(avg_f1_score_LR))\n",
    "print()\n",
    "\n",
    "# Confusion shows the misclassification\n",
    "# We will look at this metric in Weeks 5-6\n",
    "confusion_matrix_SVM = confusion_matrix(test_ground_frost_labels_class, test_pred_LR)\n",
    "disp = ConfusionMatrixDisplay(confusion_matrix_SVM)\n",
    "disp.plot()\n",
    "plt.show()\n"
   ]
  }
 ],
 "metadata": {
  "colab": {
   "authorship_tag": "ABX9TyPaMpF0ytlFGakRHWugpWuB",
   "collapsed_sections": [
    "rxyl5fPn1cEU",
    "kPvpMsQb3JN7",
    "ZNQnWrTL1uFN",
    "oHjsZ1d3NYCP",
    "dlxoG_76etp6",
    "JK-55bd7wDPE",
    "ZPZlfnwlTsle",
    "e1EuTj3KpxQo"
   ],
   "provenance": []
  },
  "kernelspec": {
   "display_name": "Python 3",
   "name": "python3"
  },
  "language_info": {
   "codemirror_mode": {
    "name": "ipython",
    "version": 3
   },
   "file_extension": ".py",
   "mimetype": "text/x-python",
   "name": "python",
   "nbconvert_exporter": "python",
   "pygments_lexer": "ipython3",
   "version": "3.13.1"
  }
 },
 "nbformat": 4,
 "nbformat_minor": 0
}
