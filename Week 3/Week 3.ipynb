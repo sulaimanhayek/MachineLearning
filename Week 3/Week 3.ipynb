{
 "cells": [
  {
   "cell_type": "markdown",
   "metadata": {
    "id": "rxyl5fPn1cEU"
   },
   "source": [
    "# Objectives"
   ]
  },
  {
   "cell_type": "markdown",
   "metadata": {
    "id": "qCCRn5I21gF8"
   },
   "source": [
    "\n",
    "* To explore an existing dataset\n",
    "> This week, we'll use a subset of the UK Met dataset. You can read more about the UK Met dataset here: https://rmets.onlinelibrary.wiley.com/doi/10.1002/gdj3.78. We will use the 60km-resolution data for 2010 to 2022.\n",
    "\n",
    "* To apply support vector machine (SVM) and logistic regression algorithms from Week 3 lecture to automatic detection of the number of days of ground frost and snow based on other weather variables."
   ]
  },
  {
   "cell_type": "markdown",
   "metadata": {
    "id": "kPvpMsQb3JN7"
   },
   "source": [
    "# Section 1 - Explore the UK Met (60km, 2010-2022) dataset"
   ]
  },
  {
   "cell_type": "markdown",
   "metadata": {
    "id": "DiO4BnO_-szF"
   },
   "source": [
    "See the dataset on the Week 3 page for the module, on Canvas (see 'Week 3 Lab Dataset' on the page). The file is named c*urated_data_1month_2010-2022_nonans.csv*.\n",
    "* What does each variable in the dataset represent?\n",
    "  * Coordinates, Month, year, days of ground frost, relative humidity, sea level pressure, vapour pressure, total rainfall, wind speed, days of snow, sunshine, air temperature.\n",
    "* What is the distribution of the number of days of ground frost in the dataset? What of for the number of days of snow?\n",
    "  * ground frost:\n",
    "    * Avg\t7.94\n",
    "    * Median\t6.87\n",
    "    * Stdev\t6.95\n",
    "    * Min\t0.00077\n",
    "    * Max\t28.02\n",
    "  * Snow:\n",
    "    * Avg\t0.896\n",
    "    * Median\t0.013\n",
    "    * Stdev\t2.245\n",
    "    * Min\t0.000\n",
    "    * Max\t23.949\n",
    "* What does this tell you about the data?\n",
    "  * High values are under-represented \n",
    "* What else can you tell about the data?\n",
    "  * minimunm values of ground frost and snow are almost zero.\n"
   ]
  },
  {
   "cell_type": "markdown",
   "metadata": {
    "id": "ZNQnWrTL1uFN"
   },
   "source": [
    "# Section 2 - Load the dataset\n",
    "\n"
   ]
  },
  {
   "cell_type": "markdown",
   "metadata": {
    "id": "KXj3aE3e2dHy"
   },
   "source": [
    "\n",
    "\n",
    "1. You need to first download the data before you can get started. Download from the Week 3 page for the module, on Canvas (see 'Week 3 Lab Dataset' on the page). The file you download will be named *curated_data_1month_2010-2022_nonans.csv*.\n",
    "\n",
    "2. Then, use the file menu in Google Colab to upload the file to your Colab directory. Once upload is complete, you should be able to see the file on the listed contents of your Colab directory.\n",
    "\n",
    "3. You can now run the code in the cell below to load the data."
   ]
  },
  {
   "cell_type": "code",
   "execution_count": 2,
   "metadata": {
    "id": "0gFnB9nq4yWz"
   },
   "outputs": [
    {
     "name": "stdout",
     "output_type": "stream",
     "text": [
      "ls: /content: No such file or directory\n",
      "\n",
      " The dataset has shape: (10296, 13)\n",
      "\n",
      " A peek at the dataset features: \n",
      "[[8.93698275e+01 1.02266536e+03 6.45115642e+01 ... 6.45810733e+00\n",
      "  6.72744772e+00 6.97199793e-01]\n",
      " [8.94462109e+01 1.02270800e+03 5.74868117e+01 ... 5.88191052e+00\n",
      "  6.23064828e+00 1.62952568e+00]\n",
      " [8.93435447e+01 1.02243684e+03 6.82935149e+01 ... 4.62830127e+00\n",
      "  6.29080656e+00 1.17293773e+00]\n",
      " ...\n",
      " [8.78370293e+01 1.00645706e+03 1.38800195e+01 ... 4.96064026e+00\n",
      "  1.85626301e+00 7.99709543e+00]\n",
      " [8.88116315e+01 1.00662248e+03 2.05853162e+01 ... 4.93635497e+00\n",
      "  7.75835354e-01 8.46815900e+00]\n",
      " [8.27601516e+01 1.00593830e+03 1.05309193e+01 ... 8.38081942e+00\n",
      "  3.54509758e+00 6.35990610e+00]]\n",
      "\n",
      " A peek at the ground frost labels: \n",
      "[ 9.84928987 10.85267889 12.97189949 ... 21.7275541  23.77582838\n",
      " 17.35386163]\n",
      "\n",
      " A peek at the snow labels: \n",
      "[112.2352382  116.3547495   57.53778808 ... 177.2424627  135.4028786\n",
      " 140.831213  ]\n"
     ]
    }
   ],
   "source": [
    "import csv\n",
    "import numpy\n",
    "\n",
    "\n",
    "!ls  /content\n",
    "\n",
    "data_file_full_path = \"/Users/suli/Documents/source/repo/MachineLearning/Week 3/curated_data_1month_2010-2022_nonans.csv\"\n",
    "\n",
    "data_as_list = []\n",
    "\n",
    "# load the dataset\n",
    "with open(data_file_full_path) as csv_file:\n",
    "    csv_reader = csv.reader(csv_file, delimiter=',')\n",
    "\n",
    "    row_count = 0\n",
    "    for row in csv_reader:\n",
    "\n",
    "      if row_count > 0:\n",
    "        data_as_list.append([float(val) for val in row])\n",
    "      row_count += 1\n",
    "data = numpy.array(data_as_list)\n",
    "\n",
    "# check its shape\n",
    "print(\"\\n The dataset has shape: \"+str(data.shape))\n",
    "\n",
    "\n",
    "# get features and labels from the data\n",
    "# based on the objectives (see the Objectives section)\n",
    "feat_col = [5, 6, 7, 8, 9, 10, 11]\n",
    "ground_frost_col = 4\n",
    "snow_col = 12\n",
    "\n",
    "feats = data[:, feat_col]\n",
    "ground_frost_label = data[:, ground_frost_col]\n",
    "snow_label = data[:, snow_col]\n",
    "\n",
    "\n",
    "# take a peek\n",
    "print(\"\\n A peek at the dataset features: \\n\"+str(feats))\n",
    "print(\"\\n A peek at the ground frost labels: \\n\"+str(ground_frost_label))\n",
    "print(\"\\n A peek at the snow labels: \\n\"+str(snow_label))\n"
   ]
  },
  {
   "cell_type": "markdown",
   "metadata": {
    "id": "oHjsZ1d3NYCP"
   },
   "source": [
    "# Section 3 - Split into training, validation, and test sets"
   ]
  },
  {
   "cell_type": "code",
   "execution_count": 3,
   "metadata": {
    "id": "pFYBM9RBSMDS"
   },
   "outputs": [],
   "source": [
    "from sklearn.model_selection import train_test_split\n",
    "\n",
    "all_ids = numpy.arange(0, feats.shape[0])\n",
    "\n",
    "random_seed = 1\n",
    "\n",
    "# First randomly split the data into 70:30 to get the training set\n",
    "train_set_ids, rem_set_ids = train_test_split(all_ids, test_size=0.3, train_size=0.7,\n",
    "                                 random_state=random_seed, shuffle=True)\n",
    "\n",
    "\n",
    "# Then further split the remaining data 50:50 into validation and test sets\n",
    "val_set_ids, test_set_ids = train_test_split(rem_set_ids, test_size=0.5, train_size=0.5,\n",
    "                                 random_state=random_seed, shuffle=True)\n",
    "\n",
    "\n",
    "train_data = feats[train_set_ids, :]\n",
    "train_ground_frost_labels = ground_frost_label[train_set_ids]\n",
    "train_snow_labels = snow_label[train_set_ids]\n",
    "\n",
    "val_data = feats[val_set_ids, :]\n",
    "val_ground_frost_labels = ground_frost_label[val_set_ids]\n",
    "val_snow_labels = snow_label[val_set_ids]\n",
    "\n",
    "test_data = feats[test_set_ids, :]\n",
    "test_ground_frost_labels = ground_frost_label[test_set_ids]\n",
    "test_snow_labels = snow_label[test_set_ids]"
   ]
  },
  {
   "cell_type": "markdown",
   "metadata": {
    "id": "dlxoG_76etp6"
   },
   "source": [
    "# Section 4 - Train and evaluate a SVM regression model (with hyperparameter optimization)"
   ]
  },
  {
   "cell_type": "code",
   "execution_count": 4,
   "metadata": {
    "id": "sETTFPn0HBCL"
   },
   "outputs": [
    {
     "name": "stdout",
     "output_type": "stream",
     "text": [
      "\n",
      " The optimal c for this data is: 0.1\n",
      "\n",
      " The test mean squared error (MSE) is: 5.602921948234302\n"
     ]
    }
   ],
   "source": [
    "\n",
    "from sklearn.svm import LinearSVR\n",
    "from sklearn.metrics import mean_squared_error\n",
    "import sys\n",
    "\n",
    "#--- Use the validation set to optimize the box constraint hyperparameter ---\n",
    "#--- based on grid search method ---\n",
    "\n",
    "# set the range of hyperparameters to search from\n",
    "c_options = [0.1, 1.0, 10.0]\n",
    "# initialize the optimal box constraint value\n",
    "best_c = 0.1\n",
    "# initialize the performance of the optimal box constraint value\n",
    "best_c_perf = sys.float_info.max\n",
    "\n",
    "# for each box constraint in the set of values to search\n",
    "# training a SVM model and evaluate it\n",
    "# if the performance obtained is better than the currrent 'best_c_perf'\n",
    "# set the box constraint as the current optimal\n",
    "for c in c_options:\n",
    "  #print(\"\\n for c=\"+str(c)+\"...\")\n",
    "  model_SVM = LinearSVR(C=c, random_state=random_seed, loss='squared_epsilon_insensitive')\n",
    "  model_SVM.fit(train_data, train_ground_frost_labels)\n",
    "  val_pred_SVM = model_SVM.predict(val_data)\n",
    "  val_mse_SVM = mean_squared_error(val_ground_frost_labels, val_pred_SVM)\n",
    "\n",
    "  if val_mse_SVM < best_c_perf:\n",
    "    best_c = c\n",
    "    best_c_perf = val_mse_SVM\n",
    "\n",
    "print('\\n The optimal c for this data is: '+str(best_c))\n",
    "\n",
    "\n",
    "# use the optimized box constraint to train the final model\n",
    "model_SVM = LinearSVR(C=best_c, random_state=random_seed, loss='squared_epsilon_insensitive')\n",
    "model_SVM.fit(train_data, train_ground_frost_labels)\n",
    "\n",
    "# evaluate the trained model using the test set\n",
    "test_pred_SVM = model_SVM.predict(test_data)\n",
    "mse_SVM = mean_squared_error(test_ground_frost_labels, test_pred_SVM)\n",
    "print('\\n The test mean squared error (MSE) is: '+str(mse_SVM))\n",
    "\n"
   ]
  },
  {
   "cell_type": "markdown",
   "metadata": {},
   "source": [
    "In LinearSVR, C is the regularization parameter (often referred to as the “box constraint”). It controls the trade-off between the model’s simplicity and its ability to fit the training data:\n",
    "\n",
    "- Lower values of C: Impose stronger regularization. This encourages the model to keep the coefficients small, leading to a simpler model that might underfit the data.\n",
    "- Higher values of C: Reduce the regularization strength. This allows the model to fit the training data more closely, which can improve performance on the training set but may risk overfitting."
   ]
  },
  {
   "cell_type": "markdown",
   "metadata": {
    "id": "JK-55bd7wDPE"
   },
   "source": [
    "# Section 5 - Train and evaluate with scaled features"
   ]
  },
  {
   "cell_type": "markdown",
   "metadata": {
    "id": "hZiydO8NR11u"
   },
   "source": [
    "* Read the StandardScaler documentation (https://scikit-learn.org/stable/modules/generated/sklearn.preprocessing.StandardScaler.html). Using the documentation above, compute scaled features from *feats* in Section 2 based on standard scaling.\n",
    "\n",
    "* Train and evaluate the SVM model with the scaled features.\n",
    "\n",
    "* What differences do you notice in the feature distribution and the results?\n"
   ]
  },
  {
   "cell_type": "markdown",
   "metadata": {},
   "source": [
    "Before starting with the code, it's important to understand scaling using StandardScaler from SKLearn.\n",
    "\n",
    "Simply, StandardScaler is a preprocessing tool from Scikit-learn that standardizes the data. It does this by computing the mean and standard deviation for each feature in the dataset (feats), and then uses these values to rescale the features. Specifically, for each feature it subtracts the mean and divides by the standard deviation. This transformation produces a dataset where each feature has a mean of 0 and a variance of 1.\n",
    "\n",
    "Many machine learning models perform better when the input features are on a similar scale. For example, models that rely on distance calculations (like SVMs, KNN, etc.) benefit from scaling, as features with larger numeric ranges can unduly influence the model.\n",
    "\n",
    "While similar in spirit to traditional linear regression, LinearSVR minimizes a loss that ignores errors (or residuals) smaller than a specified threshold (called the epsilon parameter). This is known as the “epsilon-insensitive” loss. The model also includes a hyperparameter C which controls the trade-off between having a flat regression function and minimizing the training error. In essence, LinearSVR tries to find a hyperplane that best fits the data while allowing for some errors within a margin (epsilon).\n"
   ]
  },
  {
   "cell_type": "code",
   "execution_count": 6,
   "metadata": {},
   "outputs": [
    {
     "name": "stdout",
     "output_type": "stream",
     "text": [
      "\n",
      " A peek at the scaled features: \n",
      "[[ 1.32716655  1.57084147 -0.88330353 ...  1.51819974 -0.59716362\n",
      "  -0.08830932]\n",
      " [ 1.34196535  1.57808582 -0.99442844 ...  1.03005351 -0.70725389\n",
      "   0.32720564]\n",
      " [ 1.32207443  1.53201409 -0.82347666 ... -0.03198748 -0.69392287\n",
      "   0.1237155 ]\n",
      " ...\n",
      " [ 1.03019683 -1.18300764 -1.68424647 ...  0.24956567 -1.67661336\n",
      "   3.16507655]\n",
      " [ 1.2190197  -1.15490117 -1.57817505 ...  0.2289915  -1.91603506\n",
      "   3.37501812]\n",
      " [ 0.04658465 -1.27114612 -1.73722605 ...  3.1470957  -1.30236928\n",
      "   2.4354211 ]]\n",
      "\n",
      " The optimal c for the scaled data is: 10.0\n",
      "\n",
      " The test MSE is: 4.651567722366653\n"
     ]
    }
   ],
   "source": [
    "from sklearn.preprocessing import StandardScaler\n",
    "from sklearn.metrics import mean_squared_error\n",
    "import sys\n",
    "Scaler = StandardScaler()\n",
    "Scaler.fit(feats)\n",
    "scaled_feats = Scaler.transform(feats)\n",
    "print(\"\\n A peek at the scaled features: \\n\"+str(scaled_feats))\n",
    "\n",
    "scaled_train_data = scaled_feats[train_set_ids, :]\n",
    "scaled_val_data = scaled_feats[val_set_ids, :]\n",
    "scaled_test_data = scaled_feats[test_set_ids, :]\n",
    "\n",
    "# set the range of hyperparameters to search from\n",
    "c_options = [0.1, 1.0, 10.0]\n",
    "# initialize the optimal box constraint value\n",
    "best_c = 0.1\n",
    "# initialize the performance of the optimal box constraint value\n",
    "best_c_perf = sys.float_info.max\n",
    "\n",
    "# for each box constraint in the set of values to search\n",
    "# training a SVM model and evaluate it\n",
    "# if the performance obtained is better than the currrent 'best_c_perf'\n",
    "# set the box constraint as the current optimal\n",
    "for c in c_options:\n",
    "\n",
    "  model_SVM = LinearSVR(C=c, random_state=random_seed, loss='squared_epsilon_insensitive')\n",
    "  model_SVM.fit(scaled_train_data, train_ground_frost_labels)\n",
    "  val_pred_SVM = model_SVM.predict(scaled_val_data)\n",
    "  val_mse_SVM = mean_squared_error(val_ground_frost_labels, val_pred_SVM)\n",
    "\n",
    "  if val_mse_SVM < best_c_perf:\n",
    "    best_c = c\n",
    "    best_c_perf = val_mse_SVM\n",
    "\n",
    "print('\\n The optimal c for the scaled data is: '+str(best_c))\n",
    "\n",
    "\n",
    "# use the optimized box constraint to train the final model\n",
    "model_SVM = LinearSVR(C=best_c, random_state=random_seed, loss='squared_epsilon_insensitive')\n",
    "model_SVM.fit(scaled_train_data, train_ground_frost_labels)\n",
    "\n",
    "# evaluate the trained model using the test set\n",
    "test_pred_SVM = model_SVM.predict(scaled_test_data)\n",
    "mse_SVM = mean_squared_error(test_ground_frost_labels, test_pred_SVM)\n",
    "print('\\n The test MSE is: '+str(mse_SVM))"
   ]
  },
  {
   "cell_type": "markdown",
   "metadata": {},
   "source": [
    "- StandardScaler is a data preprocessing tool. It transforms your input features so that each feature has a standard scale (zero mean and unit variance).\n",
    "- LinearSVR is a machine learning estimator. It learns a linear model from your (possibly scaled) data to predict continuous target values.\n",
    "--\n",
    "- StandardScaler performs a fixed mathematical transformation (scaling) based solely on the statistics (mean and standard deviation) of the data. It does not “learn” relationships between features and a target variable.\n",
    "- LinearSVR “learns” by fitting a model to the data—it optimizes the parameters of a linear function to best predict the target variable based on the training examples."
   ]
  },
  {
   "cell_type": "markdown",
   "metadata": {
    "id": "ZPZlfnwlTsle"
   },
   "source": [
    "# Section 6 - Train and evaluate a LR classification model"
   ]
  },
  {
   "cell_type": "markdown",
   "metadata": {
    "id": "gBxV3dKuUadG"
   },
   "source": [
    "* Use the information from Section 1 to split the ground frost label values into 4 classes.\n",
    "* Apply this to create classification labels for the labels in Section 2.\n",
    "* Use the classification labels to train and evaluate a logistic regression model using the Scikit Learn library (https://scikit-learn.org/stable/modules/generated/sklearn.linear_model.LogisticRegression.html).\n"
   ]
  },
  {
   "cell_type": "markdown",
   "metadata": {},
   "source": [
    "Logistic regression is a statistical method used primarily for classification tasks. Despite its name, it isn’t used for regression (predicting continuous outcomes) but rather for predicting the probability of a categorical outcome. \n",
    "\n",
    "Classification: Logistic regression is used to classify data into two or more classes. In its simplest form (binary logistic regression), it predicts whether an instance belongs to one class or another (e.g., spam vs. not spam).\n",
    "\n",
    "Probabilistic Output: It outputs a probability between 0 and 1. This probability can be converted into a class label by choosing a cutoff (commonly 0.5).\n",
    "\n",
    "Linear Combination: The model starts by taking a linear combination of the input features. \n",
    "\n",
    "Logistic (Sigmoid) Function: Instead of using the linear combination directly, logistic regression passes this value through the logistic function (also known as the sigmoid function)"
   ]
  },
  {
   "cell_type": "code",
   "execution_count": 8,
   "metadata": {},
   "outputs": [
    {
     "name": "stdout",
     "output_type": "stream",
     "text": [
      "\n",
      " A peek at the classification ground frost labels: \n",
      "[2. 2. 2. ... 3. 3. 3.]\n",
      "\n",
      " The test accuracy is: 0.7987055016181229\n"
     ]
    }
   ],
   "source": [
    "from sklearn.linear_model import LogisticRegression\n",
    "from sklearn.metrics import accuracy_score\n",
    "from copy import deepcopy\n",
    "\n",
    "# classify the ground frost labels into 4 classes\n",
    "\n",
    "ground_frost_label_class = deepcopy(ground_frost_label)\n",
    "numpy.place(ground_frost_label_class, ground_frost_label_class<=0.95, 0)\n",
    "numpy.place(ground_frost_label_class, numpy.logical_and(ground_frost_label_class>0.95, ground_frost_label_class<=6.87), 1)\n",
    "numpy.place(ground_frost_label_class, numpy.logical_and(ground_frost_label_class>6.87, ground_frost_label_class<=13.87), 2)\n",
    "numpy.place(ground_frost_label_class, ground_frost_label_class>13.87, 3)\n",
    "\n",
    "print(\"\\n A peek at the classification ground frost labels: \\n\"+str(ground_frost_label_class))\n",
    "\n",
    "\n",
    "train_ground_frost_labels_class = ground_frost_label_class[train_set_ids]\n",
    "val_ground_frost_labels_class = ground_frost_label_class[val_set_ids]\n",
    "test_ground_frost_labels_class = ground_frost_label_class[test_set_ids]\n",
    "\n",
    "\n",
    "\n",
    "model_LR = LogisticRegression(penalty='l2', random_state=random_seed)\n",
    "model_LR.fit(scaled_train_data, train_ground_frost_labels_class)\n",
    "\n",
    "\n",
    "test_pred_LR = model_LR.predict(scaled_test_data)\n",
    "acc_LR = accuracy_score(test_ground_frost_labels_class, test_pred_LR)\n",
    "print('\\n The test accuracy is: '+str(acc_LR))\n",
    "\n",
    "\n"
   ]
  },
  {
   "cell_type": "markdown",
   "metadata": {
    "id": "e1EuTj3KpxQo"
   },
   "source": [
    "# Section 7 - Evaluate using other classification metrics"
   ]
  },
  {
   "cell_type": "code",
   "execution_count": 9,
   "metadata": {
    "id": "jQHmDopxb0q9"
   },
   "outputs": [
    {
     "name": "stdout",
     "output_type": "stream",
     "text": [
      "\n",
      " The F1 scores for each of the classes are: [0.87878788 0.73809524 0.72887768 0.84913218]\n",
      "\n",
      " The average F1 score is: 0.7987232432038622\n",
      "\n"
     ]
    },
    {
     "data": {
      "image/png": "[encoded data removed]",
      "text/plain": [
       "<Figure size 640x480 with 2 Axes>"
      ]
     },
     "metadata": {},
     "output_type": "display_data"
    }
   ],
   "source": [
    "from sklearn.metrics import f1_score, confusion_matrix, ConfusionMatrixDisplay\n",
    "import matplotlib.pyplot as plt\n",
    "\n",
    "# F1 score similar to accuracy in that it ranges between 0 and 1\n",
    "# We will look at this metric in Weeks 5-6\n",
    "avg_f1_score_LR = f1_score(test_ground_frost_labels_class, test_pred_LR, average='macro')\n",
    "f1_scores_LR = f1_score(test_ground_frost_labels_class, test_pred_LR, average=None)\n",
    "print('\\n The F1 scores for each of the classes are: '+str(f1_scores_LR))\n",
    "print('\\n The average F1 score is: '+str(avg_f1_score_LR))\n",
    "print()\n",
    "\n",
    "# Confusion shows the misclassification\n",
    "# We will look at this metric in Weeks 5-6\n",
    "confusion_matrix_SVM = confusion_matrix(test_ground_frost_labels_class, test_pred_LR)\n",
    "disp = ConfusionMatrixDisplay(confusion_matrix_SVM)\n",
    "disp.plot()\n",
    "plt.show()\n"
   ]
  }
 ],
 "metadata": {
  "colab": {
   "authorship_tag": "ABX9TyNTfF/iNcAb2YuqtjbE8n86",
   "collapsed_sections": [
    "rxyl5fPn1cEU",
    "kPvpMsQb3JN7",
    "ZNQnWrTL1uFN",
    "oHjsZ1d3NYCP",
    "dlxoG_76etp6",
    "JK-55bd7wDPE",
    "ZPZlfnwlTsle",
    "e1EuTj3KpxQo"
   ],
   "provenance": []
  },
  "kernelspec": {
   "display_name": "Python 3",
   "name": "python3"
  },
  "language_info": {
   "codemirror_mode": {
    "name": "ipython",
    "version": 3
   },
   "file_extension": ".py",
   "mimetype": "text/x-python",
   "name": "python",
   "nbconvert_exporter": "python",
   "pygments_lexer": "ipython3",
   "version": "3.13.1"
  }
 },
 "nbformat": 4,
 "nbformat_minor": 0
}
