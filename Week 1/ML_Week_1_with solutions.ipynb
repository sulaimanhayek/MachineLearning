{
 "cells": [
  {
   "cell_type": "markdown",
   "metadata": {
    "id": "eFg7aL7BqPex"
   },
   "source": [
    "# Objectives\n",
    "\n"
   ]
  },
  {
   "cell_type": "markdown",
   "metadata": {
    "id": "g8f4eGPFVUaz"
   },
   "source": [
    "\n",
    "* To introduce you to 3 of the main (Python-based) libraries we'll be using throughout the module:\n",
    "> 1. scikit-learn (https://scikit-learn.org/stable/) - one of the well-used machine learning libraries.\n",
    "> 2. numpy (https://numpy.org/) -  a very common library for mathematical tasks.\n",
    "> 3. matplotlib (https://matplotlib.org/) - for creating plots.\n",
    ">**Note**: It is your responsibility as a machine learning scientist to read documentations for any library function you use and to thoroughly understand what it is doing, if it validly serves your purpose, and which of its parameters you need to consider.\n",
    "\n",
    "* To explore the basic linear model and L1 and L2 regularization from Week 1 lecture\n",
    "\n",
    "* To see some of the basic components of machine learning first hand - training data, training labels, test data, test labels, machine learning model (with weights and biases being the primary parameters that specify a model for most machine learning algorithms), model evaluation & performance - and some of the basic steps of the machine learning pipeline:\n",
    ">1. Data sourcing - today, we'll simply generate data using a random number generator.\n",
    ">2. Model building using training data & based on chosen machine learning algorithm(s) - linear regression (the basic linear model) is the very simplest algorithm.\n",
    ">3. Model evaluation - our performance metric today is the mean squared error (same formula as the L2 loss).\n",
    ">**Note** - A measure of model performance is referred to as 'loss' when the goal is to optimize the model parameters, but as '(performance) metric' when the goal is simply to analyze how well the model performs (especially on unseen data).\n",
    "\n",
    "* To highlight to you the important principle of reproducibility\n"
   ]
  },
  {
   "cell_type": "markdown",
   "metadata": {
    "id": "hsv7Ks_9qPe1"
   },
   "source": [
    "# Section 1 - Set up imports and random number generator"
   ]
  },
  {
   "cell_type": "code",
   "execution_count": 2,
   "metadata": {
    "executionInfo": {
     "elapsed": 223,
     "status": "ok",
     "timestamp": 1728903203617,
     "user": {
      "displayName": "Temi Olugbade",
      "userId": "13847897350210385961"
     },
     "user_tz": -60
    },
    "id": "bibkBao6qPe1"
   },
   "outputs": [],
   "source": [
    "%matplotlib inline\n",
    "\n",
    "import numpy\n",
    "from sklearn import linear_model\n",
    "from sklearn.metrics import mean_squared_error\n",
    "import matplotlib.pyplot as plt\n",
    "\n",
    "\n",
    "# Set up the random number generator\n",
    "rng =  numpy.random.default_rng()"
   ]
  },
  {
   "cell_type": "markdown",
   "metadata": {
    "id": "SS3p1FHFqPe4"
   },
   "source": [
    "# Section 2 - Train linear regression model 1"
   ]
  },
  {
   "cell_type": "code",
   "execution_count": 3,
   "metadata": {
    "colab": {
     "base_uri": "https://localhost:8080/"
    },
    "executionInfo": {
     "elapsed": 224,
     "status": "ok",
     "timestamp": 1728903205118,
     "user": {
      "displayName": "Temi Olugbade",
      "userId": "13847897350210385961"
     },
     "user_tz": -60
    },
    "id": "7VG1xu2MqPe5",
    "outputId": "5a430ed5-f6a5-4ff9-f57a-5eedd56c405f"
   },
   "outputs": [
    {
     "name": "stdout",
     "output_type": "stream",
     "text": [
      "A randomly generated n x d input data where n=10 and d=1:\n",
      "[[0.28388012]\n",
      " [0.22878861]\n",
      " [0.33388041]\n",
      " [0.01196421]\n",
      " [0.12321489]\n",
      " [0.20227198]\n",
      " [0.19133929]\n",
      " [0.51846163]\n",
      " [0.83479879]\n",
      " [0.21648236]]\n",
      "\n",
      "The weight (w): [[0.16021412]]\n",
      "The bias (b): [0.17470585]\n",
      "\n",
      "Mean squared error (error on training data): 0.02 \n"
     ]
    }
   ],
   "source": [
    "# Generate random data between 0 and 1\n",
    "# with number of data instances (n) = 10\n",
    "# number of features (d) = 1\n",
    "# number of labels = 1\n",
    "training_data_x = rng.random((10, 1))\n",
    "training_labels_y = rng.random((10, 1))\n",
    "\n",
    "print('A randomly generated n x d input data where n=10 and d=1:')\n",
    "print(training_data_x)\n",
    "\n",
    "# Train a linear regression model\n",
    "lr_model_1 = linear_model.LinearRegression()\n",
    "lr_model_1.fit(training_data_x, training_labels_y)\n",
    "print(\"\\nThe weight (w):\",  lr_model_1.coef_)\n",
    "print(\"The bias (b):\",  lr_model_1.intercept_)\n",
    "\n",
    "# Check the performance of the model on the data used to train it\n",
    "training_pred_y = lr_model_1.predict(training_data_x)\n",
    "print(\"\\nMean squared error (error on training data): %.2f \" % mean_squared_error(training_labels_y, training_pred_y))\n",
    "\n",
    "\n"
   ]
  },
  {
   "cell_type": "markdown",
   "metadata": {
    "id": "eQaPiq1oP0mO"
   },
   "source": [
    "# Section 3 - Plot linear regression model 1"
   ]
  },
  {
   "cell_type": "code",
   "execution_count": 4,
   "metadata": {
    "colab": {
     "base_uri": "https://localhost:8080/",
     "height": 0
    },
    "executionInfo": {
     "elapsed": 568,
     "status": "ok",
     "timestamp": 1728903208047,
     "user": {
      "displayName": "Temi Olugbade",
      "userId": "13847897350210385961"
     },
     "user_tz": -60
    },
    "id": "U1bHFBY4P2Ta",
    "outputId": "68c4a982-2025-40c3-c68d-36107cc17f9e"
   },
   "outputs": [
    {
     "data": {
      "image/png": "[encoded data removed]",
      "text/plain": [
       "<Figure size 640x480 with 1 Axes>"
      ]
     },
     "metadata": {},
     "output_type": "display_data"
    }
   ],
   "source": [
    "# Plot data and model\n",
    "plt.scatter(training_data_x, training_labels_y, color=\"blue\")\n",
    "plt.plot(training_data_x, training_pred_y, color=\"black\", linewidth=3)\n",
    "\n",
    "plt.xlabel('x', size=20)\n",
    "plt.ylabel('y', size=20)\n",
    "plt.title('Linear regression model 1 visualization \\n', size=20)\n",
    "\n",
    "plt.show()"
   ]
  },
  {
   "cell_type": "markdown",
   "metadata": {
    "id": "FqTOU6qpuyRd"
   },
   "source": [
    "# Section 4 - Train linear regression model 2"
   ]
  },
  {
   "cell_type": "code",
   "execution_count": 5,
   "metadata": {
    "colab": {
     "base_uri": "https://localhost:8080/"
    },
    "executionInfo": {
     "elapsed": 255,
     "status": "ok",
     "timestamp": 1728903209548,
     "user": {
      "displayName": "Temi Olugbade",
      "userId": "13847897350210385961"
     },
     "user_tz": -60
    },
    "id": "_l9XfyeLsxr2",
    "outputId": "f1dcba10-7485-42af-b1f8-3c253beef17c"
   },
   "outputs": [
    {
     "name": "stdout",
     "output_type": "stream",
     "text": [
      "\n",
      "The weights (w): [[-0.15045706  0.16062007 -0.09058789 -0.06676032 -0.20358833 -0.01714196\n",
      "   0.08106521 -0.18029109  0.12294234  0.15713596  0.12571442 -0.03390397\n",
      "  -0.04999434 -0.0833615   0.1072718  -0.16772929  0.03754299 -0.24160001\n",
      "  -0.16621017 -0.0388485 ]]\n",
      "\n",
      "The bias (b): [0.84011417]\n",
      "\n",
      "Mean squared error (training error): 0.07 \n"
     ]
    }
   ],
   "source": [
    "# Generate random data between 0 and 1\n",
    "# with number of data instances (n) = 100\n",
    "# number of features (d) = 20\n",
    "# number of labels = 1\n",
    "training_data_x = rng.random((100, 20))\n",
    "training_labels_y = rng.random((100, 1))\n",
    "\n",
    "# Train a linear regression model\n",
    "lr_model_2 = linear_model.LinearRegression()\n",
    "lr_model_2.fit(training_data_x, training_labels_y)\n",
    "print(\"\\nThe weights (w):\",  lr_model_2.coef_)\n",
    "print(\"\\nThe bias (b):\",  lr_model_2.intercept_)\n",
    "\n",
    "# Check the performance of the model on the data used to train it\n",
    "training_pred_y = lr_model_2.predict(training_data_x)\n",
    "print(\"\\nMean squared error (training error): %.2f \" % mean_squared_error(training_labels_y, training_pred_y))\n",
    "\n"
   ]
  },
  {
   "cell_type": "markdown",
   "metadata": {
    "id": "XAmcTJuGTa7_"
   },
   "source": [
    "## Reflections"
   ]
  },
  {
   "cell_type": "markdown",
   "metadata": {
    "id": "qDMXHuw5TaFe"
   },
   "source": [
    "\n",
    "\n",
    "*   Why are the 20 weights for model 2, but only one for model 1?\n",
    "*   Why is there one bias for both models?\n",
    "\n"
   ]
  },
  {
   "cell_type": "markdown",
   "metadata": {
    "id": "QsKIewOMVZdL"
   },
   "source": [
    "**Solution**"
   ]
  },
  {
   "cell_type": "markdown",
   "metadata": {
    "id": "fuW3bd6zVY40"
   },
   "source": [
    "The number of weights matches the number of features, whereas there is only one bias per basic linear model."
   ]
  },
  {
   "cell_type": "markdown",
   "metadata": {
    "id": "lPe4tiZ8qPe6"
   },
   "source": [
    "# Section 5 - Evaluate linear regression model 2"
   ]
  },
  {
   "cell_type": "markdown",
   "metadata": {
    "id": "RgMNi6U6Um5l"
   },
   "source": [
    "*   Generate a new data instance to evaluate model 2\n",
    "*   What is the mean squared error obtained for this instance?\n",
    "\n"
   ]
  },
  {
   "cell_type": "markdown",
   "metadata": {
    "id": "dxe1kkV5VDiz"
   },
   "source": [
    "**Solution**"
   ]
  },
  {
   "cell_type": "code",
   "execution_count": 6,
   "metadata": {
    "colab": {
     "base_uri": "https://localhost:8080/"
    },
    "executionInfo": {
     "elapsed": 342,
     "status": "ok",
     "timestamp": 1728903212151,
     "user": {
      "displayName": "Temi Olugbade",
      "userId": "13847897350210385961"
     },
     "user_tz": -60
    },
    "id": "lslk-NyQqPe6",
    "outputId": "bc22a48f-9780-4789-d55f-6c08434192b6"
   },
   "outputs": [
    {
     "name": "stdout",
     "output_type": "stream",
     "text": [
      "\n",
      "Mean squared error (error on test data): 0.30 \n"
     ]
    }
   ],
   "source": [
    "\n",
    "# Generate random data between 0 and 1\n",
    "# with number of data instances (n) = 1\n",
    "# number of features (d) = 20\n",
    "# number of labels = 1\n",
    "test_data_x = rng.random((1, 20))\n",
    "test_labels_y = rng.random((1, 1))\n",
    "\n",
    "# Check the performance of the model on test data not seen by the model in training\n",
    "test_pred_y = lr_model_2.predict(test_data_x)\n",
    "print(\"\\nMean squared error (error on test data): %.2f \" % mean_squared_error(test_labels_y, test_pred_y))\n",
    "\n"
   ]
  },
  {
   "cell_type": "markdown",
   "metadata": {
    "id": "eXBbTaUsWp9x"
   },
   "source": [
    "# Section 6 - Explore the effects of L1 and L2 regularization"
   ]
  },
  {
   "cell_type": "markdown",
   "metadata": {
    "id": "Kgt_0IwhW2HZ"
   },
   "source": [
    "*   Generate new training and test data\n",
    "*   Train and evaluate a linear regression model\n",
    "  * See above examples; also see https://scikit-learn.org/stable/modules/generated/sklearn.linear_model.LinearRegression.html)\n",
    "*   Train and evaluate a linear regression model with L2 regularization\n",
    "  * Set alpha to 0.5\n",
    "  * See https://scikit-learn.org/stable/modules/generated/sklearn.linear_model.Ridge.html#sklearn.linear_model.Ridge)\n",
    "*   Train and evaluate a linear regression model with L1 regularization\n",
    "  * Set alpha to 0.5\n",
    "  * See https://scikit-learn.org/stable/modules/generated/sklearn.linear_model.Lasso.html#sklearn.linear_model.Lasso)\n",
    "*   What are the effects of regularization that you notice?\n",
    "  * See Week 1 lecture\n",
    "  * Hint - Compare the weights (and bias) and the errors.\n",
    "\n",
    "\n"
   ]
  },
  {
   "cell_type": "markdown",
   "metadata": {
    "id": "9irrZJxwXqgD"
   },
   "source": [
    "**Solution**"
   ]
  },
  {
   "cell_type": "code",
   "execution_count": 8,
   "metadata": {
    "colab": {
     "base_uri": "https://localhost:8080/"
    },
    "executionInfo": {
     "elapsed": 346,
     "status": "ok",
     "timestamp": 1728903213996,
     "user": {
      "displayName": "Temi Olugbade",
      "userId": "13847897350210385961"
     },
     "user_tz": -60
    },
    "id": "5XJZ3hg7YpIO",
    "outputId": "e5874eb5-9560-41bf-e599-82e199f05504"
   },
   "outputs": [
    {
     "name": "stdout",
     "output_type": "stream",
     "text": [
      "\n",
      "The weights (w): [[ 0.00617432  0.05965724 -0.12747016  0.09718806  0.0525566   0.14374438\n",
      "  -0.18209548 -0.10426405 -0.05554377  0.05777643 -0.05601167  0.11986601\n",
      "   0.08834303 -0.02644918 -0.01092193  0.06218548  0.26895439  0.1240626\n",
      "  -0.0004279   0.02732959]]\n",
      "The bias (b): [0.22750078]\n",
      "\n",
      "The weights (w) - L2 reg: [ 0.00661953  0.05331702 -0.1152128   0.08949926  0.04720204  0.12999499\n",
      " -0.1679716  -0.09444967 -0.04741017  0.05746396 -0.05010647  0.10772285\n",
      "  0.07949479 -0.01873762 -0.01326146  0.05467319  0.24993131  0.10871263\n",
      " -0.00357568  0.02333299]\n",
      "The bias (b) - L2 reg: [0.24960755]\n",
      "\n",
      "The weights (w) - L1 reg: [ 0.  0. -0.  0.  0.  0. -0. -0. -0.  0. -0.  0.  0.  0. -0.  0.  0.  0.\n",
      " -0.  0.]\n",
      "The bias (b) - L1 reg: [0.48453035]\n",
      "\n",
      "\n",
      "Mean squared error (training error): 0.08 \n",
      "Mean squared error (training error) - L2: 0.08 \n",
      "Mean squared error (training error) - L1: 0.09 \n",
      "\n",
      "Mean squared error (error on test data): 0.07 \n",
      "Mean squared error (error on test data) - L2: 0.06 \n",
      "Mean squared error (error on test data) - L1: 0.07 \n",
      "\n"
     ]
    }
   ],
   "source": [
    "# Generate random data between 0 and 1\n",
    "# with number of data instances (n) = 100\n",
    "# number of features (d) = 20\n",
    "# number of labels = 1\n",
    "training_data_x = rng.random((100, 20))\n",
    "training_labels_y = rng.random((100, 1))\n",
    "test_data_x = rng.random((5, 20))\n",
    "test_labels_y = rng.random((5, 1))\n",
    "\n",
    "# Train a linear regression model\n",
    "lr_model = linear_model.LinearRegression()\n",
    "lr_model.fit(training_data_x, training_labels_y)\n",
    "print(\"\\nThe weights (w):\",  lr_model.coef_)\n",
    "print(\"The bias (b):\",  lr_model.intercept_)\n",
    "\n",
    "alpha = 0.5\n",
    "\n",
    "# Train a linear regression model with L2 regularization\n",
    "lr_model_L2 = linear_model.Ridge(alpha=alpha)\n",
    "lr_model_L2.fit(training_data_x, training_labels_y)\n",
    "print(\"\\nThe weights (w) - L2 reg:\",  lr_model_L2.coef_)\n",
    "print(\"The bias (b) - L2 reg:\",  lr_model_L2.intercept_)\n",
    "\n",
    "# Train a linear regression model with L1 regularization\n",
    "lr_model_L1 = linear_model.Lasso(alpha=alpha)\n",
    "lr_model_L1.fit(training_data_x, training_labels_y)\n",
    "print(\"\\nThe weights (w) - L1 reg:\",  lr_model_L1.coef_)\n",
    "print(\"The bias (b) - L1 reg:\",  lr_model_L1.intercept_)\n",
    "print()\n",
    "\n",
    "\n",
    "# Check the performance of the model on the data used to train it\n",
    "training_pred_y = lr_model.predict(training_data_x)\n",
    "training_pred_y_L2 = lr_model_L2.predict(training_data_x)\n",
    "training_pred_y_L1 = lr_model_L1.predict(training_data_x)\n",
    "print(\"\\nMean squared error (training error): %.2f \" % mean_squared_error(training_labels_y, training_pred_y))\n",
    "print(\"Mean squared error (training error) - L2: %.2f \" % mean_squared_error(training_labels_y, training_pred_y_L2))\n",
    "print(\"Mean squared error (training error) - L1: %.2f \" % mean_squared_error(training_labels_y, training_pred_y_L1))\n",
    "\n",
    "# Check the performance of the model on test data not seen by the model in training\n",
    "test_pred_y = lr_model.predict(test_data_x)\n",
    "test_pred_y_L2 = lr_model_L2.predict(test_data_x)\n",
    "test_pred_y_L1 = lr_model_L1.predict(test_data_x)\n",
    "print(\"\\nMean squared error (error on test data): %.2f \" % mean_squared_error(test_labels_y, test_pred_y))\n",
    "print(\"Mean squared error (error on test data) - L2: %.2f \" % mean_squared_error(test_labels_y, test_pred_y_L2))\n",
    "print(\"Mean squared error (error on test data) - L1: %.2f \" % mean_squared_error(test_labels_y, test_pred_y_L1))\n",
    "print()\n"
   ]
  },
  {
   "cell_type": "markdown",
   "metadata": {
    "id": "808uEO98bdsW"
   },
   "source": [
    "* With L2 regularization, you should see smaller weight values compared to no regularization.\n",
    "* With L1 regularization, you should see more weights that are value zero, compared to L2 and no regularization.\n",
    "* Remember from Week 1 lecture that regularization is a strategy for reducing overfitting to training data and making it more generalizable to unseen data (i.e. represented as the test data). See Week 1 lecture and Week 1 suggested readings for more on overfitting and regularization. As the experiments above are based on randomly generated data (for which there is likely no relationship between the features and labels that can be learnt by a model), you may not notice any effect of regularization on the mean squared errors."
   ]
  },
  {
   "cell_type": "markdown",
   "metadata": {
    "id": "x4cKOMKXqPe7"
   },
   "source": [
    "# Section 7 - Explore reproducibility\n"
   ]
  },
  {
   "cell_type": "markdown",
   "metadata": {
    "id": "KIPtsaBlfeDi"
   },
   "source": [
    "* Run Section 2 code multiple times (e.g. 3 times) - each time, copy and paste your outputs (training data, weight, bias, mean squared error) somewhere so that you can compare outputs across the multiple runs. What do you notice? What is the implication, and how could you address it?"
   ]
  },
  {
   "cell_type": "markdown",
   "metadata": {
    "id": "KVh7P-SAgL7d"
   },
   "source": [
    "**Solution**"
   ]
  },
  {
   "cell_type": "markdown",
   "metadata": {
    "id": "kcLunje7gOP5"
   },
   "source": [
    "* As no random seed is set in Section 1, the random data generated in each run of Section 2 code is different, and this affects everything else in the section.\n",
    "* To address this, you need to replace\n",
    "\n",
    ">`rng = numpy.random.default_rng(random_seed)`\n",
    "\n",
    "  in Section 1 with\n",
    "\n",
    ">```\n",
    "> random_seed = 1\n",
    "> rng = numpy.random.default_rng(random_seed)\n",
    "\n",
    "* You can set *random_seed* to any integer.\n",
    "\n",
    "* There is random number generation at several different levels within available software libraries for building and evaluating machine learning models. It is your responsibility as a machine learning scientist to take note of the points in the library you are using (or in your code) where randomness is introduced and address it so as to have reproducible models and model evaluation results.\n",
    "\n",
    "* Addressing it is usually as simple as applying a random seed (e.g. for both Python and the specific machine learning library functions being used). However, note that some machine learning libraries, e.g. Tensorflow 2.11 GPU, have in them randomness that cannot be completely eliminated by the library user. You should look for the section on reproducibility in the documentation for the machine learning library that you want to use to be sure how randomness may (or not) be addressed for the given library."
   ]
  },
  {
   "cell_type": "markdown",
   "metadata": {
    "id": "NS8-6nL6dzi3"
   },
   "source": [
    "# Section 8 - Explore the effect of alpha on L1 and L2 regularization"
   ]
  },
  {
   "cell_type": "markdown",
   "metadata": {
    "id": "avIg1Nmsd7hq"
   },
   "source": [
    "* Using your code in Section 6, compare the effect of multiple alpha values, e.g. alpha = 0.000000001, 0.0001, 0.1, on regularization."
   ]
  },
  {
   "cell_type": "markdown",
   "metadata": {
    "id": "vcQV0blGjeSJ"
   },
   "source": [
    "**Solution**"
   ]
  },
  {
   "cell_type": "markdown",
   "metadata": {
    "id": "kgvg53Fjjhx8"
   },
   "source": [
    "You will find that higher values of alpha increase the effect of regularization, and alpha value of zero corresponds to no regularization applied."
   ]
  }
 ],
 "metadata": {
  "colab": {
   "collapsed_sections": [
    "eFg7aL7BqPex",
    "hsv7Ks_9qPe1",
    "SS3p1FHFqPe4",
    "eQaPiq1oP0mO",
    "FqTOU6qpuyRd",
    "lPe4tiZ8qPe6",
    "eXBbTaUsWp9x",
    "x4cKOMKXqPe7",
    "NS8-6nL6dzi3"
   ],
   "provenance": []
  },
  "kernelspec": {
   "display_name": "Python 3",
   "language": "python",
   "name": "python3"
  },
  "language_info": {
   "codemirror_mode": {
    "name": "ipython",
    "version": 3
   },
   "file_extension": ".py",
   "mimetype": "text/x-python",
   "name": "python",
   "nbconvert_exporter": "python",
   "pygments_lexer": "ipython3",
   "version": "3.13.1"
  }
 },
 "nbformat": 4,
 "nbformat_minor": 0
}
