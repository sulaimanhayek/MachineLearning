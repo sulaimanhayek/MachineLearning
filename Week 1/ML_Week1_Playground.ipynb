{
 "cells": [
  {
   "cell_type": "markdown",
   "metadata": {},
   "source": [
    "## Goal of this notebook:\n",
    "The goal in this notebook is to understand linear regression and play with the training and testing data to monitor linear regression model. we'll generate random data and labels that probably has no relationship. The aim is to see the output weights, Loss, and then apply Ridge (L2 regularization) and Lasso (L1 regularization)\n"
   ]
  }
 ],
 "metadata": {
  "language_info": {
   "name": "python"
  }
 },
 "nbformat": 4,
 "nbformat_minor": 2
}
