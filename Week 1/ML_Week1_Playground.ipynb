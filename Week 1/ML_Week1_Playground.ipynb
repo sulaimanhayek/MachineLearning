{
 "cells": [
  {
   "cell_type": "markdown",
   "metadata": {},
   "source": [
    "## Goal of this notebook:\n",
    "The goal in this notebook is to understand linear regression and play with the training and testing data to monitor linear regression model. we'll generate random data and labels that probably has no relationship. The aim is to see the output weights, Loss, and then apply Ridge (L2 regularization) and Lasso (L1 regularization)\n"
   ]
  },
  {
   "cell_type": "code",
   "execution_count": 3,
   "metadata": {},
   "outputs": [],
   "source": [
    "%matplotlib inline\n",
    "\n",
    "import numpy\n",
    "from sklearn import linear_model\n",
    "from sklearn.metrics import mean_squared_error\n",
    "import matplotlib.pyplot as plt\n",
    "\n",
    " # now we set up the random number generator\n",
    "rng = numpy.random.default_rng()\n"
   ]
  },
  {
   "cell_type": "markdown",
   "metadata": {},
   "source": [
    "## Train Linear Regression Model 1"
   ]
  },
  {
   "cell_type": "code",
   "execution_count": 5,
   "metadata": {},
   "outputs": [
    {
     "name": "stdout",
     "output_type": "stream",
     "text": [
      "A randomly generated n x d input data where n=10 and d=1:\n",
      "[[0.13163648]\n",
      " [0.01170369]\n",
      " [0.28145005]\n",
      " [0.29594587]\n",
      " [0.21309662]\n",
      " [0.87228549]\n",
      " [0.07343192]\n",
      " [0.48834598]\n",
      " [0.36422611]\n",
      " [0.96561372]]\n",
      "[[0.08760261]\n",
      " [0.14742505]\n",
      " [0.29395943]\n",
      " [0.14064548]\n",
      " [0.87593999]\n",
      " [0.46013618]\n",
      " [0.53374558]\n",
      " [0.04905014]\n",
      " [0.62606988]\n",
      " [0.4287286 ]]\n"
     ]
    }
   ],
   "source": [
    "# Generate random data between 0 and 1\n",
    "# number of data instances (n) = 10\n",
    "# number of features (d) = 1\n",
    "# number of labels = 1\n",
    "training_data_x = rng.random((10, 1))\n",
    "training_labels_y = rng.random((10, 1))\n",
    "print('A randomly generated n x d input data where n=10 and d=1:')\n",
    "print(training_data_x)\n",
    "print(training_labels_y)"
   ]
  },
  {
   "cell_type": "markdown",
   "metadata": {},
   "source": [
    "Right, now that we have the data and the labels, we can train our linear regression model."
   ]
  },
  {
   "cell_type": "code",
   "execution_count": 10,
   "metadata": {},
   "outputs": [
    {
     "name": "stdout",
     "output_type": "stream",
     "text": [
      "\n",
      " The weight (w): [[0.0896965]]\n",
      "The bias (b)L [0.3311629]\n",
      "\n",
      " The predicted labels:\n",
      "[[0.34297023]\n",
      " [0.33221268]\n",
      " [0.35640798]\n",
      " [0.35770821]\n",
      " [0.35027692]\n",
      " [0.40940386]\n",
      " [0.33774948]\n",
      " [0.37496582]\n",
      " [0.36383271]\n",
      " [0.41777507]]\n",
      "\n",
      "Mean squared error (error on training data): 0.06 \n"
     ]
    }
   ],
   "source": [
    "# Train a linear regrwession model\n",
    "lr_model_1 = linear_model.LinearRegression()\n",
    "lr_model_1.fit(training_data_x, training_labels_y)\n",
    "print(\"\\n The weight (w):\", lr_model_1.coef_)\n",
    "print(\"The bias (b)L\", lr_model_1.intercept_)\n",
    "\n",
    "training_pred_y = lr_model_1.predict(training_data_x)\n",
    "print(\"\\n The predicted labels:\")\n",
    "print(training_pred_y)\n",
    "# and now we print the mean squared error which is the difference between the predicted labels and the training data.\n",
    "print(\"\\nMean squared error (error on training data): %.2f \" % mean_squared_error(training_labels_y, training_pred_y))\n",
    "\n"
   ]
  },
  {
   "cell_type": "markdown",
   "metadata": {},
   "source": [
    "Right, now we will be visualising the training data and the labels vs. the testing data and the predicted labels."
   ]
  },
  {
   "cell_type": "code",
   "execution_count": 11,
   "metadata": {},
   "outputs": [
    {
     "data": {
      "image/png": "[encoded data removed]",
      "text/plain": [
       "<Figure size 640x480 with 1 Axes>"
      ]
     },
     "metadata": {},
     "output_type": "display_data"
    }
   ],
   "source": [
    "# Plot data and model\n",
    "plt.scatter(training_data_x, training_labels_y, color=\"blue\")\n",
    "plt.plot(training_data_x, training_pred_y, color=\"green\", linewidth=3)\n",
    "\n",
    "plt.xlabel('x', size=20)\n",
    "plt.ylabel('y', size=20)\n",
    "plt.title('Linear regression model 1 visualization \\n', size=20)\n",
    "\n",
    "plt.show()"
   ]
  },
  {
   "cell_type": "markdown",
   "metadata": {},
   "source": [
    "## Train linear regression model 2\n",
    "This time we will increase the number of data instances to 100, number of features to 20 and just one label!\n"
   ]
  },
  {
   "cell_type": "code",
   "execution_count": 13,
   "metadata": {},
   "outputs": [
    {
     "name": "stdout",
     "output_type": "stream",
     "text": [
      "\n",
      " The weights (w): [[-0.05824136  0.17721887  0.11457736  0.04889101  0.01211959 -0.01921431\n",
      "   0.16861296  0.05258749 -0.14215267 -0.42081423 -0.05027505 -0.03739672\n",
      "   0.06650557 -0.11913899 -0.04451505 -0.0076841  -0.21255123 -0.16261738\n",
      "  -0.12243848 -0.03554292]]\n",
      "The bias (b): [0.95123891]\n",
      "\n",
      " The predicted labels:\n",
      "[[0.56765026]\n",
      " [0.71452877]\n",
      " [0.44241991]\n",
      " [0.40523862]\n",
      " [0.5161667 ]\n",
      " [0.68069929]\n",
      " [0.53009649]\n",
      " [0.62197273]\n",
      " [0.46408204]\n",
      " [0.72590712]\n",
      " [0.40162547]\n",
      " [0.38477557]\n",
      " [0.63340539]\n",
      " [0.65173282]\n",
      " [0.65033619]\n",
      " [0.16751063]\n",
      " [0.45874003]\n",
      " [0.29470699]\n",
      " [0.64642157]\n",
      " [0.54446875]\n",
      " [0.60451243]\n",
      " [0.75815329]\n",
      " [0.77429081]\n",
      " [0.77826557]\n",
      " [0.23383719]\n",
      " [0.71124564]\n",
      " [0.33589215]\n",
      " [0.52680209]\n",
      " [0.245633  ]\n",
      " [0.34454198]\n",
      " [0.72742948]\n",
      " [0.76788872]\n",
      " [0.64682131]\n",
      " [0.73662955]\n",
      " [0.56539631]\n",
      " [0.70922046]\n",
      " [0.3975765 ]\n",
      " [0.77040041]\n",
      " [0.52740213]\n",
      " [0.68600652]\n",
      " [0.45160345]\n",
      " [0.62967402]\n",
      " [0.61636019]\n",
      " [0.60717799]\n",
      " [0.33424747]\n",
      " [0.47875754]\n",
      " [0.33818028]\n",
      " [0.33299145]\n",
      " [0.72865198]\n",
      " [0.69937949]\n",
      " [0.48770084]\n",
      " [0.48473679]\n",
      " [0.41984248]\n",
      " [0.90057656]\n",
      " [0.70063716]\n",
      " [0.34200085]\n",
      " [0.77561245]\n",
      " [0.53200106]\n",
      " [0.4024559 ]\n",
      " [0.58706083]\n",
      " [0.60182329]\n",
      " [0.52370495]\n",
      " [0.48372882]\n",
      " [0.59775908]\n",
      " [0.2148233 ]\n",
      " [0.48700881]\n",
      " [0.63350431]\n",
      " [0.49886041]\n",
      " [0.78492392]\n",
      " [0.44439805]\n",
      " [0.33678883]\n",
      " [0.57158409]\n",
      " [0.53524203]\n",
      " [0.6113385 ]\n",
      " [0.54113024]\n",
      " [0.53667347]\n",
      " [0.43237336]\n",
      " [0.47233473]\n",
      " [0.58901774]\n",
      " [0.50156017]\n",
      " [0.41799014]\n",
      " [0.5560155 ]\n",
      " [0.67253123]\n",
      " [0.71435987]\n",
      " [0.71396057]\n",
      " [0.48947791]\n",
      " [0.86599577]\n",
      " [0.5545743 ]\n",
      " [0.7258496 ]\n",
      " [0.39304833]\n",
      " [0.45083241]\n",
      " [0.65253392]\n",
      " [0.60237614]\n",
      " [0.8561764 ]\n",
      " [0.49402024]\n",
      " [0.71664943]\n",
      " [0.42686129]\n",
      " [0.58231594]\n",
      " [0.84048338]\n",
      " [0.69152447]]\n",
      "\n",
      "Mean squared error (training error): 0.05 \n"
     ]
    }
   ],
   "source": [
    "training_data_x  = rng.random((100,20))\n",
    "training_labels_y = rng.random((100,1))\n",
    "\n",
    "# train the linear regression model\n",
    "lr_model_2 = linear_model.LinearRegression()\n",
    "lr_model_2.fit(training_data_x, training_labels_y)\n",
    "print(\"\\n The weights (w):\", lr_model_2.coef_)\n",
    "print(\"The bias (b):\", lr_model_2.intercept_)\n",
    "\n",
    "training_pred_y = lr_model_2.predict(training_data_x)\n",
    "print(\"\\n The predicted labels:\")\n",
    "print(training_pred_y)\n",
    "print(\"\\nMean squared error (training error): %.2f \" % mean_squared_error(training_labels_y, training_pred_y))\n",
    "\n"
   ]
  },
  {
   "cell_type": "markdown",
   "metadata": {},
   "source": [
    "Evaluate linear regression model 2\n",
    "\n",
    "- Generate new data instance to evaluate model 2\n",
    "- What is the mean squared error obtained for this instance?\n"
   ]
  },
  {
   "cell_type": "code",
   "execution_count": 14,
   "metadata": {},
   "outputs": [
    {
     "name": "stdout",
     "output_type": "stream",
     "text": [
      "\n",
      " Mean squared error (test error): 0.01 \n"
     ]
    }
   ],
   "source": [
    "# Generate random data between 0 and 1\n",
    "# With number of data instances (n) = 1\n",
    "# Number of features (d) = 20\n",
    "# Number of labels = 1\n",
    "\n",
    "test_data_x = rng.random((1,20))\n",
    "test_labels_y = rng.random((1,1))\n",
    "\n",
    "# check the performance\n",
    "test_pred_y = lr_model_2.predict(test_data_x)\n",
    "print(\"\\n Mean squared error (test error): %.2f \" % mean_squared_error(test_labels_y, test_pred_y))\n"
   ]
  },
  {
   "cell_type": "markdown",
   "metadata": {},
   "source": [
    "## Explore the effects of L1 and L2 regularization\n",
    "\n",
    "- Generate new training and test data \n",
    "- Train and evaluate a linear regression model.\n",
    "- Train and evaluate a linear regression model with L2 regularization\n",
    "- Set alpha to 0.5\n",
    "- Train and evaulate a linear regression model with L1 regularization\n",
    "- Set alpha to 0.5\n"
   ]
  },
  {
   "cell_type": "code",
   "execution_count": 15,
   "metadata": {},
   "outputs": [
    {
     "name": "stdout",
     "output_type": "stream",
     "text": [
      "\n",
      " The weights (w): [[-0.03234756 -0.09682987  0.01365296  0.14772594  0.09676647 -0.04610311\n",
      "   0.02944693 -0.06596337  0.03860635 -0.18381639  0.15629911  0.16414714\n",
      "   0.00885502 -0.0571742  -0.03849718 -0.10037224  0.06070313 -0.15471198\n",
      "   0.17555245  0.07593734]]\n",
      "The bias (b): [0.37275776]\n",
      "\n",
      " The weights (w) - L2 Regularization: [-0.02821723 -0.09722209  0.0128688   0.14025131  0.09584363 -0.04648424\n",
      "  0.02421344 -0.06018033  0.03373715 -0.16914055  0.14955475  0.15237217\n",
      "  0.00706431 -0.05509481 -0.03421412 -0.08658162  0.05598496 -0.14440799\n",
      "  0.160347    0.06849134]\n",
      "The bias (b) - L2 Regularization: [0.37954922]\n",
      "\n",
      " The weights (w) - L1 Regularization: [-0. -0.  0.  0.  0. -0. -0. -0.  0. -0.  0.  0.  0. -0. -0. -0.  0. -0.\n",
      "  0.  0.]\n",
      "The bias (b) - L1 Regularization: [0.46983797]\n",
      "\n",
      "Mean squared error (error on test data): 0.06 \n",
      "Mean squared error (error on test data) - L2: 0.06 \n",
      "Mean squared error (error on test data) - L1: 0.07 \n",
      "\n"
     ]
    }
   ],
   "source": [
    "# generate random data between 0 and 1\n",
    "# number of data instances = 100\n",
    "# number of features = 20\n",
    "# number of labels = 1\n",
    "training_data_x = rng.random((100,20))\n",
    "training_labels_y = rng.random((100,1))\n",
    "test_data_x = rng.random((5,20))\n",
    "test_labels_y = rng.random((5,1))\n",
    "\n",
    "lr_model = linear_model.LinearRegression()\n",
    "lr_model.fit(training_data_x, training_labels_y)\n",
    "print(\"\\n The weights (w):\", lr_model.coef_)\n",
    "print(\"The bias (b):\", lr_model.intercept_)\n",
    "\n",
    "alpha = 0.5\n",
    "\n",
    "lr_model_L2 = linear_model.Ridge(alpha=alpha)\n",
    "lr_model_L2.fit(training_data_x, training_labels_y)\n",
    "print(\"\\n The weights (w) - L2 Regularization:\", lr_model_L2.coef_)\n",
    "print(\"The bias (b) - L2 Regularization:\", lr_model_L2.intercept_)\n",
    "\n",
    "lr_model_L1 = linear_model.Lasso(alpha=alpha)\n",
    "lr_model_L1.fit(training_data_x, training_labels_y)\n",
    "print(\"\\n The weights (w) - L1 Regularization:\", lr_model_L1.coef_) \n",
    "print(\"The bias (b) - L1 Regularization:\", lr_model_L1.intercept_)  \n",
    "\n",
    "test_pred_y = lr_model.predict(test_data_x)\n",
    "test_pred_y_L2 = lr_model_L2.predict(test_data_x)\n",
    "test_pred_y_L1 = lr_model_L1.predict(test_data_x)\n",
    "print(\"\\nMean squared error (error on test data): %.2f \" % mean_squared_error(test_labels_y, test_pred_y))\n",
    "print(\"Mean squared error (error on test data) - L2: %.2f \" % mean_squared_error(test_labels_y, test_pred_y_L2))\n",
    "print(\"Mean squared error (error on test data) - L1: %.2f \" % mean_squared_error(test_labels_y, test_pred_y_L1))\n",
    "print()"
   ]
  },
  {
   "cell_type": "markdown",
   "metadata": {},
   "source": [
    "Higher values of alpha increase the regularization effect, while zero value corresponds to no regularization."
   ]
  }
 ],
 "metadata": {
  "kernelspec": {
   "display_name": "Python 3",
   "language": "python",
   "name": "python3"
  },
  "language_info": {
   "codemirror_mode": {
    "name": "ipython",
    "version": 3
   },
   "file_extension": ".py",
   "mimetype": "text/x-python",
   "name": "python",
   "nbconvert_exporter": "python",
   "pygments_lexer": "ipython3",
   "version": "3.13.1"
  }
 },
 "nbformat": 4,
 "nbformat_minor": 2
}
